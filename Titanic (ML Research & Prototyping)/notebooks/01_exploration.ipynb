{
 "cells": [
  {
   "cell_type": "markdown",
   "id": "71d10566",
   "metadata": {},
   "source": [
    "<div style=\"text-align:center; font-size: 48px;\">Titanic Competition Kaggle</div>\n",
    "<div style=\"text-align:center; font-size: 36px;\">Exploration</div>"
   ]
  },
  {
   "cell_type": "markdown",
   "id": "c1314de4",
   "metadata": {},
   "source": [
    "# 1. Load libraries\n"
   ]
  },
  {
   "cell_type": "code",
   "execution_count": 1,
   "id": "e0be467f",
   "metadata": {},
   "outputs": [],
   "source": [
    "#library imports\n",
    "import pandas as pd\n",
    "import matplotlib.pyplot as plt\n",
    "import seaborn as sns \n",
    "import numpy as np \n",
    "\n",
    "sns.set_theme(style='darkgrid')\n",
    "sns.set_palette('dark')"
   ]
  },
  {
   "cell_type": "markdown",
   "id": "e31f7984",
   "metadata": {},
   "source": [
    "# 2. Load data\n"
   ]
  },
  {
   "cell_type": "code",
   "execution_count": 2,
   "id": "da4fe0d7",
   "metadata": {},
   "outputs": [],
   "source": [
    "# Load the training dataset\n",
    "df = pd.read_csv(\"../data/raw/train.csv\")"
   ]
  },
  {
   "cell_type": "markdown",
   "id": "a555e802",
   "metadata": {},
   "source": [
    "# 3. Overview\n"
   ]
  },
  {
   "cell_type": "markdown",
   "id": "1964f389",
   "metadata": {},
   "source": [
    "**🧾 Titanic Dataset: Variable Definitions**\n",
    "\n",
    "| **Variable** | **Definition** | **Key / Notes** |\n",
    "|--------------|----------------|-----------------|\n",
    "| `survival`   | Survival status | `0 = No`, `1 = Yes` |\n",
    "| `pclass`     | Ticket class (proxy for socio-economic status) | `1 = Upper`, `2 = Middle`, `3 = Lower` |\n",
    "| `sex`        | Sex | `male` / `female` |\n",
    "| `age`        | Age in years | Fractional if < 1; estimated ages shown as `xx.5` |\n",
    "| `sibsp`      | Number of siblings/spouses aboard | Siblings = brother, sister, stepbrother, stepsister; Spouses = husband, wife (mistresses/fiancés ignored) |\n",
    "| `parch`      | Number of parents/children aboard | Parents = mother, father; Children = son, daughter, stepchildren; nannies not counted |\n",
    "| `ticket`     | Ticket number | May contain letters or numbers |\n",
    "| `fare`       | Passenger fare | Numeric (in pounds) |\n",
    "| `cabin`      | Cabin number | Often missing; may contain multiple values |\n",
    "| `embarked`   | Port of embarkation | `C = Cherbourg`, `Q = Queenstown`, `S = Southampton` |"
   ]
  },
  {
   "cell_type": "code",
   "execution_count": 3,
   "id": "94d4af5a",
   "metadata": {},
   "outputs": [
    {
     "data": {
      "application/vnd.microsoft.datawrangler.viewer.v0+json": {
       "columns": [
        {
         "name": "index",
         "rawType": "object",
         "type": "string"
        },
        {
         "name": "0",
         "rawType": "object",
         "type": "unknown"
        },
        {
         "name": "1",
         "rawType": "object",
         "type": "unknown"
        },
        {
         "name": "2",
         "rawType": "object",
         "type": "unknown"
        },
        {
         "name": "3",
         "rawType": "object",
         "type": "unknown"
        },
        {
         "name": "4",
         "rawType": "object",
         "type": "unknown"
        }
       ],
       "ref": "8f08c200-dbfd-4f19-b7f3-bc049ba7ce39",
       "rows": [
        [
         "PassengerId",
         "1",
         "2",
         "3",
         "4",
         "5"
        ],
        [
         "Survived",
         "0",
         "1",
         "1",
         "1",
         "0"
        ],
        [
         "Pclass",
         "3",
         "1",
         "3",
         "1",
         "3"
        ],
        [
         "Name",
         "Braund, Mr. Owen Harris",
         "Cumings, Mrs. John Bradley (Florence Briggs Thayer)",
         "Heikkinen, Miss. Laina",
         "Futrelle, Mrs. Jacques Heath (Lily May Peel)",
         "Allen, Mr. William Henry"
        ],
        [
         "Sex",
         "male",
         "female",
         "female",
         "female",
         "male"
        ],
        [
         "Age",
         "22.0",
         "38.0",
         "26.0",
         "35.0",
         "35.0"
        ],
        [
         "SibSp",
         "1",
         "1",
         "0",
         "1",
         "0"
        ],
        [
         "Parch",
         "0",
         "0",
         "0",
         "0",
         "0"
        ],
        [
         "Ticket",
         "A/5 21171",
         "PC 17599",
         "STON/O2. 3101282",
         "113803",
         "373450"
        ],
        [
         "Fare",
         "7.25",
         "71.2833",
         "7.925",
         "53.1",
         "8.05"
        ],
        [
         "Cabin",
         null,
         "C85",
         null,
         "C123",
         null
        ],
        [
         "Embarked",
         "S",
         "C",
         "S",
         "S",
         "S"
        ]
       ],
       "shape": {
        "columns": 5,
        "rows": 12
       }
      },
      "text/html": [
       "<div>\n",
       "<style scoped>\n",
       "    .dataframe tbody tr th:only-of-type {\n",
       "        vertical-align: middle;\n",
       "    }\n",
       "\n",
       "    .dataframe tbody tr th {\n",
       "        vertical-align: top;\n",
       "    }\n",
       "\n",
       "    .dataframe thead th {\n",
       "        text-align: right;\n",
       "    }\n",
       "</style>\n",
       "<table border=\"1\" class=\"dataframe\">\n",
       "  <thead>\n",
       "    <tr style=\"text-align: right;\">\n",
       "      <th></th>\n",
       "      <th>0</th>\n",
       "      <th>1</th>\n",
       "      <th>2</th>\n",
       "      <th>3</th>\n",
       "      <th>4</th>\n",
       "    </tr>\n",
       "  </thead>\n",
       "  <tbody>\n",
       "    <tr>\n",
       "      <th>PassengerId</th>\n",
       "      <td>1</td>\n",
       "      <td>2</td>\n",
       "      <td>3</td>\n",
       "      <td>4</td>\n",
       "      <td>5</td>\n",
       "    </tr>\n",
       "    <tr>\n",
       "      <th>Survived</th>\n",
       "      <td>0</td>\n",
       "      <td>1</td>\n",
       "      <td>1</td>\n",
       "      <td>1</td>\n",
       "      <td>0</td>\n",
       "    </tr>\n",
       "    <tr>\n",
       "      <th>Pclass</th>\n",
       "      <td>3</td>\n",
       "      <td>1</td>\n",
       "      <td>3</td>\n",
       "      <td>1</td>\n",
       "      <td>3</td>\n",
       "    </tr>\n",
       "    <tr>\n",
       "      <th>Name</th>\n",
       "      <td>Braund, Mr. Owen Harris</td>\n",
       "      <td>Cumings, Mrs. John Bradley (Florence Briggs Th...</td>\n",
       "      <td>Heikkinen, Miss. Laina</td>\n",
       "      <td>Futrelle, Mrs. Jacques Heath (Lily May Peel)</td>\n",
       "      <td>Allen, Mr. William Henry</td>\n",
       "    </tr>\n",
       "    <tr>\n",
       "      <th>Sex</th>\n",
       "      <td>male</td>\n",
       "      <td>female</td>\n",
       "      <td>female</td>\n",
       "      <td>female</td>\n",
       "      <td>male</td>\n",
       "    </tr>\n",
       "    <tr>\n",
       "      <th>Age</th>\n",
       "      <td>22.0</td>\n",
       "      <td>38.0</td>\n",
       "      <td>26.0</td>\n",
       "      <td>35.0</td>\n",
       "      <td>35.0</td>\n",
       "    </tr>\n",
       "    <tr>\n",
       "      <th>SibSp</th>\n",
       "      <td>1</td>\n",
       "      <td>1</td>\n",
       "      <td>0</td>\n",
       "      <td>1</td>\n",
       "      <td>0</td>\n",
       "    </tr>\n",
       "    <tr>\n",
       "      <th>Parch</th>\n",
       "      <td>0</td>\n",
       "      <td>0</td>\n",
       "      <td>0</td>\n",
       "      <td>0</td>\n",
       "      <td>0</td>\n",
       "    </tr>\n",
       "    <tr>\n",
       "      <th>Ticket</th>\n",
       "      <td>A/5 21171</td>\n",
       "      <td>PC 17599</td>\n",
       "      <td>STON/O2. 3101282</td>\n",
       "      <td>113803</td>\n",
       "      <td>373450</td>\n",
       "    </tr>\n",
       "    <tr>\n",
       "      <th>Fare</th>\n",
       "      <td>7.25</td>\n",
       "      <td>71.2833</td>\n",
       "      <td>7.925</td>\n",
       "      <td>53.1</td>\n",
       "      <td>8.05</td>\n",
       "    </tr>\n",
       "    <tr>\n",
       "      <th>Cabin</th>\n",
       "      <td>NaN</td>\n",
       "      <td>C85</td>\n",
       "      <td>NaN</td>\n",
       "      <td>C123</td>\n",
       "      <td>NaN</td>\n",
       "    </tr>\n",
       "    <tr>\n",
       "      <th>Embarked</th>\n",
       "      <td>S</td>\n",
       "      <td>C</td>\n",
       "      <td>S</td>\n",
       "      <td>S</td>\n",
       "      <td>S</td>\n",
       "    </tr>\n",
       "  </tbody>\n",
       "</table>\n",
       "</div>"
      ],
      "text/plain": [
       "                                   0  \\\n",
       "PassengerId                        1   \n",
       "Survived                           0   \n",
       "Pclass                             3   \n",
       "Name         Braund, Mr. Owen Harris   \n",
       "Sex                             male   \n",
       "Age                             22.0   \n",
       "SibSp                              1   \n",
       "Parch                              0   \n",
       "Ticket                     A/5 21171   \n",
       "Fare                            7.25   \n",
       "Cabin                            NaN   \n",
       "Embarked                           S   \n",
       "\n",
       "                                                             1  \\\n",
       "PassengerId                                                  2   \n",
       "Survived                                                     1   \n",
       "Pclass                                                       1   \n",
       "Name         Cumings, Mrs. John Bradley (Florence Briggs Th...   \n",
       "Sex                                                     female   \n",
       "Age                                                       38.0   \n",
       "SibSp                                                        1   \n",
       "Parch                                                        0   \n",
       "Ticket                                                PC 17599   \n",
       "Fare                                                   71.2833   \n",
       "Cabin                                                      C85   \n",
       "Embarked                                                     C   \n",
       "\n",
       "                                  2  \\\n",
       "PassengerId                       3   \n",
       "Survived                          1   \n",
       "Pclass                            3   \n",
       "Name         Heikkinen, Miss. Laina   \n",
       "Sex                          female   \n",
       "Age                            26.0   \n",
       "SibSp                             0   \n",
       "Parch                             0   \n",
       "Ticket             STON/O2. 3101282   \n",
       "Fare                          7.925   \n",
       "Cabin                           NaN   \n",
       "Embarked                          S   \n",
       "\n",
       "                                                        3  \\\n",
       "PassengerId                                             4   \n",
       "Survived                                                1   \n",
       "Pclass                                                  1   \n",
       "Name         Futrelle, Mrs. Jacques Heath (Lily May Peel)   \n",
       "Sex                                                female   \n",
       "Age                                                  35.0   \n",
       "SibSp                                                   1   \n",
       "Parch                                                   0   \n",
       "Ticket                                             113803   \n",
       "Fare                                                 53.1   \n",
       "Cabin                                                C123   \n",
       "Embarked                                                S   \n",
       "\n",
       "                                    4  \n",
       "PassengerId                         5  \n",
       "Survived                            0  \n",
       "Pclass                              3  \n",
       "Name         Allen, Mr. William Henry  \n",
       "Sex                              male  \n",
       "Age                              35.0  \n",
       "SibSp                               0  \n",
       "Parch                               0  \n",
       "Ticket                         373450  \n",
       "Fare                             8.05  \n",
       "Cabin                             NaN  \n",
       "Embarked                            S  "
      ]
     },
     "execution_count": 3,
     "metadata": {},
     "output_type": "execute_result"
    }
   ],
   "source": [
    "df.head().T"
   ]
  },
  {
   "cell_type": "code",
   "execution_count": 4,
   "id": "0e558017",
   "metadata": {},
   "outputs": [
    {
     "name": "stdout",
     "output_type": "stream",
     "text": [
      "(891, 12)\n"
     ]
    }
   ],
   "source": [
    "print(df.shape)"
   ]
  },
  {
   "cell_type": "code",
   "execution_count": 5,
   "id": "6c738537",
   "metadata": {},
   "outputs": [
    {
     "name": "stdout",
     "output_type": "stream",
     "text": [
      "<class 'pandas.core.frame.DataFrame'>\n",
      "RangeIndex: 891 entries, 0 to 890\n",
      "Data columns (total 12 columns):\n",
      " #   Column       Non-Null Count  Dtype  \n",
      "---  ------       --------------  -----  \n",
      " 0   PassengerId  891 non-null    int64  \n",
      " 1   Survived     891 non-null    int64  \n",
      " 2   Pclass       891 non-null    int64  \n",
      " 3   Name         891 non-null    object \n",
      " 4   Sex          891 non-null    object \n",
      " 5   Age          714 non-null    float64\n",
      " 6   SibSp        891 non-null    int64  \n",
      " 7   Parch        891 non-null    int64  \n",
      " 8   Ticket       891 non-null    object \n",
      " 9   Fare         891 non-null    float64\n",
      " 10  Cabin        204 non-null    object \n",
      " 11  Embarked     889 non-null    object \n",
      "dtypes: float64(2), int64(5), object(5)\n",
      "memory usage: 83.7+ KB\n"
     ]
    }
   ],
   "source": [
    "df.info()"
   ]
  },
  {
   "cell_type": "code",
   "execution_count": 6,
   "id": "5d6b601e",
   "metadata": {},
   "outputs": [
    {
     "data": {
      "application/vnd.microsoft.datawrangler.viewer.v0+json": {
       "columns": [
        {
         "name": "index",
         "rawType": "object",
         "type": "string"
        },
        {
         "name": "PassengerId",
         "rawType": "float64",
         "type": "float"
        },
        {
         "name": "Survived",
         "rawType": "float64",
         "type": "float"
        },
        {
         "name": "Pclass",
         "rawType": "float64",
         "type": "float"
        },
        {
         "name": "Age",
         "rawType": "float64",
         "type": "float"
        },
        {
         "name": "SibSp",
         "rawType": "float64",
         "type": "float"
        },
        {
         "name": "Parch",
         "rawType": "float64",
         "type": "float"
        },
        {
         "name": "Fare",
         "rawType": "float64",
         "type": "float"
        }
       ],
       "ref": "df2104cc-d8c5-4628-8b86-3efc06078035",
       "rows": [
        [
         "count",
         "891.0",
         "891.0",
         "891.0",
         "714.0",
         "891.0",
         "891.0",
         "891.0"
        ],
        [
         "mean",
         "446.0",
         "0.3838383838383838",
         "2.308641975308642",
         "29.69911764705882",
         "0.5230078563411896",
         "0.38159371492704824",
         "32.204207968574636"
        ],
        [
         "std",
         "257.3538420152301",
         "0.4865924542648575",
         "0.836071240977049",
         "14.526497332334042",
         "1.1027434322934317",
         "0.8060572211299483",
         "49.6934285971809"
        ],
        [
         "min",
         "1.0",
         "0.0",
         "1.0",
         "0.42",
         "0.0",
         "0.0",
         "0.0"
        ],
        [
         "25%",
         "223.5",
         "0.0",
         "2.0",
         "20.125",
         "0.0",
         "0.0",
         "7.9104"
        ],
        [
         "50%",
         "446.0",
         "0.0",
         "3.0",
         "28.0",
         "0.0",
         "0.0",
         "14.4542"
        ],
        [
         "75%",
         "668.5",
         "1.0",
         "3.0",
         "38.0",
         "1.0",
         "0.0",
         "31.0"
        ],
        [
         "max",
         "891.0",
         "1.0",
         "3.0",
         "80.0",
         "8.0",
         "6.0",
         "512.3292"
        ]
       ],
       "shape": {
        "columns": 7,
        "rows": 8
       }
      },
      "text/html": [
       "<div>\n",
       "<style scoped>\n",
       "    .dataframe tbody tr th:only-of-type {\n",
       "        vertical-align: middle;\n",
       "    }\n",
       "\n",
       "    .dataframe tbody tr th {\n",
       "        vertical-align: top;\n",
       "    }\n",
       "\n",
       "    .dataframe thead th {\n",
       "        text-align: right;\n",
       "    }\n",
       "</style>\n",
       "<table border=\"1\" class=\"dataframe\">\n",
       "  <thead>\n",
       "    <tr style=\"text-align: right;\">\n",
       "      <th></th>\n",
       "      <th>PassengerId</th>\n",
       "      <th>Survived</th>\n",
       "      <th>Pclass</th>\n",
       "      <th>Age</th>\n",
       "      <th>SibSp</th>\n",
       "      <th>Parch</th>\n",
       "      <th>Fare</th>\n",
       "    </tr>\n",
       "  </thead>\n",
       "  <tbody>\n",
       "    <tr>\n",
       "      <th>count</th>\n",
       "      <td>891.000000</td>\n",
       "      <td>891.000000</td>\n",
       "      <td>891.000000</td>\n",
       "      <td>714.000000</td>\n",
       "      <td>891.000000</td>\n",
       "      <td>891.000000</td>\n",
       "      <td>891.000000</td>\n",
       "    </tr>\n",
       "    <tr>\n",
       "      <th>mean</th>\n",
       "      <td>446.000000</td>\n",
       "      <td>0.383838</td>\n",
       "      <td>2.308642</td>\n",
       "      <td>29.699118</td>\n",
       "      <td>0.523008</td>\n",
       "      <td>0.381594</td>\n",
       "      <td>32.204208</td>\n",
       "    </tr>\n",
       "    <tr>\n",
       "      <th>std</th>\n",
       "      <td>257.353842</td>\n",
       "      <td>0.486592</td>\n",
       "      <td>0.836071</td>\n",
       "      <td>14.526497</td>\n",
       "      <td>1.102743</td>\n",
       "      <td>0.806057</td>\n",
       "      <td>49.693429</td>\n",
       "    </tr>\n",
       "    <tr>\n",
       "      <th>min</th>\n",
       "      <td>1.000000</td>\n",
       "      <td>0.000000</td>\n",
       "      <td>1.000000</td>\n",
       "      <td>0.420000</td>\n",
       "      <td>0.000000</td>\n",
       "      <td>0.000000</td>\n",
       "      <td>0.000000</td>\n",
       "    </tr>\n",
       "    <tr>\n",
       "      <th>25%</th>\n",
       "      <td>223.500000</td>\n",
       "      <td>0.000000</td>\n",
       "      <td>2.000000</td>\n",
       "      <td>20.125000</td>\n",
       "      <td>0.000000</td>\n",
       "      <td>0.000000</td>\n",
       "      <td>7.910400</td>\n",
       "    </tr>\n",
       "    <tr>\n",
       "      <th>50%</th>\n",
       "      <td>446.000000</td>\n",
       "      <td>0.000000</td>\n",
       "      <td>3.000000</td>\n",
       "      <td>28.000000</td>\n",
       "      <td>0.000000</td>\n",
       "      <td>0.000000</td>\n",
       "      <td>14.454200</td>\n",
       "    </tr>\n",
       "    <tr>\n",
       "      <th>75%</th>\n",
       "      <td>668.500000</td>\n",
       "      <td>1.000000</td>\n",
       "      <td>3.000000</td>\n",
       "      <td>38.000000</td>\n",
       "      <td>1.000000</td>\n",
       "      <td>0.000000</td>\n",
       "      <td>31.000000</td>\n",
       "    </tr>\n",
       "    <tr>\n",
       "      <th>max</th>\n",
       "      <td>891.000000</td>\n",
       "      <td>1.000000</td>\n",
       "      <td>3.000000</td>\n",
       "      <td>80.000000</td>\n",
       "      <td>8.000000</td>\n",
       "      <td>6.000000</td>\n",
       "      <td>512.329200</td>\n",
       "    </tr>\n",
       "  </tbody>\n",
       "</table>\n",
       "</div>"
      ],
      "text/plain": [
       "       PassengerId    Survived      Pclass         Age       SibSp  \\\n",
       "count   891.000000  891.000000  891.000000  714.000000  891.000000   \n",
       "mean    446.000000    0.383838    2.308642   29.699118    0.523008   \n",
       "std     257.353842    0.486592    0.836071   14.526497    1.102743   \n",
       "min       1.000000    0.000000    1.000000    0.420000    0.000000   \n",
       "25%     223.500000    0.000000    2.000000   20.125000    0.000000   \n",
       "50%     446.000000    0.000000    3.000000   28.000000    0.000000   \n",
       "75%     668.500000    1.000000    3.000000   38.000000    1.000000   \n",
       "max     891.000000    1.000000    3.000000   80.000000    8.000000   \n",
       "\n",
       "            Parch        Fare  \n",
       "count  891.000000  891.000000  \n",
       "mean     0.381594   32.204208  \n",
       "std      0.806057   49.693429  \n",
       "min      0.000000    0.000000  \n",
       "25%      0.000000    7.910400  \n",
       "50%      0.000000   14.454200  \n",
       "75%      0.000000   31.000000  \n",
       "max      6.000000  512.329200  "
      ]
     },
     "execution_count": 6,
     "metadata": {},
     "output_type": "execute_result"
    }
   ],
   "source": [
    "df.describe()"
   ]
  },
  {
   "cell_type": "code",
   "execution_count": 7,
   "id": "aaf4d858",
   "metadata": {},
   "outputs": [
    {
     "data": {
      "application/vnd.microsoft.datawrangler.viewer.v0+json": {
       "columns": [
        {
         "name": "index",
         "rawType": "object",
         "type": "string"
        },
        {
         "name": "Null Count",
         "rawType": "int64",
         "type": "integer"
        },
        {
         "name": "Null Percentage",
         "rawType": "float64",
         "type": "float"
        }
       ],
       "ref": "1e9e2e3b-a318-45c0-aa93-77133e3159aa",
       "rows": [
        [
         "Age",
         "177",
         "19.87"
        ],
        [
         "Cabin",
         "687",
         "77.1"
        ],
        [
         "Embarked",
         "2",
         "0.22"
        ]
       ],
       "shape": {
        "columns": 2,
        "rows": 3
       }
      },
      "text/html": [
       "<div>\n",
       "<style scoped>\n",
       "    .dataframe tbody tr th:only-of-type {\n",
       "        vertical-align: middle;\n",
       "    }\n",
       "\n",
       "    .dataframe tbody tr th {\n",
       "        vertical-align: top;\n",
       "    }\n",
       "\n",
       "    .dataframe thead th {\n",
       "        text-align: right;\n",
       "    }\n",
       "</style>\n",
       "<table border=\"1\" class=\"dataframe\">\n",
       "  <thead>\n",
       "    <tr style=\"text-align: right;\">\n",
       "      <th></th>\n",
       "      <th>Null Count</th>\n",
       "      <th>Null Percentage</th>\n",
       "    </tr>\n",
       "  </thead>\n",
       "  <tbody>\n",
       "    <tr>\n",
       "      <th>Age</th>\n",
       "      <td>177</td>\n",
       "      <td>19.87</td>\n",
       "    </tr>\n",
       "    <tr>\n",
       "      <th>Cabin</th>\n",
       "      <td>687</td>\n",
       "      <td>77.10</td>\n",
       "    </tr>\n",
       "    <tr>\n",
       "      <th>Embarked</th>\n",
       "      <td>2</td>\n",
       "      <td>0.22</td>\n",
       "    </tr>\n",
       "  </tbody>\n",
       "</table>\n",
       "</div>"
      ],
      "text/plain": [
       "          Null Count  Null Percentage\n",
       "Age              177            19.87\n",
       "Cabin            687            77.10\n",
       "Embarked           2             0.22"
      ]
     },
     "execution_count": 7,
     "metadata": {},
     "output_type": "execute_result"
    }
   ],
   "source": [
    "#null values\n",
    "tempdf = df.isnull().sum()[df.isnull().sum() > 0]\n",
    "pd.concat(\n",
    "    [tempdf,\n",
    "    (tempdf / df.shape[0] * 100).round(2)],\n",
    "    axis=1,\n",
    ").rename(columns={0: \"Null Count\", 1: \"Null Percentage\"})"
   ]
  },
  {
   "cell_type": "markdown",
   "id": "f94b549a",
   "metadata": {},
   "source": [
    "# 4. Univariate analysis\n"
   ]
  },
  {
   "cell_type": "markdown",
   "id": "92ab356d",
   "metadata": {},
   "source": [
    "### Survived"
   ]
  },
  {
   "cell_type": "code",
   "execution_count": 8,
   "id": "0046d390",
   "metadata": {},
   "outputs": [
    {
     "data": {
      "application/vnd.microsoft.datawrangler.viewer.v0+json": {
       "columns": [
        {
         "name": "Survived",
         "rawType": "int64",
         "type": "integer"
        },
        {
         "name": "Count",
         "rawType": "int64",
         "type": "integer"
        },
        {
         "name": "Proportion",
         "rawType": "float64",
         "type": "float"
        }
       ],
       "ref": "0bbbff5f-e245-41df-9cc5-71bdc9283581",
       "rows": [
        [
         "0",
         "549",
         "0.62"
        ],
        [
         "1",
         "342",
         "0.38"
        ]
       ],
       "shape": {
        "columns": 2,
        "rows": 2
       }
      },
      "text/html": [
       "<div>\n",
       "<style scoped>\n",
       "    .dataframe tbody tr th:only-of-type {\n",
       "        vertical-align: middle;\n",
       "    }\n",
       "\n",
       "    .dataframe tbody tr th {\n",
       "        vertical-align: top;\n",
       "    }\n",
       "\n",
       "    .dataframe thead th {\n",
       "        text-align: right;\n",
       "    }\n",
       "</style>\n",
       "<table border=\"1\" class=\"dataframe\">\n",
       "  <thead>\n",
       "    <tr style=\"text-align: right;\">\n",
       "      <th></th>\n",
       "      <th>Count</th>\n",
       "      <th>Proportion</th>\n",
       "    </tr>\n",
       "    <tr>\n",
       "      <th>Survived</th>\n",
       "      <th></th>\n",
       "      <th></th>\n",
       "    </tr>\n",
       "  </thead>\n",
       "  <tbody>\n",
       "    <tr>\n",
       "      <th>0</th>\n",
       "      <td>549</td>\n",
       "      <td>0.62</td>\n",
       "    </tr>\n",
       "    <tr>\n",
       "      <th>1</th>\n",
       "      <td>342</td>\n",
       "      <td>0.38</td>\n",
       "    </tr>\n",
       "  </tbody>\n",
       "</table>\n",
       "</div>"
      ],
      "text/plain": [
       "          Count  Proportion\n",
       "Survived                   \n",
       "0           549        0.62\n",
       "1           342        0.38"
      ]
     },
     "execution_count": 8,
     "metadata": {},
     "output_type": "execute_result"
    }
   ],
   "source": [
    "pd.concat(\n",
    "    [df['Survived'].value_counts().sort_index().round(2),\n",
    "    df['Survived'].value_counts(normalize=True).sort_index().round(2)],\n",
    "    axis=1,\n",
    "    keys=['Count', 'Proportion']\n",
    ")\n"
   ]
  },
  {
   "cell_type": "markdown",
   "id": "ac2ee95e",
   "metadata": {},
   "source": [
    "### Pclass\n"
   ]
  },
  {
   "cell_type": "code",
   "execution_count": 9,
   "id": "3c5c03fe",
   "metadata": {},
   "outputs": [
    {
     "data": {
      "application/vnd.microsoft.datawrangler.viewer.v0+json": {
       "columns": [
        {
         "name": "Pclass",
         "rawType": "int64",
         "type": "integer"
        },
        {
         "name": "Count",
         "rawType": "int64",
         "type": "integer"
        },
        {
         "name": "Proportion",
         "rawType": "float64",
         "type": "float"
        }
       ],
       "ref": "cbbb42fa-7f60-414d-9f94-b4d49e7a3dd9",
       "rows": [
        [
         "1",
         "216",
         "0.24"
        ],
        [
         "2",
         "184",
         "0.21"
        ],
        [
         "3",
         "491",
         "0.55"
        ]
       ],
       "shape": {
        "columns": 2,
        "rows": 3
       }
      },
      "text/html": [
       "<div>\n",
       "<style scoped>\n",
       "    .dataframe tbody tr th:only-of-type {\n",
       "        vertical-align: middle;\n",
       "    }\n",
       "\n",
       "    .dataframe tbody tr th {\n",
       "        vertical-align: top;\n",
       "    }\n",
       "\n",
       "    .dataframe thead th {\n",
       "        text-align: right;\n",
       "    }\n",
       "</style>\n",
       "<table border=\"1\" class=\"dataframe\">\n",
       "  <thead>\n",
       "    <tr style=\"text-align: right;\">\n",
       "      <th></th>\n",
       "      <th>Count</th>\n",
       "      <th>Proportion</th>\n",
       "    </tr>\n",
       "    <tr>\n",
       "      <th>Pclass</th>\n",
       "      <th></th>\n",
       "      <th></th>\n",
       "    </tr>\n",
       "  </thead>\n",
       "  <tbody>\n",
       "    <tr>\n",
       "      <th>1</th>\n",
       "      <td>216</td>\n",
       "      <td>0.24</td>\n",
       "    </tr>\n",
       "    <tr>\n",
       "      <th>2</th>\n",
       "      <td>184</td>\n",
       "      <td>0.21</td>\n",
       "    </tr>\n",
       "    <tr>\n",
       "      <th>3</th>\n",
       "      <td>491</td>\n",
       "      <td>0.55</td>\n",
       "    </tr>\n",
       "  </tbody>\n",
       "</table>\n",
       "</div>"
      ],
      "text/plain": [
       "        Count  Proportion\n",
       "Pclass                   \n",
       "1         216        0.24\n",
       "2         184        0.21\n",
       "3         491        0.55"
      ]
     },
     "execution_count": 9,
     "metadata": {},
     "output_type": "execute_result"
    }
   ],
   "source": [
    "pd.concat(\n",
    "    [df['Pclass'].value_counts().sort_index().round(2),\n",
    "    df['Pclass'].value_counts(normalize=True).sort_index().round(2)],\n",
    "    axis=1,\n",
    "    keys=['Count', 'Proportion']\n",
    ")"
   ]
  },
  {
   "cell_type": "markdown",
   "id": "e3024e47",
   "metadata": {},
   "source": [
    "### Sex\n"
   ]
  },
  {
   "cell_type": "code",
   "execution_count": 10,
   "id": "9451bb1e",
   "metadata": {},
   "outputs": [
    {
     "data": {
      "application/vnd.microsoft.datawrangler.viewer.v0+json": {
       "columns": [
        {
         "name": "Sex",
         "rawType": "object",
         "type": "string"
        },
        {
         "name": "Count",
         "rawType": "int64",
         "type": "integer"
        },
        {
         "name": "Proportion",
         "rawType": "float64",
         "type": "float"
        }
       ],
       "ref": "cfcce766-6ab6-49df-8312-85944cc1cf86",
       "rows": [
        [
         "female",
         "314",
         "0.35"
        ],
        [
         "male",
         "577",
         "0.65"
        ]
       ],
       "shape": {
        "columns": 2,
        "rows": 2
       }
      },
      "text/html": [
       "<div>\n",
       "<style scoped>\n",
       "    .dataframe tbody tr th:only-of-type {\n",
       "        vertical-align: middle;\n",
       "    }\n",
       "\n",
       "    .dataframe tbody tr th {\n",
       "        vertical-align: top;\n",
       "    }\n",
       "\n",
       "    .dataframe thead th {\n",
       "        text-align: right;\n",
       "    }\n",
       "</style>\n",
       "<table border=\"1\" class=\"dataframe\">\n",
       "  <thead>\n",
       "    <tr style=\"text-align: right;\">\n",
       "      <th></th>\n",
       "      <th>Count</th>\n",
       "      <th>Proportion</th>\n",
       "    </tr>\n",
       "    <tr>\n",
       "      <th>Sex</th>\n",
       "      <th></th>\n",
       "      <th></th>\n",
       "    </tr>\n",
       "  </thead>\n",
       "  <tbody>\n",
       "    <tr>\n",
       "      <th>female</th>\n",
       "      <td>314</td>\n",
       "      <td>0.35</td>\n",
       "    </tr>\n",
       "    <tr>\n",
       "      <th>male</th>\n",
       "      <td>577</td>\n",
       "      <td>0.65</td>\n",
       "    </tr>\n",
       "  </tbody>\n",
       "</table>\n",
       "</div>"
      ],
      "text/plain": [
       "        Count  Proportion\n",
       "Sex                      \n",
       "female    314        0.35\n",
       "male      577        0.65"
      ]
     },
     "execution_count": 10,
     "metadata": {},
     "output_type": "execute_result"
    }
   ],
   "source": [
    "pd.concat(\n",
    "    [df['Sex'].value_counts().sort_index().round(2),\n",
    "    df['Sex'].value_counts(normalize=True).sort_index().round(2)],\n",
    "    axis=1,\n",
    "    keys=['Count', 'Proportion']\n",
    ")"
   ]
  },
  {
   "cell_type": "markdown",
   "id": "93253b37",
   "metadata": {},
   "source": [
    "### Age"
   ]
  },
  {
   "cell_type": "code",
   "execution_count": 11,
   "id": "3d9a79bf",
   "metadata": {},
   "outputs": [
    {
     "data": {
      "application/vnd.microsoft.datawrangler.viewer.v0+json": {
       "columns": [
        {
         "name": "index",
         "rawType": "object",
         "type": "string"
        },
        {
         "name": "Age",
         "rawType": "float64",
         "type": "float"
        }
       ],
       "ref": "fb9083a6-a008-45a7-82c4-c2a32cf2537b",
       "rows": [
        [
         "count",
         "714.0"
        ],
        [
         "mean",
         "29.7"
        ],
        [
         "std",
         "14.53"
        ],
        [
         "min",
         "0.42"
        ],
        [
         "25%",
         "20.12"
        ],
        [
         "50%",
         "28.0"
        ],
        [
         "75%",
         "38.0"
        ],
        [
         "max",
         "80.0"
        ]
       ],
       "shape": {
        "columns": 1,
        "rows": 8
       }
      },
      "text/plain": [
       "count    714.00\n",
       "mean      29.70\n",
       "std       14.53\n",
       "min        0.42\n",
       "25%       20.12\n",
       "50%       28.00\n",
       "75%       38.00\n",
       "max       80.00\n",
       "Name: Age, dtype: float64"
      ]
     },
     "execution_count": 11,
     "metadata": {},
     "output_type": "execute_result"
    }
   ],
   "source": [
    "df['Age'].describe().round(2)"
   ]
  },
  {
   "cell_type": "code",
   "execution_count": 12,
   "id": "5a6589c6",
   "metadata": {},
   "outputs": [
    {
     "data": {
      "text/plain": [
       "<Axes: >"
      ]
     },
     "execution_count": 12,
     "metadata": {},
     "output_type": "execute_result"
    },
    {
     "data": {
      "image/png": "[encoded data removed]",
      "text/plain": [
       "<Figure size 1800x100 with 1 Axes>"
      ]
     },
     "metadata": {},
     "output_type": "display_data"
    }
   ],
   "source": [
    "df['Age'].plot(kind='box', figsize=(18, 1), vert=False)"
   ]
  },
  {
   "cell_type": "code",
   "execution_count": 13,
   "id": "2b776dee",
   "metadata": {},
   "outputs": [
    {
     "data": {
      "image/png": "[encoded data removed]",
      "text/plain": [
       "<Figure size 800x400 with 1 Axes>"
      ]
     },
     "metadata": {},
     "output_type": "display_data"
    }
   ],
   "source": [
    "df['Age'].hist(bins=30, figsize=(8, 4))\n",
    "plt.show()"
   ]
  },
  {
   "cell_type": "markdown",
   "id": "87bdacd1",
   "metadata": {},
   "source": [
    "### SibSp & Parch"
   ]
  },
  {
   "cell_type": "code",
   "execution_count": 14,
   "id": "15944e87",
   "metadata": {},
   "outputs": [
    {
     "data": {
      "application/vnd.microsoft.datawrangler.viewer.v0+json": {
       "columns": [
        {
         "name": "index",
         "rawType": "object",
         "type": "string"
        },
        {
         "name": "SibSp",
         "rawType": "float64",
         "type": "float"
        },
        {
         "name": "Parch",
         "rawType": "float64",
         "type": "float"
        }
       ],
       "ref": "c2931e41-173d-43df-90a6-ee6180b5adda",
       "rows": [
        [
         "count",
         "891.0",
         "891.0"
        ],
        [
         "mean",
         "0.52",
         "0.38"
        ],
        [
         "std",
         "1.1",
         "0.81"
        ],
        [
         "min",
         "0.0",
         "0.0"
        ],
        [
         "25%",
         "0.0",
         "0.0"
        ],
        [
         "50%",
         "0.0",
         "0.0"
        ],
        [
         "75%",
         "1.0",
         "0.0"
        ],
        [
         "max",
         "8.0",
         "6.0"
        ]
       ],
       "shape": {
        "columns": 2,
        "rows": 8
       }
      },
      "text/html": [
       "<div>\n",
       "<style scoped>\n",
       "    .dataframe tbody tr th:only-of-type {\n",
       "        vertical-align: middle;\n",
       "    }\n",
       "\n",
       "    .dataframe tbody tr th {\n",
       "        vertical-align: top;\n",
       "    }\n",
       "\n",
       "    .dataframe thead th {\n",
       "        text-align: right;\n",
       "    }\n",
       "</style>\n",
       "<table border=\"1\" class=\"dataframe\">\n",
       "  <thead>\n",
       "    <tr style=\"text-align: right;\">\n",
       "      <th></th>\n",
       "      <th>SibSp</th>\n",
       "      <th>Parch</th>\n",
       "    </tr>\n",
       "  </thead>\n",
       "  <tbody>\n",
       "    <tr>\n",
       "      <th>count</th>\n",
       "      <td>891.00</td>\n",
       "      <td>891.00</td>\n",
       "    </tr>\n",
       "    <tr>\n",
       "      <th>mean</th>\n",
       "      <td>0.52</td>\n",
       "      <td>0.38</td>\n",
       "    </tr>\n",
       "    <tr>\n",
       "      <th>std</th>\n",
       "      <td>1.10</td>\n",
       "      <td>0.81</td>\n",
       "    </tr>\n",
       "    <tr>\n",
       "      <th>min</th>\n",
       "      <td>0.00</td>\n",
       "      <td>0.00</td>\n",
       "    </tr>\n",
       "    <tr>\n",
       "      <th>25%</th>\n",
       "      <td>0.00</td>\n",
       "      <td>0.00</td>\n",
       "    </tr>\n",
       "    <tr>\n",
       "      <th>50%</th>\n",
       "      <td>0.00</td>\n",
       "      <td>0.00</td>\n",
       "    </tr>\n",
       "    <tr>\n",
       "      <th>75%</th>\n",
       "      <td>1.00</td>\n",
       "      <td>0.00</td>\n",
       "    </tr>\n",
       "    <tr>\n",
       "      <th>max</th>\n",
       "      <td>8.00</td>\n",
       "      <td>6.00</td>\n",
       "    </tr>\n",
       "  </tbody>\n",
       "</table>\n",
       "</div>"
      ],
      "text/plain": [
       "        SibSp   Parch\n",
       "count  891.00  891.00\n",
       "mean     0.52    0.38\n",
       "std      1.10    0.81\n",
       "min      0.00    0.00\n",
       "25%      0.00    0.00\n",
       "50%      0.00    0.00\n",
       "75%      1.00    0.00\n",
       "max      8.00    6.00"
      ]
     },
     "execution_count": 14,
     "metadata": {},
     "output_type": "execute_result"
    }
   ],
   "source": [
    "df[['SibSp', 'Parch']].describe().round(2)"
   ]
  },
  {
   "cell_type": "code",
   "execution_count": 15,
   "id": "c896cdbe",
   "metadata": {},
   "outputs": [
    {
     "data": {
      "text/plain": [
       "<Axes: title={'center': 'SibSp & Parch Counts'}, xlabel='SibSp,Parch'>"
      ]
     },
     "execution_count": 15,
     "metadata": {},
     "output_type": "execute_result"
    },
    {
     "data": {
      "image/png": "[encoded data removed]",
      "text/plain": [
       "<Figure size 800x200 with 1 Axes>"
      ]
     },
     "metadata": {},
     "output_type": "display_data"
    }
   ],
   "source": [
    "df[['SibSp', 'Parch']].value_counts().plot(kind='bar', figsize=(8, 2),title='SibSp & Parch Counts')"
   ]
  },
  {
   "cell_type": "code",
   "execution_count": 16,
   "id": "0802981e",
   "metadata": {},
   "outputs": [
    {
     "data": {
      "text/plain": [
       "<Axes: ylabel='Frequency'>"
      ]
     },
     "execution_count": 16,
     "metadata": {},
     "output_type": "execute_result"
    },
    {
     "data": {
      "image/png": "[encoded data removed]",
      "text/plain": [
       "<Figure size 800x400 with 1 Axes>"
      ]
     },
     "metadata": {},
     "output_type": "display_data"
    }
   ],
   "source": [
    "df[['SibSp', 'Parch']].plot(kind='hist', bins=30, figsize=(8, 4), alpha=0.5)"
   ]
  },
  {
   "cell_type": "markdown",
   "id": "24dd0fc2",
   "metadata": {},
   "source": [
    "### Ticket"
   ]
  },
  {
   "cell_type": "code",
   "execution_count": 17,
   "id": "9219d459",
   "metadata": {},
   "outputs": [
    {
     "data": {
      "application/vnd.microsoft.datawrangler.viewer.v0+json": {
       "columns": [
        {
         "name": "Ticket",
         "rawType": "object",
         "type": "string"
        },
        {
         "name": "count",
         "rawType": "int64",
         "type": "integer"
        }
       ],
       "ref": "a430c912-c44b-42e3-b5fc-8e74706d4328",
       "rows": [
        [
         "347082",
         "7"
        ],
        [
         "CA. 2343",
         "7"
        ],
        [
         "1601",
         "7"
        ],
        [
         "3101295",
         "6"
        ],
        [
         "CA 2144",
         "6"
        ],
        [
         "347088",
         "6"
        ],
        [
         "S.O.C. 14879",
         "5"
        ],
        [
         "382652",
         "5"
        ],
        [
         "LINE",
         "4"
        ],
        [
         "PC 17757",
         "4"
        ]
       ],
       "shape": {
        "columns": 1,
        "rows": 10
       }
      },
      "text/plain": [
       "Ticket\n",
       "347082          7\n",
       "CA. 2343        7\n",
       "1601            7\n",
       "3101295         6\n",
       "CA 2144         6\n",
       "347088          6\n",
       "S.O.C. 14879    5\n",
       "382652          5\n",
       "LINE            4\n",
       "PC 17757        4\n",
       "Name: count, dtype: int64"
      ]
     },
     "execution_count": 17,
     "metadata": {},
     "output_type": "execute_result"
    }
   ],
   "source": [
    "df['Ticket'].value_counts().head(10)"
   ]
  },
  {
   "cell_type": "markdown",
   "id": "e520c002",
   "metadata": {},
   "source": [
    "### Fare"
   ]
  },
  {
   "cell_type": "code",
   "execution_count": 18,
   "id": "45ff27ba",
   "metadata": {},
   "outputs": [
    {
     "data": {
      "application/vnd.microsoft.datawrangler.viewer.v0+json": {
       "columns": [
        {
         "name": "index",
         "rawType": "object",
         "type": "string"
        },
        {
         "name": "Fare",
         "rawType": "float64",
         "type": "float"
        }
       ],
       "ref": "751907e5-cfd6-4953-ad8b-6eaebe9c28da",
       "rows": [
        [
         "count",
         "891.0"
        ],
        [
         "mean",
         "32.2"
        ],
        [
         "std",
         "49.69"
        ],
        [
         "min",
         "0.0"
        ],
        [
         "25%",
         "7.91"
        ],
        [
         "50%",
         "14.45"
        ],
        [
         "75%",
         "31.0"
        ],
        [
         "90%",
         "77.96"
        ],
        [
         "95%",
         "112.08"
        ],
        [
         "99%",
         "249.01"
        ],
        [
         "max",
         "512.33"
        ]
       ],
       "shape": {
        "columns": 1,
        "rows": 11
       }
      },
      "text/plain": [
       "count    891.00\n",
       "mean      32.20\n",
       "std       49.69\n",
       "min        0.00\n",
       "25%        7.91\n",
       "50%       14.45\n",
       "75%       31.00\n",
       "90%       77.96\n",
       "95%      112.08\n",
       "99%      249.01\n",
       "max      512.33\n",
       "Name: Fare, dtype: float64"
      ]
     },
     "execution_count": 18,
     "metadata": {},
     "output_type": "execute_result"
    }
   ],
   "source": [
    "df['Fare'].describe(percentiles=[0.25, 0.5, 0.75, 0.9, 0.95, 0.99]).round(2)"
   ]
  },
  {
   "cell_type": "code",
   "execution_count": 19,
   "id": "20f628d9",
   "metadata": {},
   "outputs": [
    {
     "data": {
      "text/plain": [
       "<Axes: >"
      ]
     },
     "execution_count": 19,
     "metadata": {},
     "output_type": "execute_result"
    },
    {
     "data": {
      "image/png": "[encoded data removed]",
      "text/plain": [
       "<Figure size 600x400 with 1 Axes>"
      ]
     },
     "metadata": {},
     "output_type": "display_data"
    }
   ],
   "source": [
    "df['Fare'].value_counts().sort_index(ascending=True).hist(bins=30, figsize=(6, 4))"
   ]
  },
  {
   "cell_type": "code",
   "execution_count": 20,
   "id": "1f50f287",
   "metadata": {},
   "outputs": [
    {
     "data": {
      "text/plain": [
       "<Axes: xlabel='Fare'>"
      ]
     },
     "execution_count": 20,
     "metadata": {},
     "output_type": "execute_result"
    },
    {
     "data": {
      "image/png": "[encoded data removed]",
      "text/plain": [
       "<Figure size 2000x100 with 1 Axes>"
      ]
     },
     "metadata": {},
     "output_type": "display_data"
    }
   ],
   "source": [
    "plt.figure(figsize=(20, 1))    \n",
    "sns.boxplot(\n",
    "    df['Fare'], \n",
    "    orient='h',\n",
    ")"
   ]
  },
  {
   "cell_type": "markdown",
   "id": "207ce5bb",
   "metadata": {},
   "source": [
    "I'll Check in depth in multivariate"
   ]
  },
  {
   "cell_type": "markdown",
   "id": "003928fc",
   "metadata": {},
   "source": [
    "### Embarked"
   ]
  },
  {
   "cell_type": "code",
   "execution_count": 21,
   "id": "455ab5eb",
   "metadata": {},
   "outputs": [
    {
     "data": {
      "application/vnd.microsoft.datawrangler.viewer.v0+json": {
       "columns": [
        {
         "name": "Embarked",
         "rawType": "object",
         "type": "string"
        },
        {
         "name": "Count",
         "rawType": "int64",
         "type": "integer"
        },
        {
         "name": "Proportion",
         "rawType": "float64",
         "type": "float"
        }
       ],
       "ref": "9dff806a-cc9f-4533-a4e1-4c9f7b2457fd",
       "rows": [
        [
         "C",
         "168",
         "19.0"
        ],
        [
         "Q",
         "77",
         "9.0"
        ],
        [
         "S",
         "644",
         "72.0"
        ]
       ],
       "shape": {
        "columns": 2,
        "rows": 3
       }
      },
      "text/html": [
       "<div>\n",
       "<style scoped>\n",
       "    .dataframe tbody tr th:only-of-type {\n",
       "        vertical-align: middle;\n",
       "    }\n",
       "\n",
       "    .dataframe tbody tr th {\n",
       "        vertical-align: top;\n",
       "    }\n",
       "\n",
       "    .dataframe thead th {\n",
       "        text-align: right;\n",
       "    }\n",
       "</style>\n",
       "<table border=\"1\" class=\"dataframe\">\n",
       "  <thead>\n",
       "    <tr style=\"text-align: right;\">\n",
       "      <th></th>\n",
       "      <th>Count</th>\n",
       "      <th>Proportion</th>\n",
       "    </tr>\n",
       "    <tr>\n",
       "      <th>Embarked</th>\n",
       "      <th></th>\n",
       "      <th></th>\n",
       "    </tr>\n",
       "  </thead>\n",
       "  <tbody>\n",
       "    <tr>\n",
       "      <th>C</th>\n",
       "      <td>168</td>\n",
       "      <td>19.0</td>\n",
       "    </tr>\n",
       "    <tr>\n",
       "      <th>Q</th>\n",
       "      <td>77</td>\n",
       "      <td>9.0</td>\n",
       "    </tr>\n",
       "    <tr>\n",
       "      <th>S</th>\n",
       "      <td>644</td>\n",
       "      <td>72.0</td>\n",
       "    </tr>\n",
       "  </tbody>\n",
       "</table>\n",
       "</div>"
      ],
      "text/plain": [
       "          Count  Proportion\n",
       "Embarked                   \n",
       "C           168        19.0\n",
       "Q            77         9.0\n",
       "S           644        72.0"
      ]
     },
     "execution_count": 21,
     "metadata": {},
     "output_type": "execute_result"
    }
   ],
   "source": [
    "pd.concat(\n",
    "    [df['Embarked'].value_counts().sort_index().round(2),\n",
    "    df['Embarked'].value_counts(normalize=True).sort_index().round(2)*100],\n",
    "    axis=1,\n",
    "    keys=['Count', 'Proportion']\n",
    ")"
   ]
  },
  {
   "cell_type": "code",
   "execution_count": 22,
   "id": "7c068761",
   "metadata": {},
   "outputs": [
    {
     "data": {
      "text/plain": [
       "<bound method Series.reset_index of Embarked  Pclass\n",
       "C         1          85\n",
       "          2          17\n",
       "          3          66\n",
       "Q         1           2\n",
       "          2           3\n",
       "          3          72\n",
       "S         1         127\n",
       "          2         164\n",
       "          3         353\n",
       "Name: count, dtype: int64>"
      ]
     },
     "execution_count": 22,
     "metadata": {},
     "output_type": "execute_result"
    }
   ],
   "source": [
    "df[['Embarked' , 'Pclass']].value_counts().sort_index().reset_index"
   ]
  },
  {
   "cell_type": "code",
   "execution_count": 23,
   "id": "2d4cc552",
   "metadata": {},
   "outputs": [
    {
     "data": {
      "application/vnd.microsoft.datawrangler.viewer.v0+json": {
       "columns": [
        {
         "name": "index",
         "rawType": "int64",
         "type": "integer"
        },
        {
         "name": "PassengerId",
         "rawType": "int64",
         "type": "integer"
        },
        {
         "name": "Survived",
         "rawType": "int64",
         "type": "integer"
        },
        {
         "name": "Pclass",
         "rawType": "int64",
         "type": "integer"
        },
        {
         "name": "Name",
         "rawType": "object",
         "type": "string"
        },
        {
         "name": "Sex",
         "rawType": "object",
         "type": "string"
        },
        {
         "name": "Age",
         "rawType": "float64",
         "type": "float"
        },
        {
         "name": "SibSp",
         "rawType": "int64",
         "type": "integer"
        },
        {
         "name": "Parch",
         "rawType": "int64",
         "type": "integer"
        },
        {
         "name": "Ticket",
         "rawType": "object",
         "type": "string"
        },
        {
         "name": "Fare",
         "rawType": "float64",
         "type": "float"
        },
        {
         "name": "Cabin",
         "rawType": "object",
         "type": "string"
        },
        {
         "name": "Embarked",
         "rawType": "object",
         "type": "unknown"
        }
       ],
       "ref": "63ef8705-00d8-49dc-84cc-6c1f1440eac0",
       "rows": [
        [
         "61",
         "62",
         "1",
         "1",
         "Icard, Miss. Amelie",
         "female",
         "38.0",
         "0",
         "0",
         "113572",
         "80.0",
         "B28",
         null
        ],
        [
         "829",
         "830",
         "1",
         "1",
         "Stone, Mrs. George Nelson (Martha Evelyn)",
         "female",
         "62.0",
         "0",
         "0",
         "113572",
         "80.0",
         "B28",
         null
        ]
       ],
       "shape": {
        "columns": 12,
        "rows": 2
       }
      },
      "text/html": [
       "<div>\n",
       "<style scoped>\n",
       "    .dataframe tbody tr th:only-of-type {\n",
       "        vertical-align: middle;\n",
       "    }\n",
       "\n",
       "    .dataframe tbody tr th {\n",
       "        vertical-align: top;\n",
       "    }\n",
       "\n",
       "    .dataframe thead th {\n",
       "        text-align: right;\n",
       "    }\n",
       "</style>\n",
       "<table border=\"1\" class=\"dataframe\">\n",
       "  <thead>\n",
       "    <tr style=\"text-align: right;\">\n",
       "      <th></th>\n",
       "      <th>PassengerId</th>\n",
       "      <th>Survived</th>\n",
       "      <th>Pclass</th>\n",
       "      <th>Name</th>\n",
       "      <th>Sex</th>\n",
       "      <th>Age</th>\n",
       "      <th>SibSp</th>\n",
       "      <th>Parch</th>\n",
       "      <th>Ticket</th>\n",
       "      <th>Fare</th>\n",
       "      <th>Cabin</th>\n",
       "      <th>Embarked</th>\n",
       "    </tr>\n",
       "  </thead>\n",
       "  <tbody>\n",
       "    <tr>\n",
       "      <th>61</th>\n",
       "      <td>62</td>\n",
       "      <td>1</td>\n",
       "      <td>1</td>\n",
       "      <td>Icard, Miss. Amelie</td>\n",
       "      <td>female</td>\n",
       "      <td>38.0</td>\n",
       "      <td>0</td>\n",
       "      <td>0</td>\n",
       "      <td>113572</td>\n",
       "      <td>80.0</td>\n",
       "      <td>B28</td>\n",
       "      <td>NaN</td>\n",
       "    </tr>\n",
       "    <tr>\n",
       "      <th>829</th>\n",
       "      <td>830</td>\n",
       "      <td>1</td>\n",
       "      <td>1</td>\n",
       "      <td>Stone, Mrs. George Nelson (Martha Evelyn)</td>\n",
       "      <td>female</td>\n",
       "      <td>62.0</td>\n",
       "      <td>0</td>\n",
       "      <td>0</td>\n",
       "      <td>113572</td>\n",
       "      <td>80.0</td>\n",
       "      <td>B28</td>\n",
       "      <td>NaN</td>\n",
       "    </tr>\n",
       "  </tbody>\n",
       "</table>\n",
       "</div>"
      ],
      "text/plain": [
       "     PassengerId  Survived  Pclass                                       Name  \\\n",
       "61            62         1       1                        Icard, Miss. Amelie   \n",
       "829          830         1       1  Stone, Mrs. George Nelson (Martha Evelyn)   \n",
       "\n",
       "        Sex   Age  SibSp  Parch  Ticket  Fare Cabin Embarked  \n",
       "61   female  38.0      0      0  113572  80.0   B28      NaN  \n",
       "829  female  62.0      0      0  113572  80.0   B28      NaN  "
      ]
     },
     "execution_count": 23,
     "metadata": {},
     "output_type": "execute_result"
    }
   ],
   "source": [
    "df[df['Embarked'].isnull()]"
   ]
  },
  {
   "cell_type": "markdown",
   "id": "c92d0237",
   "metadata": {},
   "source": [
    "## Name"
   ]
  },
  {
   "cell_type": "code",
   "execution_count": 24,
   "id": "53d462fa",
   "metadata": {},
   "outputs": [
    {
     "data": {
      "application/vnd.microsoft.datawrangler.viewer.v0+json": {
       "columns": [
        {
         "name": "index",
         "rawType": "int64",
         "type": "integer"
        },
        {
         "name": "Name",
         "rawType": "object",
         "type": "unknown"
        }
       ],
       "ref": "0ae5d997-443f-43fd-b243-2625be8aeaab",
       "rows": [
        [
         "0",
         "['Braund', ' Mr. Owen Harris']"
        ],
        [
         "1",
         "['Cumings', ' Mrs. John Bradley (Florence Briggs Thayer)']"
        ],
        [
         "2",
         "['Heikkinen', ' Miss. Laina']"
        ],
        [
         "3",
         "['Futrelle', ' Mrs. Jacques Heath (Lily May Peel)']"
        ],
        [
         "4",
         "['Allen', ' Mr. William Henry']"
        ],
        [
         "5",
         "['Moran', ' Mr. James']"
        ],
        [
         "6",
         "['McCarthy', ' Mr. Timothy J']"
        ],
        [
         "7",
         "['Palsson', ' Master. Gosta Leonard']"
        ],
        [
         "8",
         "['Johnson', ' Mrs. Oscar W (Elisabeth Vilhelmina Berg)']"
        ],
        [
         "9",
         "['Nasser', ' Mrs. Nicholas (Adele Achem)']"
        ],
        [
         "10",
         "['Sandstrom', ' Miss. Marguerite Rut']"
        ],
        [
         "11",
         "['Bonnell', ' Miss. Elizabeth']"
        ],
        [
         "12",
         "['Saundercock', ' Mr. William Henry']"
        ],
        [
         "13",
         "['Andersson', ' Mr. Anders Johan']"
        ],
        [
         "14",
         "['Vestrom', ' Miss. Hulda Amanda Adolfina']"
        ],
        [
         "15",
         "['Hewlett', ' Mrs. (Mary D Kingcome) ']"
        ],
        [
         "16",
         "['Rice', ' Master. Eugene']"
        ],
        [
         "17",
         "['Williams', ' Mr. Charles Eugene']"
        ],
        [
         "18",
         "['Vander Planke', ' Mrs. Julius (Emelia Maria Vandemoortele)']"
        ],
        [
         "19",
         "['Masselmani', ' Mrs. Fatima']"
        ],
        [
         "20",
         "['Fynney', ' Mr. Joseph J']"
        ],
        [
         "21",
         "['Beesley', ' Mr. Lawrence']"
        ],
        [
         "22",
         "['McGowan', ' Miss. Anna \"Annie\"']"
        ],
        [
         "23",
         "['Sloper', ' Mr. William Thompson']"
        ],
        [
         "24",
         "['Palsson', ' Miss. Torborg Danira']"
        ],
        [
         "25",
         "['Asplund', ' Mrs. Carl Oscar (Selma Augusta Emilia Johansson)']"
        ],
        [
         "26",
         "['Emir', ' Mr. Farred Chehab']"
        ],
        [
         "27",
         "['Fortune', ' Mr. Charles Alexander']"
        ],
        [
         "28",
         "[\"O'Dwyer\", ' Miss. Ellen \"Nellie\"']"
        ],
        [
         "29",
         "['Todoroff', ' Mr. Lalio']"
        ],
        [
         "30",
         "['Uruchurtu', ' Don. Manuel E']"
        ],
        [
         "31",
         "['Spencer', ' Mrs. William Augustus (Marie Eugenie)']"
        ],
        [
         "32",
         "['Glynn', ' Miss. Mary Agatha']"
        ],
        [
         "33",
         "['Wheadon', ' Mr. Edward H']"
        ],
        [
         "34",
         "['Meyer', ' Mr. Edgar Joseph']"
        ],
        [
         "35",
         "['Holverson', ' Mr. Alexander Oskar']"
        ],
        [
         "36",
         "['Mamee', ' Mr. Hanna']"
        ],
        [
         "37",
         "['Cann', ' Mr. Ernest Charles']"
        ],
        [
         "38",
         "['Vander Planke', ' Miss. Augusta Maria']"
        ],
        [
         "39",
         "['Nicola-Yarred', ' Miss. Jamila']"
        ],
        [
         "40",
         "['Ahlin', ' Mrs. Johan (Johanna Persdotter Larsson)']"
        ],
        [
         "41",
         "['Turpin', ' Mrs. William John Robert (Dorothy Ann Wonnacott)']"
        ],
        [
         "42",
         "['Kraeff', ' Mr. Theodor']"
        ],
        [
         "43",
         "['Laroche', ' Miss. Simonne Marie Anne Andree']"
        ],
        [
         "44",
         "['Devaney', ' Miss. Margaret Delia']"
        ],
        [
         "45",
         "['Rogers', ' Mr. William John']"
        ],
        [
         "46",
         "['Lennon', ' Mr. Denis']"
        ],
        [
         "47",
         "[\"O'Driscoll\", ' Miss. Bridget']"
        ],
        [
         "48",
         "['Samaan', ' Mr. Youssef']"
        ],
        [
         "49",
         "['Arnold-Franchi', ' Mrs. Josef (Josefine Franchi)']"
        ]
       ],
       "shape": {
        "columns": 1,
        "rows": 891
       }
      },
      "text/plain": [
       "0                             [Braund,  Mr. Owen Harris]\n",
       "1      [Cumings,  Mrs. John Bradley (Florence Briggs ...\n",
       "2                              [Heikkinen,  Miss. Laina]\n",
       "3        [Futrelle,  Mrs. Jacques Heath (Lily May Peel)]\n",
       "4                            [Allen,  Mr. William Henry]\n",
       "                             ...                        \n",
       "886                             [Montvila,  Rev. Juozas]\n",
       "887                      [Graham,  Miss. Margaret Edith]\n",
       "888          [Johnston,  Miss. Catherine Helen \"Carrie\"]\n",
       "889                             [Behr,  Mr. Karl Howell]\n",
       "890                               [Dooley,  Mr. Patrick]\n",
       "Name: Name, Length: 891, dtype: object"
      ]
     },
     "execution_count": 24,
     "metadata": {},
     "output_type": "execute_result"
    }
   ],
   "source": [
    "df['Name'].str.split(',')"
   ]
  },
  {
   "cell_type": "code",
   "execution_count": 25,
   "id": "7a4ddc66",
   "metadata": {},
   "outputs": [
    {
     "data": {
      "application/vnd.microsoft.datawrangler.viewer.v0+json": {
       "columns": [
        {
         "name": "Name",
         "rawType": "object",
         "type": "string"
        },
        {
         "name": "count",
         "rawType": "int64",
         "type": "integer"
        }
       ],
       "ref": "9cabe811-21a6-4b46-b589-be42ff41558b",
       "rows": [
        [
         " Mr",
         "517"
        ],
        [
         " Miss",
         "182"
        ],
        [
         " Mrs",
         "125"
        ],
        [
         " Master",
         "40"
        ],
        [
         " Dr",
         "7"
        ],
        [
         " Rev",
         "6"
        ],
        [
         " Major",
         "2"
        ],
        [
         " Col",
         "2"
        ],
        [
         " Mlle",
         "2"
        ],
        [
         " the Countess",
         "1"
        ],
        [
         " Capt",
         "1"
        ],
        [
         " Ms",
         "1"
        ],
        [
         " Sir",
         "1"
        ],
        [
         " Lady",
         "1"
        ],
        [
         " Mme",
         "1"
        ],
        [
         " Don",
         "1"
        ],
        [
         " Jonkheer",
         "1"
        ]
       ],
       "shape": {
        "columns": 1,
        "rows": 17
       }
      },
      "text/plain": [
       "Name\n",
       "Mr              517\n",
       "Miss            182\n",
       "Mrs             125\n",
       "Master           40\n",
       "Dr                7\n",
       "Rev               6\n",
       "Major             2\n",
       "Col               2\n",
       "Mlle              2\n",
       "the Countess      1\n",
       "Capt              1\n",
       "Ms                1\n",
       "Sir               1\n",
       "Lady              1\n",
       "Mme               1\n",
       "Don               1\n",
       "Jonkheer          1\n",
       "Name: count, dtype: int64"
      ]
     },
     "execution_count": 25,
     "metadata": {},
     "output_type": "execute_result"
    }
   ],
   "source": [
    "#checking the most common titles in the Name column\n",
    "df['Name'].str.split(',').str[1].str.split('.').str[0].value_counts().sort_values(ascending=False)"
   ]
  },
  {
   "cell_type": "markdown",
   "id": "5a952887",
   "metadata": {},
   "source": [
    "# 5. multivariate analysis with target\n"
   ]
  },
  {
   "cell_type": "code",
   "execution_count": 26,
   "id": "52918d03",
   "metadata": {},
   "outputs": [],
   "source": [
    "# Transform 'Sex' and 'Embarked' columns to numerical values\n",
    "df['Sex'] = df['Sex'].map({'male': 0, 'female': 1})\n",
    "df['Embarked'] = df['Embarked'].map({'C': 0, 'Q': 1, 'S': 2})\n"
   ]
  },
  {
   "cell_type": "code",
   "execution_count": 27,
   "id": "079f26e1",
   "metadata": {},
   "outputs": [
    {
     "data": {
      "text/plain": [
       "<Axes: >"
      ]
     },
     "execution_count": 27,
     "metadata": {},
     "output_type": "execute_result"
    },
    {
     "data": {
      "image/png": "[encoded data removed]",
      "text/plain": [
       "<Figure size 640x480 with 2 Axes>"
      ]
     },
     "metadata": {},
     "output_type": "display_data"
    }
   ],
   "source": [
    "numcol = ['Pclass', 'Fare', 'Embarked', 'Sex', 'Age', 'SibSp', 'Parch', 'Survived']\n",
    "\n",
    "\n",
    "sns.heatmap(\n",
    "    df[numcol].corr().round(2),\n",
    "    annot=True,\n",
    "    cmap='coolwarm'\n",
    "    )"
   ]
  },
  {
   "cell_type": "code",
   "execution_count": 28,
   "id": "45cc5463",
   "metadata": {},
   "outputs": [
    {
     "name": "stderr",
     "output_type": "stream",
     "text": [
      "/var/folders/2n/xc_5x6ys00q7kj5lcfn2s10r0000gn/T/ipykernel_19578/1572340232.py:4: UserWarning: Dataset has 0 variance; skipping density estimate. Pass `warn_singular=False` to disable this warning.\n",
      "  sns.kdeplot(data=df, x=col, hue='Survived', ax=axes[i], fill=True, alpha=0.3, common_norm=True)\n"
     ]
    },
    {
     "data": {
      "image/png": "[encoded data removed]",
      "text/plain": [
       "<Figure size 4000x500 with 8 Axes>"
      ]
     },
     "metadata": {},
     "output_type": "display_data"
    }
   ],
   "source": [
    "fig, axes = plt.subplots(1, len(numcol), figsize=(5 * len(numcol), 5))\n",
    "\n",
    "for i, col in enumerate(numcol):\n",
    "    sns.kdeplot(data=df, x=col, hue='Survived', ax=axes[i], fill=True, alpha=0.3, common_norm=True)\n",
    "    axes[i].set_title(f'KDE of {col}')\n",
    "\n",
    "plt.tight_layout()\n",
    "plt.show()"
   ]
  },
  {
   "cell_type": "markdown",
   "id": "c0250e1f",
   "metadata": {},
   "source": [
    "#### Pclass - survive"
   ]
  },
  {
   "cell_type": "code",
   "execution_count": 29,
   "id": "57db663d",
   "metadata": {},
   "outputs": [
    {
     "name": "stdout",
     "output_type": "stream",
     "text": [
      "count:\n",
      "Survived    0    1\n",
      "Pclass            \n",
      "1          80  136\n",
      "2          97   87\n",
      "3         372  119\n",
      "\n",
      "\n",
      "survival rate by sex\n",
      "Survived     0     1\n",
      "Pclass              \n",
      "1         0.37  0.63\n",
      "2         0.53  0.47\n",
      "3         0.76  0.24\n",
      "\n",
      "\n",
      "survival rate by sex column\n",
      "Survived     0     1\n",
      "Pclass              \n",
      "1         0.15  0.40\n",
      "2         0.18  0.25\n",
      "3         0.68  0.35\n"
     ]
    }
   ],
   "source": [
    "print('count:')\n",
    "print(pd.crosstab(df['Pclass'], df['Survived'], normalize=False).round(2))\n",
    "\n",
    "print(\"\\n\\nsurvival rate by sex\")\n",
    "print(pd.crosstab(df['Pclass'], df['Survived'], normalize='index').round(2))\n",
    "\n",
    "print(\"\\n\\nsurvival rate by sex column\")\n",
    "print(pd.crosstab(df['Pclass'], df['Survived'], normalize='columns').round(2))"
   ]
  },
  {
   "cell_type": "code",
   "execution_count": 30,
   "id": "a47297f4",
   "metadata": {},
   "outputs": [
    {
     "data": {
      "image/png": "[encoded data removed]",
      "text/plain": [
       "<Figure size 400x300 with 1 Axes>"
      ]
     },
     "metadata": {},
     "output_type": "display_data"
    }
   ],
   "source": [
    "pd.crosstab(df['Pclass'], df['Survived'], normalize='index').round(2).plot(\n",
    "    kind='bar',\n",
    "    stacked=True,\n",
    "    title='Pclass vs Survived',\n",
    "    xlabel='Pclass',\n",
    "    ylabel='Survival Rate',\n",
    "    rot=0,\n",
    "    figsize=(4, 3)\n",
    ")\n",
    "plt.legend(title='Survived', loc='right', labels=['No', 'Yes'])\n",
    "plt.tight_layout()\n",
    "plt.show()"
   ]
  },
  {
   "cell_type": "markdown",
   "id": "978ae459",
   "metadata": {},
   "source": [
    "#### Sex - survived\n"
   ]
  },
  {
   "cell_type": "code",
   "execution_count": 31,
   "id": "4cb349cb",
   "metadata": {},
   "outputs": [
    {
     "name": "stdout",
     "output_type": "stream",
     "text": [
      "count:\n",
      "Survived    0    1\n",
      "Sex               \n",
      "0         468  109\n",
      "1          81  233\n",
      "\n",
      "\n",
      "survival rate by sex\n",
      "Survived     0     1\n",
      "Sex                 \n",
      "0         0.81  0.19\n",
      "1         0.26  0.74\n",
      "\n",
      "\n",
      "survival rate by sex column\n",
      "Survived     0     1\n",
      "Sex                 \n",
      "0         0.85  0.32\n",
      "1         0.15  0.68\n"
     ]
    }
   ],
   "source": [
    "print('count:')\n",
    "print(pd.crosstab(df['Sex'], df['Survived'], normalize=False).round(2))\n",
    "\n",
    "print(\"\\n\\nsurvival rate by sex\")\n",
    "print(pd.crosstab(df['Sex'], df['Survived'], normalize='index').round(2))\n",
    "\n",
    "print(\"\\n\\nsurvival rate by sex column\")\n",
    "print(pd.crosstab(df['Sex'], df['Survived'], normalize='columns').round(2))"
   ]
  },
  {
   "cell_type": "markdown",
   "id": "f34cb6fe",
   "metadata": {},
   "source": [
    "#### Age - survived"
   ]
  },
  {
   "cell_type": "code",
   "execution_count": 32,
   "id": "1dee0a4a",
   "metadata": {},
   "outputs": [
    {
     "data": {
      "application/vnd.microsoft.datawrangler.viewer.v0+json": {
       "columns": [
        {
         "name": "index",
         "rawType": "object",
         "type": "string"
        },
        {
         "name": "0",
         "rawType": "float64",
         "type": "float"
        },
        {
         "name": "1",
         "rawType": "float64",
         "type": "float"
        }
       ],
       "ref": "7ab51536-9d2e-4f71-857b-6e28551e4822",
       "rows": [
        [
         "count",
         "424.0",
         "290.0"
        ],
        [
         "mean",
         "30.63",
         "28.34"
        ],
        [
         "std",
         "14.17",
         "14.95"
        ],
        [
         "min",
         "1.0",
         "0.42"
        ],
        [
         "25%",
         "21.0",
         "19.0"
        ],
        [
         "50%",
         "28.0",
         "28.0"
        ],
        [
         "75%",
         "39.0",
         "36.0"
        ],
        [
         "max",
         "74.0",
         "80.0"
        ]
       ],
       "shape": {
        "columns": 2,
        "rows": 8
       }
      },
      "text/html": [
       "<div>\n",
       "<style scoped>\n",
       "    .dataframe tbody tr th:only-of-type {\n",
       "        vertical-align: middle;\n",
       "    }\n",
       "\n",
       "    .dataframe tbody tr th {\n",
       "        vertical-align: top;\n",
       "    }\n",
       "\n",
       "    .dataframe thead th {\n",
       "        text-align: right;\n",
       "    }\n",
       "</style>\n",
       "<table border=\"1\" class=\"dataframe\">\n",
       "  <thead>\n",
       "    <tr style=\"text-align: right;\">\n",
       "      <th>Survived</th>\n",
       "      <th>0</th>\n",
       "      <th>1</th>\n",
       "    </tr>\n",
       "  </thead>\n",
       "  <tbody>\n",
       "    <tr>\n",
       "      <th>count</th>\n",
       "      <td>424.00</td>\n",
       "      <td>290.00</td>\n",
       "    </tr>\n",
       "    <tr>\n",
       "      <th>mean</th>\n",
       "      <td>30.63</td>\n",
       "      <td>28.34</td>\n",
       "    </tr>\n",
       "    <tr>\n",
       "      <th>std</th>\n",
       "      <td>14.17</td>\n",
       "      <td>14.95</td>\n",
       "    </tr>\n",
       "    <tr>\n",
       "      <th>min</th>\n",
       "      <td>1.00</td>\n",
       "      <td>0.42</td>\n",
       "    </tr>\n",
       "    <tr>\n",
       "      <th>25%</th>\n",
       "      <td>21.00</td>\n",
       "      <td>19.00</td>\n",
       "    </tr>\n",
       "    <tr>\n",
       "      <th>50%</th>\n",
       "      <td>28.00</td>\n",
       "      <td>28.00</td>\n",
       "    </tr>\n",
       "    <tr>\n",
       "      <th>75%</th>\n",
       "      <td>39.00</td>\n",
       "      <td>36.00</td>\n",
       "    </tr>\n",
       "    <tr>\n",
       "      <th>max</th>\n",
       "      <td>74.00</td>\n",
       "      <td>80.00</td>\n",
       "    </tr>\n",
       "  </tbody>\n",
       "</table>\n",
       "</div>"
      ],
      "text/plain": [
       "Survived       0       1\n",
       "count     424.00  290.00\n",
       "mean       30.63   28.34\n",
       "std        14.17   14.95\n",
       "min         1.00    0.42\n",
       "25%        21.00   19.00\n",
       "50%        28.00   28.00\n",
       "75%        39.00   36.00\n",
       "max        74.00   80.00"
      ]
     },
     "execution_count": 32,
     "metadata": {},
     "output_type": "execute_result"
    }
   ],
   "source": [
    "df['Age'].groupby(df['Survived']).describe().round(2).T"
   ]
  },
  {
   "cell_type": "markdown",
   "id": "f74c7f36",
   "metadata": {},
   "source": [
    "Filling missing values in 'Age' column with Median, as  it is equal across both classes (28.0), so no bias is introduced toward survival.\n"
   ]
  },
  {
   "cell_type": "code",
   "execution_count": 33,
   "id": "10ed717b",
   "metadata": {},
   "outputs": [],
   "source": [
    "df['Age'] = df['Age'].fillna(df['Age'].median())"
   ]
  },
  {
   "cell_type": "code",
   "execution_count": 34,
   "id": "875574ad",
   "metadata": {},
   "outputs": [
    {
     "data": {
      "image/png": "[encoded data removed]",
      "text/plain": [
       "<Figure size 1000x200 with 1 Axes>"
      ]
     },
     "metadata": {},
     "output_type": "display_data"
    }
   ],
   "source": [
    "plt.figure(figsize=(10, 2))\n",
    "sns.boxplot(\n",
    "    data=df,\n",
    "    x='Age',\n",
    "    hue='Survived',\n",
    "    orient='h',\n",
    ")\n",
    "\n",
    "plt.tight_layout()\n",
    "plt.show()"
   ]
  },
  {
   "cell_type": "code",
   "execution_count": 35,
   "id": "43921550",
   "metadata": {},
   "outputs": [
    {
     "data": {
      "text/plain": [
       "<Axes: xlabel='Age', ylabel='Density'>"
      ]
     },
     "execution_count": 35,
     "metadata": {},
     "output_type": "execute_result"
    },
    {
     "data": {
      "image/png": "[encoded data removed]",
      "text/plain": [
       "<Figure size 640x480 with 1 Axes>"
      ]
     },
     "metadata": {},
     "output_type": "display_data"
    }
   ],
   "source": [
    "sns.kdeplot(\n",
    "    data=df,\n",
    "    x='Age',\n",
    "    hue='Survived',\n",
    "    fill=True,\n",
    ")"
   ]
  },
  {
   "cell_type": "markdown",
   "id": "3ca5fa16",
   "metadata": {},
   "source": [
    "#### Family - survived\n"
   ]
  },
  {
   "cell_type": "code",
   "execution_count": 36,
   "id": "47dc6c89",
   "metadata": {},
   "outputs": [
    {
     "data": {
      "application/vnd.microsoft.datawrangler.viewer.v0+json": {
       "columns": [
        {
         "name": "isfamilyonboard",
         "rawType": "bool",
         "type": "boolean"
        },
        {
         "name": "0",
         "rawType": "float64",
         "type": "float"
        },
        {
         "name": "1",
         "rawType": "float64",
         "type": "float"
        }
       ],
       "ref": "602295e9-b146-46ca-be1e-383545d915b3",
       "rows": [
        [
         "False",
         "68.0",
         "48.0"
        ],
        [
         "True",
         "32.0",
         "52.0"
        ]
       ],
       "shape": {
        "columns": 2,
        "rows": 2
       }
      },
      "text/html": [
       "<div>\n",
       "<style scoped>\n",
       "    .dataframe tbody tr th:only-of-type {\n",
       "        vertical-align: middle;\n",
       "    }\n",
       "\n",
       "    .dataframe tbody tr th {\n",
       "        vertical-align: top;\n",
       "    }\n",
       "\n",
       "    .dataframe thead th {\n",
       "        text-align: right;\n",
       "    }\n",
       "</style>\n",
       "<table border=\"1\" class=\"dataframe\">\n",
       "  <thead>\n",
       "    <tr style=\"text-align: right;\">\n",
       "      <th>Survived</th>\n",
       "      <th>0</th>\n",
       "      <th>1</th>\n",
       "    </tr>\n",
       "    <tr>\n",
       "      <th>isfamilyonboard</th>\n",
       "      <th></th>\n",
       "      <th></th>\n",
       "    </tr>\n",
       "  </thead>\n",
       "  <tbody>\n",
       "    <tr>\n",
       "      <th>False</th>\n",
       "      <td>68.0</td>\n",
       "      <td>48.0</td>\n",
       "    </tr>\n",
       "    <tr>\n",
       "      <th>True</th>\n",
       "      <td>32.0</td>\n",
       "      <td>52.0</td>\n",
       "    </tr>\n",
       "  </tbody>\n",
       "</table>\n",
       "</div>"
      ],
      "text/plain": [
       "Survived            0     1\n",
       "isfamilyonboard            \n",
       "False            68.0  48.0\n",
       "True             32.0  52.0"
      ]
     },
     "execution_count": 36,
     "metadata": {},
     "output_type": "execute_result"
    }
   ],
   "source": [
    "df['isfamilyonboard'] = False\n",
    "df.loc[(df['SibSp'] > 0) | (df['Parch'] > 0), 'isfamilyonboard'] = True\n",
    "\n",
    "(pd.crosstab(df['isfamilyonboard'], df['Survived'], normalize='columns')*100).round()"
   ]
  },
  {
   "cell_type": "markdown",
   "id": "84842173",
   "metadata": {},
   "source": [
    "#### Ticket - Survived"
   ]
  },
  {
   "cell_type": "code",
   "execution_count": 37,
   "id": "2814eecb",
   "metadata": {},
   "outputs": [
    {
     "data": {
      "text/plain": [
       "<Axes: xlabel='Survived', ylabel='TicketGroupSize'>"
      ]
     },
     "execution_count": 37,
     "metadata": {},
     "output_type": "execute_result"
    },
    {
     "data": {
      "image/png": "[encoded data removed]",
      "text/plain": [
       "<Figure size 640x480 with 2 Axes>"
      ]
     },
     "metadata": {},
     "output_type": "display_data"
    }
   ],
   "source": [
    "df['TicketGroupSize'] = df.groupby('Ticket')['Ticket'].transform('count')\n",
    "\n",
    "sns.heatmap(pd.crosstab(df['TicketGroupSize'], df['Survived'], normalize='columns').round(2), annot=True, fmt='.2f', cmap='Blues')"
   ]
  },
  {
   "cell_type": "code",
   "execution_count": 38,
   "id": "047ec8e3",
   "metadata": {},
   "outputs": [
    {
     "data": {
      "application/vnd.microsoft.datawrangler.viewer.v0+json": {
       "columns": [
        {
         "name": "index",
         "rawType": "object",
         "type": "string"
        },
        {
         "name": "TicketGroupSize",
         "rawType": "float64",
         "type": "float"
        },
        {
         "name": "Survived",
         "rawType": "float64",
         "type": "float"
        }
       ],
       "ref": "ea2a0b0a-d8b1-4cd8-abaa-cbda366f4946",
       "rows": [
        [
         "TicketGroupSize",
         "1.0",
         "0.04"
        ],
        [
         "Survived",
         "0.04",
         "1.0"
        ]
       ],
       "shape": {
        "columns": 2,
        "rows": 2
       }
      },
      "text/html": [
       "<div>\n",
       "<style scoped>\n",
       "    .dataframe tbody tr th:only-of-type {\n",
       "        vertical-align: middle;\n",
       "    }\n",
       "\n",
       "    .dataframe tbody tr th {\n",
       "        vertical-align: top;\n",
       "    }\n",
       "\n",
       "    .dataframe thead th {\n",
       "        text-align: right;\n",
       "    }\n",
       "</style>\n",
       "<table border=\"1\" class=\"dataframe\">\n",
       "  <thead>\n",
       "    <tr style=\"text-align: right;\">\n",
       "      <th></th>\n",
       "      <th>TicketGroupSize</th>\n",
       "      <th>Survived</th>\n",
       "    </tr>\n",
       "  </thead>\n",
       "  <tbody>\n",
       "    <tr>\n",
       "      <th>TicketGroupSize</th>\n",
       "      <td>1.00</td>\n",
       "      <td>0.04</td>\n",
       "    </tr>\n",
       "    <tr>\n",
       "      <th>Survived</th>\n",
       "      <td>0.04</td>\n",
       "      <td>1.00</td>\n",
       "    </tr>\n",
       "  </tbody>\n",
       "</table>\n",
       "</div>"
      ],
      "text/plain": [
       "                 TicketGroupSize  Survived\n",
       "TicketGroupSize             1.00      0.04\n",
       "Survived                    0.04      1.00"
      ]
     },
     "execution_count": 38,
     "metadata": {},
     "output_type": "execute_result"
    }
   ],
   "source": [
    "df[['TicketGroupSize','Survived']].corr().round(2)"
   ]
  },
  {
   "cell_type": "markdown",
   "id": "467ffb45",
   "metadata": {},
   "source": [
    "#### Fare - Pclass"
   ]
  },
  {
   "cell_type": "code",
   "execution_count": 39,
   "id": "0e37c7bd",
   "metadata": {},
   "outputs": [
    {
     "data": {
      "application/vnd.microsoft.datawrangler.viewer.v0+json": {
       "columns": [
        {
         "name": "index",
         "rawType": "object",
         "type": "string"
        },
        {
         "name": "1",
         "rawType": "float64",
         "type": "float"
        },
        {
         "name": "2",
         "rawType": "float64",
         "type": "float"
        },
        {
         "name": "3",
         "rawType": "float64",
         "type": "float"
        }
       ],
       "ref": "42bbb310-780e-4095-a277-8bde8b9d2138",
       "rows": [
        [
         "count",
         "216.0",
         "184.0",
         "491.0"
        ],
        [
         "mean",
         "84.15",
         "20.66",
         "13.68"
        ],
        [
         "std",
         "78.38",
         "13.42",
         "11.78"
        ],
        [
         "min",
         "0.0",
         "0.0",
         "0.0"
        ],
        [
         "25%",
         "30.92",
         "13.0",
         "7.75"
        ],
        [
         "50%",
         "60.29",
         "14.25",
         "8.05"
        ],
        [
         "75%",
         "93.5",
         "26.0",
         "15.5"
        ],
        [
         "max",
         "512.33",
         "73.5",
         "69.55"
        ]
       ],
       "shape": {
        "columns": 3,
        "rows": 8
       }
      },
      "text/html": [
       "<div>\n",
       "<style scoped>\n",
       "    .dataframe tbody tr th:only-of-type {\n",
       "        vertical-align: middle;\n",
       "    }\n",
       "\n",
       "    .dataframe tbody tr th {\n",
       "        vertical-align: top;\n",
       "    }\n",
       "\n",
       "    .dataframe thead th {\n",
       "        text-align: right;\n",
       "    }\n",
       "</style>\n",
       "<table border=\"1\" class=\"dataframe\">\n",
       "  <thead>\n",
       "    <tr style=\"text-align: right;\">\n",
       "      <th>Pclass</th>\n",
       "      <th>1</th>\n",
       "      <th>2</th>\n",
       "      <th>3</th>\n",
       "    </tr>\n",
       "  </thead>\n",
       "  <tbody>\n",
       "    <tr>\n",
       "      <th>count</th>\n",
       "      <td>216.00</td>\n",
       "      <td>184.00</td>\n",
       "      <td>491.00</td>\n",
       "    </tr>\n",
       "    <tr>\n",
       "      <th>mean</th>\n",
       "      <td>84.15</td>\n",
       "      <td>20.66</td>\n",
       "      <td>13.68</td>\n",
       "    </tr>\n",
       "    <tr>\n",
       "      <th>std</th>\n",
       "      <td>78.38</td>\n",
       "      <td>13.42</td>\n",
       "      <td>11.78</td>\n",
       "    </tr>\n",
       "    <tr>\n",
       "      <th>min</th>\n",
       "      <td>0.00</td>\n",
       "      <td>0.00</td>\n",
       "      <td>0.00</td>\n",
       "    </tr>\n",
       "    <tr>\n",
       "      <th>25%</th>\n",
       "      <td>30.92</td>\n",
       "      <td>13.00</td>\n",
       "      <td>7.75</td>\n",
       "    </tr>\n",
       "    <tr>\n",
       "      <th>50%</th>\n",
       "      <td>60.29</td>\n",
       "      <td>14.25</td>\n",
       "      <td>8.05</td>\n",
       "    </tr>\n",
       "    <tr>\n",
       "      <th>75%</th>\n",
       "      <td>93.50</td>\n",
       "      <td>26.00</td>\n",
       "      <td>15.50</td>\n",
       "    </tr>\n",
       "    <tr>\n",
       "      <th>max</th>\n",
       "      <td>512.33</td>\n",
       "      <td>73.50</td>\n",
       "      <td>69.55</td>\n",
       "    </tr>\n",
       "  </tbody>\n",
       "</table>\n",
       "</div>"
      ],
      "text/plain": [
       "Pclass       1       2       3\n",
       "count   216.00  184.00  491.00\n",
       "mean     84.15   20.66   13.68\n",
       "std      78.38   13.42   11.78\n",
       "min       0.00    0.00    0.00\n",
       "25%      30.92   13.00    7.75\n",
       "50%      60.29   14.25    8.05\n",
       "75%      93.50   26.00   15.50\n",
       "max     512.33   73.50   69.55"
      ]
     },
     "execution_count": 39,
     "metadata": {},
     "output_type": "execute_result"
    }
   ],
   "source": [
    "df['Fare'].groupby(df['Pclass']).describe().round(2).T"
   ]
  },
  {
   "cell_type": "code",
   "execution_count": 40,
   "id": "1ca61cbe",
   "metadata": {},
   "outputs": [
    {
     "data": {
      "text/plain": [
       "<Axes: xlabel='Fare'>"
      ]
     },
     "execution_count": 40,
     "metadata": {},
     "output_type": "execute_result"
    },
    {
     "data": {
      "image/png": "[encoded data removed]",
      "text/plain": [
       "<Figure size 2000x300 with 1 Axes>"
      ]
     },
     "metadata": {},
     "output_type": "display_data"
    }
   ],
   "source": [
    "plt.figure(figsize=(20, 3))\n",
    "sns.boxplot(\n",
    "    data=df,\n",
    "    x='Fare',\n",
    "    hue='Pclass',\n",
    "    palette='dark',\n",
    ")"
   ]
  },
  {
   "cell_type": "code",
   "execution_count": 41,
   "id": "543048e6",
   "metadata": {},
   "outputs": [
    {
     "data": {
      "application/vnd.microsoft.datawrangler.viewer.v0+json": {
       "columns": [
        {
         "name": "index",
         "rawType": "object",
         "type": "string"
        },
        {
         "name": "Pclass",
         "rawType": "float64",
         "type": "float"
        },
        {
         "name": "Fare",
         "rawType": "float64",
         "type": "float"
        }
       ],
       "ref": "62696508-039a-488d-88b7-b955835baf6b",
       "rows": [
        [
         "Pclass",
         "1.0",
         "-0.55"
        ],
        [
         "Fare",
         "-0.55",
         "1.0"
        ]
       ],
       "shape": {
        "columns": 2,
        "rows": 2
       }
      },
      "text/html": [
       "<div>\n",
       "<style scoped>\n",
       "    .dataframe tbody tr th:only-of-type {\n",
       "        vertical-align: middle;\n",
       "    }\n",
       "\n",
       "    .dataframe tbody tr th {\n",
       "        vertical-align: top;\n",
       "    }\n",
       "\n",
       "    .dataframe thead th {\n",
       "        text-align: right;\n",
       "    }\n",
       "</style>\n",
       "<table border=\"1\" class=\"dataframe\">\n",
       "  <thead>\n",
       "    <tr style=\"text-align: right;\">\n",
       "      <th></th>\n",
       "      <th>Pclass</th>\n",
       "      <th>Fare</th>\n",
       "    </tr>\n",
       "  </thead>\n",
       "  <tbody>\n",
       "    <tr>\n",
       "      <th>Pclass</th>\n",
       "      <td>1.00</td>\n",
       "      <td>-0.55</td>\n",
       "    </tr>\n",
       "    <tr>\n",
       "      <th>Fare</th>\n",
       "      <td>-0.55</td>\n",
       "      <td>1.00</td>\n",
       "    </tr>\n",
       "  </tbody>\n",
       "</table>\n",
       "</div>"
      ],
      "text/plain": [
       "        Pclass  Fare\n",
       "Pclass    1.00 -0.55\n",
       "Fare     -0.55  1.00"
      ]
     },
     "execution_count": 41,
     "metadata": {},
     "output_type": "execute_result"
    }
   ],
   "source": [
    "df[['Pclass', 'Fare']].corr().round(2)"
   ]
  },
  {
   "cell_type": "markdown",
   "id": "37de72fb",
   "metadata": {},
   "source": []
  },
  {
   "cell_type": "code",
   "execution_count": 42,
   "id": "7878e64f",
   "metadata": {},
   "outputs": [
    {
     "data": {
      "application/vnd.microsoft.datawrangler.viewer.v0+json": {
       "columns": [
        {
         "name": "Pclass",
         "rawType": "int64",
         "type": "integer"
        },
        {
         "name": "Q1",
         "rawType": "float64",
         "type": "float"
        },
        {
         "name": "Q3",
         "rawType": "float64",
         "type": "float"
        },
        {
         "name": "IQR",
         "rawType": "float64",
         "type": "float"
        },
        {
         "name": "Upper_Bound",
         "rawType": "float64",
         "type": "float"
        },
        {
         "name": "Lower_Bound",
         "rawType": "float64",
         "type": "float"
        }
       ],
       "ref": "70245e75-b499-481f-b7b6-05fc9afbffe0",
       "rows": [
        [
         "1",
         "30.92",
         "93.5",
         "62.58",
         "187.36",
         "0.0"
        ],
        [
         "2",
         "13.0",
         "26.0",
         "13.0",
         "45.5",
         "0.0"
        ],
        [
         "3",
         "7.75",
         "15.5",
         "7.75",
         "27.12",
         "0.0"
        ]
       ],
       "shape": {
        "columns": 5,
        "rows": 3
       }
      },
      "text/html": [
       "<div>\n",
       "<style scoped>\n",
       "    .dataframe tbody tr th:only-of-type {\n",
       "        vertical-align: middle;\n",
       "    }\n",
       "\n",
       "    .dataframe tbody tr th {\n",
       "        vertical-align: top;\n",
       "    }\n",
       "\n",
       "    .dataframe thead th {\n",
       "        text-align: right;\n",
       "    }\n",
       "</style>\n",
       "<table border=\"1\" class=\"dataframe\">\n",
       "  <thead>\n",
       "    <tr style=\"text-align: right;\">\n",
       "      <th></th>\n",
       "      <th>Q1</th>\n",
       "      <th>Q3</th>\n",
       "      <th>IQR</th>\n",
       "      <th>Upper_Bound</th>\n",
       "      <th>Lower_Bound</th>\n",
       "    </tr>\n",
       "    <tr>\n",
       "      <th>Pclass</th>\n",
       "      <th></th>\n",
       "      <th></th>\n",
       "      <th></th>\n",
       "      <th></th>\n",
       "      <th></th>\n",
       "    </tr>\n",
       "  </thead>\n",
       "  <tbody>\n",
       "    <tr>\n",
       "      <th>1</th>\n",
       "      <td>30.92</td>\n",
       "      <td>93.5</td>\n",
       "      <td>62.58</td>\n",
       "      <td>187.36</td>\n",
       "      <td>0.0</td>\n",
       "    </tr>\n",
       "    <tr>\n",
       "      <th>2</th>\n",
       "      <td>13.00</td>\n",
       "      <td>26.0</td>\n",
       "      <td>13.00</td>\n",
       "      <td>45.50</td>\n",
       "      <td>0.0</td>\n",
       "    </tr>\n",
       "    <tr>\n",
       "      <th>3</th>\n",
       "      <td>7.75</td>\n",
       "      <td>15.5</td>\n",
       "      <td>7.75</td>\n",
       "      <td>27.12</td>\n",
       "      <td>0.0</td>\n",
       "    </tr>\n",
       "  </tbody>\n",
       "</table>\n",
       "</div>"
      ],
      "text/plain": [
       "           Q1    Q3    IQR  Upper_Bound  Lower_Bound\n",
       "Pclass                                              \n",
       "1       30.92  93.5  62.58       187.36          0.0\n",
       "2       13.00  26.0  13.00        45.50          0.0\n",
       "3        7.75  15.5   7.75        27.12          0.0"
      ]
     },
     "execution_count": 42,
     "metadata": {},
     "output_type": "execute_result"
    }
   ],
   "source": [
    "fare_bounds = df.groupby('Pclass')['Fare'].agg(\n",
    "    Q1=lambda x: x.quantile(0.25),\n",
    "    Q3=lambda x: x.quantile(0.75)\n",
    ")\n",
    "\n",
    "fare_bounds['IQR'] = fare_bounds['Q3'] - fare_bounds['Q1']\n",
    "fare_bounds['Upper_Bound'] = fare_bounds['Q3'] + 1.5 * fare_bounds['IQR']\n",
    "fare_bounds['Lower_Bound'] = (fare_bounds['Q1'] - 1.5 * fare_bounds['IQR']).clip(lower=0)\n",
    "\n",
    "fare_bounds.round(2)"
   ]
  },
  {
   "cell_type": "code",
   "execution_count": 43,
   "id": "5a0455d6",
   "metadata": {},
   "outputs": [
    {
     "data": {
      "text/plain": [
       "0.0"
      ]
     },
     "execution_count": 43,
     "metadata": {},
     "output_type": "execute_result"
    }
   ],
   "source": [
    "# Filter out outliers to double check\n",
    "tempdf = df[df['Fare'] >= fare_bounds['Upper_Bound'].max()].groupby(by='Ticket')['Fare'].agg(['min', 'max', 'mean', 'count'])\n",
    "\n",
    "(tempdf['max'] - tempdf['min']).sum()"
   ]
  },
  {
   "cell_type": "code",
   "execution_count": 44,
   "id": "4ca83b4f",
   "metadata": {},
   "outputs": [
    {
     "data": {
      "application/vnd.microsoft.datawrangler.viewer.v0+json": {
       "columns": [
        {
         "name": "index",
         "rawType": "int64",
         "type": "integer"
        },
        {
         "name": "Ticket",
         "rawType": "object",
         "type": "string"
        },
        {
         "name": "min",
         "rawType": "float64",
         "type": "float"
        },
        {
         "name": "max",
         "rawType": "float64",
         "type": "float"
        },
        {
         "name": "mean",
         "rawType": "float64",
         "type": "float"
        },
        {
         "name": "count",
         "rawType": "int64",
         "type": "integer"
        },
        {
         "name": "Pclass",
         "rawType": "int64",
         "type": "integer"
        }
       ],
       "ref": "e49b58c9-1c06-4470-82ca-8465624b7a07",
       "rows": [
        [
         "0",
         "PC 17755",
         "512.3292",
         "512.3292",
         "512.3292",
         "3",
         "1"
        ],
        [
         "1",
         "PC 17755",
         "512.3292",
         "512.3292",
         "512.3292",
         "3",
         "1"
        ],
        [
         "2",
         "PC 17755",
         "512.3292",
         "512.3292",
         "512.3292",
         "3",
         "1"
        ],
        [
         "3",
         "19950",
         "263.0",
         "263.0",
         "263.0",
         "4",
         "1"
        ],
        [
         "4",
         "19950",
         "263.0",
         "263.0",
         "263.0",
         "4",
         "1"
        ],
        [
         "5",
         "19950",
         "263.0",
         "263.0",
         "263.0",
         "4",
         "1"
        ],
        [
         "6",
         "19950",
         "263.0",
         "263.0",
         "263.0",
         "4",
         "1"
        ],
        [
         "7",
         "PC 17608",
         "262.375",
         "262.375",
         "262.375",
         "2",
         "1"
        ],
        [
         "8",
         "PC 17608",
         "262.375",
         "262.375",
         "262.375",
         "2",
         "1"
        ],
        [
         "9",
         "PC 17558",
         "247.5208",
         "247.5208",
         "247.5208",
         "2",
         "1"
        ],
        [
         "10",
         "PC 17558",
         "247.5208",
         "247.5208",
         "247.5208",
         "2",
         "1"
        ],
        [
         "11",
         "PC 17757",
         "227.525",
         "227.525",
         "227.525",
         "4",
         "1"
        ],
        [
         "12",
         "PC 17757",
         "227.525",
         "227.525",
         "227.525",
         "4",
         "1"
        ],
        [
         "13",
         "PC 17757",
         "227.525",
         "227.525",
         "227.525",
         "4",
         "1"
        ],
        [
         "14",
         "PC 17757",
         "227.525",
         "227.525",
         "227.525",
         "4",
         "1"
        ],
        [
         "15",
         "PC 17483",
         "221.7792",
         "221.7792",
         "221.7792",
         "1",
         "1"
        ],
        [
         "16",
         "113503",
         "211.5",
         "211.5",
         "211.5",
         "1",
         "1"
        ],
        [
         "17",
         "24160",
         "211.3375",
         "211.3375",
         "211.3375",
         "3",
         "1"
        ],
        [
         "18",
         "24160",
         "211.3375",
         "211.3375",
         "211.3375",
         "3",
         "1"
        ],
        [
         "19",
         "24160",
         "211.3375",
         "211.3375",
         "211.3375",
         "3",
         "1"
        ]
       ],
       "shape": {
        "columns": 6,
        "rows": 20
       }
      },
      "text/html": [
       "<div>\n",
       "<style scoped>\n",
       "    .dataframe tbody tr th:only-of-type {\n",
       "        vertical-align: middle;\n",
       "    }\n",
       "\n",
       "    .dataframe tbody tr th {\n",
       "        vertical-align: top;\n",
       "    }\n",
       "\n",
       "    .dataframe thead th {\n",
       "        text-align: right;\n",
       "    }\n",
       "</style>\n",
       "<table border=\"1\" class=\"dataframe\">\n",
       "  <thead>\n",
       "    <tr style=\"text-align: right;\">\n",
       "      <th></th>\n",
       "      <th>Ticket</th>\n",
       "      <th>min</th>\n",
       "      <th>max</th>\n",
       "      <th>mean</th>\n",
       "      <th>count</th>\n",
       "      <th>Pclass</th>\n",
       "    </tr>\n",
       "  </thead>\n",
       "  <tbody>\n",
       "    <tr>\n",
       "      <th>0</th>\n",
       "      <td>PC 17755</td>\n",
       "      <td>512.3292</td>\n",
       "      <td>512.3292</td>\n",
       "      <td>512.3292</td>\n",
       "      <td>3</td>\n",
       "      <td>1</td>\n",
       "    </tr>\n",
       "    <tr>\n",
       "      <th>1</th>\n",
       "      <td>PC 17755</td>\n",
       "      <td>512.3292</td>\n",
       "      <td>512.3292</td>\n",
       "      <td>512.3292</td>\n",
       "      <td>3</td>\n",
       "      <td>1</td>\n",
       "    </tr>\n",
       "    <tr>\n",
       "      <th>2</th>\n",
       "      <td>PC 17755</td>\n",
       "      <td>512.3292</td>\n",
       "      <td>512.3292</td>\n",
       "      <td>512.3292</td>\n",
       "      <td>3</td>\n",
       "      <td>1</td>\n",
       "    </tr>\n",
       "    <tr>\n",
       "      <th>3</th>\n",
       "      <td>19950</td>\n",
       "      <td>263.0000</td>\n",
       "      <td>263.0000</td>\n",
       "      <td>263.0000</td>\n",
       "      <td>4</td>\n",
       "      <td>1</td>\n",
       "    </tr>\n",
       "    <tr>\n",
       "      <th>4</th>\n",
       "      <td>19950</td>\n",
       "      <td>263.0000</td>\n",
       "      <td>263.0000</td>\n",
       "      <td>263.0000</td>\n",
       "      <td>4</td>\n",
       "      <td>1</td>\n",
       "    </tr>\n",
       "    <tr>\n",
       "      <th>5</th>\n",
       "      <td>19950</td>\n",
       "      <td>263.0000</td>\n",
       "      <td>263.0000</td>\n",
       "      <td>263.0000</td>\n",
       "      <td>4</td>\n",
       "      <td>1</td>\n",
       "    </tr>\n",
       "    <tr>\n",
       "      <th>6</th>\n",
       "      <td>19950</td>\n",
       "      <td>263.0000</td>\n",
       "      <td>263.0000</td>\n",
       "      <td>263.0000</td>\n",
       "      <td>4</td>\n",
       "      <td>1</td>\n",
       "    </tr>\n",
       "    <tr>\n",
       "      <th>7</th>\n",
       "      <td>PC 17608</td>\n",
       "      <td>262.3750</td>\n",
       "      <td>262.3750</td>\n",
       "      <td>262.3750</td>\n",
       "      <td>2</td>\n",
       "      <td>1</td>\n",
       "    </tr>\n",
       "    <tr>\n",
       "      <th>8</th>\n",
       "      <td>PC 17608</td>\n",
       "      <td>262.3750</td>\n",
       "      <td>262.3750</td>\n",
       "      <td>262.3750</td>\n",
       "      <td>2</td>\n",
       "      <td>1</td>\n",
       "    </tr>\n",
       "    <tr>\n",
       "      <th>9</th>\n",
       "      <td>PC 17558</td>\n",
       "      <td>247.5208</td>\n",
       "      <td>247.5208</td>\n",
       "      <td>247.5208</td>\n",
       "      <td>2</td>\n",
       "      <td>1</td>\n",
       "    </tr>\n",
       "    <tr>\n",
       "      <th>10</th>\n",
       "      <td>PC 17558</td>\n",
       "      <td>247.5208</td>\n",
       "      <td>247.5208</td>\n",
       "      <td>247.5208</td>\n",
       "      <td>2</td>\n",
       "      <td>1</td>\n",
       "    </tr>\n",
       "    <tr>\n",
       "      <th>11</th>\n",
       "      <td>PC 17757</td>\n",
       "      <td>227.5250</td>\n",
       "      <td>227.5250</td>\n",
       "      <td>227.5250</td>\n",
       "      <td>4</td>\n",
       "      <td>1</td>\n",
       "    </tr>\n",
       "    <tr>\n",
       "      <th>12</th>\n",
       "      <td>PC 17757</td>\n",
       "      <td>227.5250</td>\n",
       "      <td>227.5250</td>\n",
       "      <td>227.5250</td>\n",
       "      <td>4</td>\n",
       "      <td>1</td>\n",
       "    </tr>\n",
       "    <tr>\n",
       "      <th>13</th>\n",
       "      <td>PC 17757</td>\n",
       "      <td>227.5250</td>\n",
       "      <td>227.5250</td>\n",
       "      <td>227.5250</td>\n",
       "      <td>4</td>\n",
       "      <td>1</td>\n",
       "    </tr>\n",
       "    <tr>\n",
       "      <th>14</th>\n",
       "      <td>PC 17757</td>\n",
       "      <td>227.5250</td>\n",
       "      <td>227.5250</td>\n",
       "      <td>227.5250</td>\n",
       "      <td>4</td>\n",
       "      <td>1</td>\n",
       "    </tr>\n",
       "    <tr>\n",
       "      <th>15</th>\n",
       "      <td>PC 17483</td>\n",
       "      <td>221.7792</td>\n",
       "      <td>221.7792</td>\n",
       "      <td>221.7792</td>\n",
       "      <td>1</td>\n",
       "      <td>1</td>\n",
       "    </tr>\n",
       "    <tr>\n",
       "      <th>16</th>\n",
       "      <td>113503</td>\n",
       "      <td>211.5000</td>\n",
       "      <td>211.5000</td>\n",
       "      <td>211.5000</td>\n",
       "      <td>1</td>\n",
       "      <td>1</td>\n",
       "    </tr>\n",
       "    <tr>\n",
       "      <th>17</th>\n",
       "      <td>24160</td>\n",
       "      <td>211.3375</td>\n",
       "      <td>211.3375</td>\n",
       "      <td>211.3375</td>\n",
       "      <td>3</td>\n",
       "      <td>1</td>\n",
       "    </tr>\n",
       "    <tr>\n",
       "      <th>18</th>\n",
       "      <td>24160</td>\n",
       "      <td>211.3375</td>\n",
       "      <td>211.3375</td>\n",
       "      <td>211.3375</td>\n",
       "      <td>3</td>\n",
       "      <td>1</td>\n",
       "    </tr>\n",
       "    <tr>\n",
       "      <th>19</th>\n",
       "      <td>24160</td>\n",
       "      <td>211.3375</td>\n",
       "      <td>211.3375</td>\n",
       "      <td>211.3375</td>\n",
       "      <td>3</td>\n",
       "      <td>1</td>\n",
       "    </tr>\n",
       "  </tbody>\n",
       "</table>\n",
       "</div>"
      ],
      "text/plain": [
       "      Ticket       min       max      mean  count  Pclass\n",
       "0   PC 17755  512.3292  512.3292  512.3292      3       1\n",
       "1   PC 17755  512.3292  512.3292  512.3292      3       1\n",
       "2   PC 17755  512.3292  512.3292  512.3292      3       1\n",
       "3      19950  263.0000  263.0000  263.0000      4       1\n",
       "4      19950  263.0000  263.0000  263.0000      4       1\n",
       "5      19950  263.0000  263.0000  263.0000      4       1\n",
       "6      19950  263.0000  263.0000  263.0000      4       1\n",
       "7   PC 17608  262.3750  262.3750  262.3750      2       1\n",
       "8   PC 17608  262.3750  262.3750  262.3750      2       1\n",
       "9   PC 17558  247.5208  247.5208  247.5208      2       1\n",
       "10  PC 17558  247.5208  247.5208  247.5208      2       1\n",
       "11  PC 17757  227.5250  227.5250  227.5250      4       1\n",
       "12  PC 17757  227.5250  227.5250  227.5250      4       1\n",
       "13  PC 17757  227.5250  227.5250  227.5250      4       1\n",
       "14  PC 17757  227.5250  227.5250  227.5250      4       1\n",
       "15  PC 17483  221.7792  221.7792  221.7792      1       1\n",
       "16    113503  211.5000  211.5000  211.5000      1       1\n",
       "17     24160  211.3375  211.3375  211.3375      3       1\n",
       "18     24160  211.3375  211.3375  211.3375      3       1\n",
       "19     24160  211.3375  211.3375  211.3375      3       1"
      ]
     },
     "execution_count": 44,
     "metadata": {},
     "output_type": "execute_result"
    }
   ],
   "source": [
    "tempdf.sort_values(by='max', ascending=False).reset_index().merge(df[['Ticket', 'Pclass']], on='Ticket', how='left')"
   ]
  },
  {
   "cell_type": "code",
   "execution_count": 45,
   "id": "cf1205ee",
   "metadata": {},
   "outputs": [],
   "source": [
    "#they seem correct, just cap the max fare previous price, So capping them based on Pclass\n",
    "\n",
    "for i in range(1, 4):\n",
    "    df.loc[\n",
    "        (df['Pclass'] == i) & (df['Fare'] > fare_bounds.loc[i, 'Upper_Bound']),\n",
    "        'Fare'\n",
    "    ] = fare_bounds.loc[i, 'Upper_Bound']"
   ]
  },
  {
   "cell_type": "markdown",
   "id": "91e47e31",
   "metadata": {},
   "source": [
    "#### Fare - Survived"
   ]
  },
  {
   "cell_type": "code",
   "execution_count": 46,
   "id": "68cf3aa1",
   "metadata": {},
   "outputs": [
    {
     "data": {
      "text/plain": [
       "<Axes: xlabel='Fare', ylabel='Density'>"
      ]
     },
     "execution_count": 46,
     "metadata": {},
     "output_type": "execute_result"
    },
    {
     "data": {
      "image/png": "[encoded data removed]",
      "text/plain": [
       "<Figure size 640x480 with 1 Axes>"
      ]
     },
     "metadata": {},
     "output_type": "display_data"
    }
   ],
   "source": [
    "sns.kdeplot(\n",
    "    data=df,\n",
    "    x='Fare',\n",
    "    hue='Survived',\n",
    "    fill=True,\n",
    "    common_norm=True\n",
    ")"
   ]
  },
  {
   "cell_type": "code",
   "execution_count": 47,
   "id": "fb3d81c8",
   "metadata": {},
   "outputs": [
    {
     "data": {
      "application/vnd.microsoft.datawrangler.viewer.v0+json": {
       "columns": [
        {
         "name": "index",
         "rawType": "object",
         "type": "string"
        },
        {
         "name": "Fare",
         "rawType": "float64",
         "type": "float"
        },
        {
         "name": "Pclass",
         "rawType": "float64",
         "type": "float"
        },
        {
         "name": "Survived",
         "rawType": "float64",
         "type": "float"
        }
       ],
       "ref": "3f6f19f0-17aa-46db-a0bb-d250fd42cefa",
       "rows": [
        [
         "Fare",
         "1.0",
         "-0.67",
         "0.3"
        ],
        [
         "Pclass",
         "-0.67",
         "1.0",
         "-0.34"
        ],
        [
         "Survived",
         "0.3",
         "-0.34",
         "1.0"
        ]
       ],
       "shape": {
        "columns": 3,
        "rows": 3
       }
      },
      "text/html": [
       "<div>\n",
       "<style scoped>\n",
       "    .dataframe tbody tr th:only-of-type {\n",
       "        vertical-align: middle;\n",
       "    }\n",
       "\n",
       "    .dataframe tbody tr th {\n",
       "        vertical-align: top;\n",
       "    }\n",
       "\n",
       "    .dataframe thead th {\n",
       "        text-align: right;\n",
       "    }\n",
       "</style>\n",
       "<table border=\"1\" class=\"dataframe\">\n",
       "  <thead>\n",
       "    <tr style=\"text-align: right;\">\n",
       "      <th></th>\n",
       "      <th>Fare</th>\n",
       "      <th>Pclass</th>\n",
       "      <th>Survived</th>\n",
       "    </tr>\n",
       "  </thead>\n",
       "  <tbody>\n",
       "    <tr>\n",
       "      <th>Fare</th>\n",
       "      <td>1.00</td>\n",
       "      <td>-0.67</td>\n",
       "      <td>0.30</td>\n",
       "    </tr>\n",
       "    <tr>\n",
       "      <th>Pclass</th>\n",
       "      <td>-0.67</td>\n",
       "      <td>1.00</td>\n",
       "      <td>-0.34</td>\n",
       "    </tr>\n",
       "    <tr>\n",
       "      <th>Survived</th>\n",
       "      <td>0.30</td>\n",
       "      <td>-0.34</td>\n",
       "      <td>1.00</td>\n",
       "    </tr>\n",
       "  </tbody>\n",
       "</table>\n",
       "</div>"
      ],
      "text/plain": [
       "          Fare  Pclass  Survived\n",
       "Fare      1.00   -0.67      0.30\n",
       "Pclass   -0.67    1.00     -0.34\n",
       "Survived  0.30   -0.34      1.00"
      ]
     },
     "execution_count": 47,
     "metadata": {},
     "output_type": "execute_result"
    }
   ],
   "source": [
    "df[['Fare', 'Pclass', 'Survived']].corr().round(2)"
   ]
  },
  {
   "cell_type": "markdown",
   "id": "c3fc9f92",
   "metadata": {},
   "source": [
    "Same effect of Fare and Pclass"
   ]
  },
  {
   "cell_type": "markdown",
   "id": "2a617c1a",
   "metadata": {},
   "source": [
    "#### Embarked - Survived"
   ]
  },
  {
   "cell_type": "code",
   "execution_count": 48,
   "id": "0099e5c9",
   "metadata": {},
   "outputs": [
    {
     "name": "stdout",
     "output_type": "stream",
     "text": [
      "count\n",
      "Survived    0    1\n",
      "Embarked          \n",
      "0.0        75   93\n",
      "1.0        47   30\n",
      "2.0       427  217\n",
      "\n",
      "\n",
      "survival rate by embarked\n",
      "Survived     0     1\n",
      "Embarked            \n",
      "0.0       0.45  0.55\n",
      "1.0       0.61  0.39\n",
      "2.0       0.66  0.34\n",
      "\n",
      "\n",
      "survival rate by embarked column\n",
      "Survived     0     1\n",
      "Embarked            \n",
      "0.0       0.14  0.27\n",
      "1.0       0.09  0.09\n",
      "2.0       0.78  0.64\n"
     ]
    }
   ],
   "source": [
    "print('count')\n",
    "print(pd.crosstab(df['Embarked'], df['Survived'], normalize=False).round(2))\n",
    "\n",
    "print(\"\\n\\nsurvival rate by embarked\")\n",
    "print(pd.crosstab(df['Embarked'], df['Survived'], normalize='index').round(2))\n",
    "\n",
    "print(\"\\n\\nsurvival rate by embarked column\")\n",
    "print(pd.crosstab(df['Embarked'], df['Survived'], normalize='columns').round(2))"
   ]
  },
  {
   "cell_type": "markdown",
   "id": "e6e0c0f5",
   "metadata": {},
   "source": [
    "Seems to have no effect on survival rate, but let's check the fare distribution by embarked"
   ]
  },
  {
   "cell_type": "code",
   "execution_count": 49,
   "id": "e75cf610",
   "metadata": {},
   "outputs": [
    {
     "data": {
      "text/plain": [
       "<Axes: xlabel='Fare'>"
      ]
     },
     "execution_count": 49,
     "metadata": {},
     "output_type": "execute_result"
    },
    {
     "data": {
      "image/png": "[encoded data removed]",
      "text/plain": [
       "<Figure size 2000x300 with 1 Axes>"
      ]
     },
     "metadata": {},
     "output_type": "display_data"
    }
   ],
   "source": [
    "plt.figure(figsize=(20, 3))\n",
    "sns.boxplot(\n",
    "    data=df,\n",
    "    x='Fare',\n",
    "    hue='Embarked',\n",
    "    palette='dark',\n",
    ")"
   ]
  },
  {
   "cell_type": "markdown",
   "id": "0591af80",
   "metadata": {},
   "source": [
    "\n",
    "# 6. Initial observations & hypotheses"
   ]
  },
  {
   "cell_type": "markdown",
   "id": "3985cbf3",
   "metadata": {},
   "source": [
    "## 🛠 Missing Value Strategy\n",
    "\n",
    "### `Age`\n",
    "\n",
    "* \\~20% missing; too many to drop.\n",
    "* Impute with **median (28.0)** — it's consistent across survival classes, so no bias is introduced.\n",
    "* Some outliers exist, but they appear reasonable. So to address it, assign them into a new feature `AgeGroup`\n",
    "\n",
    "\n",
    "### `Cabin`\n",
    "\n",
    "* Majority missing.\n",
    "* Low information value → **Drop the column.**\n",
    "\n",
    "\n",
    "### `Embarked`\n",
    "\n",
    "* Very few missing values.\n",
    "* Random pattern, no clear link with survival.\n",
    "* Drop missing rows or impute with mode (`S`)\n",
    "\n",
    "\n",
    "---\n",
    "\n",
    "## 📊 Variable Insights\n",
    "\n",
    "### `Survived`\n",
    "* Imbalanced distribution, more data on **Class 0**.\n",
    "\n",
    "\n",
    "### `Pclass`\n",
    "\n",
    "* Imbalanced distribution, more data on **Class 3**.\n",
    "* Strong correlation with **Fare** and also **Survival**.\n",
    "* seems that Fare and Class are pointing to a similar concept.\n",
    "\n",
    "### `Sex`\n",
    "\n",
    "* Strong survival predictor.\n",
    "* **Female survival rate ≈ 68%** — significant difference from males.\n",
    "\n",
    "### `SibSp` and `Parch`\n",
    "\n",
    "* Being with family may influence survival.\n",
    "* Create a binary feature may helps to capture effect of having relatives on board.\n",
    "\n",
    "### `Ticket`\n",
    "\n",
    "* Passengers with the same ticket may belong to a group/family.\n",
    "* Create group size feature\n",
    "\n",
    "### `Fare`\n",
    "\n",
    "* Outliers exist no need to drop, Cap the outliers based on Pclass\n",
    "\n",
    "### `Embarked`\n",
    "* seems random and have no effect on survival rate\n",
    "\n",
    "### `name`\n",
    "* Extract titles from names to create a new feature. \n",
    "\n",
    "\n",
    "---"
   ]
  }
 ],
 "metadata": {
  "kernelspec": {
   "display_name": "ds_proj",
   "language": "python",
   "name": "python3"
  },
  "language_info": {
   "codemirror_mode": {
    "name": "ipython",
    "version": 3
   },
   "file_extension": ".py",
   "mimetype": "text/x-python",
   "name": "python",
   "nbconvert_exporter": "python",
   "pygments_lexer": "ipython3",
   "version": "3.12.11"
  }
 },
 "nbformat": 4,
 "nbformat_minor": 5
}
