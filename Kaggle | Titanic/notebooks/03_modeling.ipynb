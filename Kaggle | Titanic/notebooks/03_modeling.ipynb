{
 "cells": [
  {
   "cell_type": "markdown",
   "id": "9a752ad8",
   "metadata": {},
   "source": [
    "<div style=\"text-align:center; font-size: 48px;\">Titanic Competition Kaggle</div>\n",
    "<div style=\"text-align:center; font-size: 36px;\">Modeling</div>"
   ]
  },
  {
   "cell_type": "markdown",
   "id": "f9479f2d",
   "metadata": {},
   "source": [
    "# 0. Import Libraries\n"
   ]
  },
  {
   "cell_type": "code",
   "execution_count": 1,
   "id": "b7a631b0",
   "metadata": {},
   "outputs": [],
   "source": [
    "import pandas as pd \n",
    "import numpy as np\n",
    "import matplotlib.pyplot as plt\n",
    "\n",
    "from sklearn.preprocessing import StandardScaler\n",
    "from sklearn.model_selection import train_test_split, cross_val_score\n",
    "from sklearn.linear_model import LogisticRegression\n",
    "from sklearn.neighbors import KNeighborsClassifier\n",
    "from sklearn.tree import DecisionTreeClassifier\n",
    "from sklearn.ensemble import RandomForestClassifier, GradientBoostingClassifier\n",
    "from sklearn.metrics import accuracy_score, classification_report, confusion_matrix, precision_score, recall_score, f1_score\n",
    "from sklearn.model_selection import cross_val_score\n",
    "from sklearn.model_selection import GridSearchCV\n",
    "\n",
    "\n",
    "import lightgbm as lgb\n",
    "import xgboost as xgb\n",
    "\n"
   ]
  },
  {
   "cell_type": "markdown",
   "id": "27994b4f",
   "metadata": {},
   "source": [
    "# 1. Load processed data\n"
   ]
  },
  {
   "cell_type": "code",
   "execution_count": 2,
   "id": "5d7f78d0",
   "metadata": {},
   "outputs": [
    {
     "data": {
      "text/plain": [
       "['PassengerId',\n",
       " 'Survived',\n",
       " 'Pclass',\n",
       " 'Sex',\n",
       " 'Age',\n",
       " 'Fare',\n",
       " 'Embarked',\n",
       " 'Title',\n",
       " 'AgeGroup',\n",
       " 'isfamilyonboard',\n",
       " 'TicketGroupSize',\n",
       " 'Title_Miss',\n",
       " 'Title_Mr',\n",
       " 'Title_Mrs',\n",
       " 'Title_Rare']"
      ]
     },
     "execution_count": 2,
     "metadata": {},
     "output_type": "execute_result"
    }
   ],
   "source": [
    "train_df = pd.read_csv('../data/processed/train_processed.csv')\n",
    "train_df.columns.tolist()"
   ]
  },
  {
   "cell_type": "code",
   "execution_count": 3,
   "id": "af8b93eb",
   "metadata": {},
   "outputs": [],
   "source": [
    "X = train_df[[\n",
    "            'Pclass',\n",
    "            'Sex',\n",
    "            'Age',\n",
    "            'Fare',\n",
    "            'Embarked',\n",
    "            'AgeGroup',\n",
    "            'isfamilyonboard',\n",
    "            'TicketGroupSize',\n",
    "            'Title_Miss',\n",
    "            'Title_Mr',\n",
    "            'Title_Mrs',\n",
    "            'Title_Rare']]\n",
    "\n",
    "y = train_df['Survived']"
   ]
  },
  {
   "cell_type": "code",
   "execution_count": 4,
   "id": "432455ac",
   "metadata": {},
   "outputs": [],
   "source": [
    "#setting Seed for all random operations\n",
    "SEED = 20250708\n",
    "\n",
    "categorical_features = ['Sex', 'Embarked', 'AgeGroup', 'isfamilyonboard', 'Title']\n",
    "numerical_features = ['Age', 'Fare', 'TicketGroupSize']"
   ]
  },
  {
   "cell_type": "code",
   "execution_count": 5,
   "id": "d9ae4d6a",
   "metadata": {},
   "outputs": [],
   "source": [
    "X_train, X_val, y_train, y_val = train_test_split(X, y, test_size=0.25, random_state=SEED, shuffle=True)"
   ]
  },
  {
   "cell_type": "code",
   "execution_count": 6,
   "id": "4809ff24",
   "metadata": {},
   "outputs": [
    {
     "data": {
      "text/plain": [
       "((668, 12), (223, 12), (668,), (223,))"
      ]
     },
     "execution_count": 6,
     "metadata": {},
     "output_type": "execute_result"
    }
   ],
   "source": [
    "X_train.shape, X_val.shape, y_train.shape, y_val.shape"
   ]
  },
  {
   "cell_type": "code",
   "execution_count": 7,
   "id": "f14851c8",
   "metadata": {},
   "outputs": [],
   "source": [
    "# scaling datasets\n",
    "X_train_scaled = X_train.copy()\n",
    "X_val_scaled = X_val.copy()\n",
    "\n",
    "\n",
    "scaler = StandardScaler()\n",
    "X_train_scaled[numerical_features] = scaler.fit_transform(X_train_scaled[numerical_features])\n",
    "X_val_scaled[numerical_features] = scaler.transform(X_val_scaled[numerical_features])"
   ]
  },
  {
   "cell_type": "markdown",
   "id": "c2cbee10",
   "metadata": {},
   "source": [
    "# Modeling"
   ]
  },
  {
   "cell_type": "code",
   "execution_count": 8,
   "id": "4c5b49d6",
   "metadata": {},
   "outputs": [],
   "source": [
    "Models = []\n",
    "\n",
    "def result(name, model, accuracy):\n",
    "    try:\n",
    "        Models.append({\n",
    "            'Model': name,\n",
    "            'Model_object': model,\n",
    "            'Accuracy': accuracy,\n",
    "            'Parameters': model.get_params()\n",
    "        })\n",
    "    except:\n",
    "        Models.append({\n",
    "            'Model': name,\n",
    "            'Model_object': model,\n",
    "            'Accuracy': accuracy,\n",
    "            'Parameters': None\n",
    "        })"
   ]
  },
  {
   "cell_type": "markdown",
   "id": "477c2c26",
   "metadata": {},
   "source": [
    "## Baseline Model\n",
    "\n",
    "Assuming that Gender is the most important feature, we can create a simple baseline model that predicts survival based on the gender of the passengers."
   ]
  },
  {
   "cell_type": "code",
   "execution_count": 9,
   "id": "da426ec8",
   "metadata": {},
   "outputs": [
    {
     "name": "stdout",
     "output_type": "stream",
     "text": [
      "Baseline Model Accuracy: 0.776\n"
     ]
    }
   ],
   "source": [
    "# Baseline Model\n",
    "y_pred = X_val['Sex']\n",
    "temp = pd.concat([y_val, y_pred], axis=1)\n",
    "temp.columns = ['y_val', 'y_pred']\n",
    "\n",
    "# accuracy\n",
    "accuracy0 = temp[temp['y_val'] == temp['y_pred']].shape[0] / temp.shape[0]\n",
    "result('Baseline Model', None, accuracy0)\n",
    "print(f\"Baseline Model Accuracy: {accuracy0:.3f}\")"
   ]
  },
  {
   "cell_type": "markdown",
   "id": "ce46faa7",
   "metadata": {},
   "source": [
    "***Alternative Way***\n",
    "\n",
    "*using a classification tree, with only one feature*\n",
    "\n",
    "```python\n",
    "from sklearn.tree import DecisionTreeClassifier\n",
    "from sklearn.metrics import accuracy_score\n",
    "\n",
    "\n",
    "model0 = DecisionTreeClassifier(random_state=SEED)\n",
    "model0.fit(X_train['Sex'].values.reshape(-1, 1), y_train)\n",
    "\n",
    "y_pred = model0.predict(X_val['Sex'].values.reshape(-1, 1))\n",
    "accuracy0 = accuracy_score(y_val, y_pred)\n",
    "print(f\"Baseline Model Accuracy: {accuracy0:.3f}\")\n",
    "```"
   ]
  },
  {
   "cell_type": "markdown",
   "id": "13d27306",
   "metadata": {},
   "source": [
    "## Logistic Regression"
   ]
  },
  {
   "cell_type": "code",
   "execution_count": 10,
   "id": "d789a7a6",
   "metadata": {},
   "outputs": [
    {
     "name": "stdout",
     "output_type": "stream",
     "text": [
      "Logistic Regression Accuracy: 0.798\n"
     ]
    }
   ],
   "source": [
    "model1 = LogisticRegression(random_state=SEED)\n",
    "model1.fit(X_train_scaled, y_train)\n",
    "\n",
    "y_pred1 = model1.predict(X_val_scaled)\n",
    "accuracy1 = (y_pred1 == y_val).mean()\n",
    "\n",
    "result('Logistic Regression', model1, accuracy1)\n",
    "print(f\"Logistic Regression Accuracy: {accuracy1:.3f}\")"
   ]
  },
  {
   "cell_type": "markdown",
   "id": "7b692418",
   "metadata": {},
   "source": [
    "## K-Nearest Neighbors (KNN)\n"
   ]
  },
  {
   "cell_type": "code",
   "execution_count": 11,
   "id": "ddbcf083",
   "metadata": {},
   "outputs": [
    {
     "name": "stdout",
     "output_type": "stream",
     "text": [
      "Accuracy: 0.753, k: 1\n",
      "Accuracy: 0.798, k: 2\n",
      "Accuracy: 0.798, k: 3\n",
      "Accuracy: 0.816, k: 4\n",
      "Accuracy: 0.780, k: 5\n",
      "Accuracy: 0.816, k: 6\n",
      "Accuracy: 0.803, k: 7\n",
      "Accuracy: 0.803, k: 8\n",
      "Accuracy: 0.803, k: 9\n",
      "Accuracy: 0.816, k: 10\n",
      "Accuracy: 0.803, k: 11\n",
      "Accuracy: 0.803, k: 12\n",
      "Accuracy: 0.798, k: 13\n",
      "Accuracy: 0.812, k: 14\n",
      "Accuracy: 0.807, k: 15\n",
      "Accuracy: 0.816, k: 16\n",
      "Accuracy: 0.807, k: 17\n",
      "Accuracy: 0.816, k: 18\n",
      "Accuracy: 0.821, k: 19\n",
      "Accuracy: 0.825, k: 20\n"
     ]
    }
   ],
   "source": [
    "for k in range(1, 21):\n",
    "    tempmodel = KNeighborsClassifier(n_neighbors=k)\n",
    "    tempmodel.fit(X_train_scaled, y_train)\n",
    "\n",
    "    temp_pred = tempmodel.predict(X_val_scaled)\n",
    "    tempacc = accuracy_score(y_val, temp_pred)\n",
    "\n",
    "    print(f\"Accuracy: {tempacc:.3f}, k: {k}\")"
   ]
  },
  {
   "cell_type": "code",
   "execution_count": 12,
   "id": "44e2e193",
   "metadata": {},
   "outputs": [
    {
     "name": "stdout",
     "output_type": "stream",
     "text": [
      "K-Nearest Neighbors Accuracy: 0.816\n"
     ]
    }
   ],
   "source": [
    "model2 = KNeighborsClassifier(n_neighbors=10)\n",
    "model2.fit(X_train_scaled, y_train)\n",
    "\n",
    "y_pred2 = model2.predict(X_val_scaled)\n",
    "accuracy2 = accuracy_score(y_val, y_pred2)\n",
    "\n",
    "result('K-Nearest Neighbors', model2, accuracy2)\n",
    "print(f\"K-Nearest Neighbors Accuracy: {accuracy2:.3f}\")"
   ]
  },
  {
   "cell_type": "markdown",
   "id": "b10f5e52",
   "metadata": {},
   "source": [
    "## Decision Tree"
   ]
  },
  {
   "cell_type": "code",
   "execution_count": 13,
   "id": "6cfb3835",
   "metadata": {},
   "outputs": [
    {
     "name": "stdout",
     "output_type": "stream",
     "text": [
      "Decision Tree Accuracy: 0.771\n"
     ]
    }
   ],
   "source": [
    "model3 = DecisionTreeClassifier(random_state=SEED)\n",
    "model3.fit(X_train_scaled, y_train)\n",
    "\n",
    "y_pred3 = model3.predict(X_val_scaled)\n",
    "accuracy3 = accuracy_score(y_val, y_pred3)\n",
    "\n",
    "result('Decision Tree', model3, accuracy3)\n",
    "print(f\"Decision Tree Accuracy: {accuracy3:.3f}\")"
   ]
  },
  {
   "cell_type": "markdown",
   "id": "2711115a",
   "metadata": {},
   "source": [
    "## Random Forest"
   ]
  },
  {
   "cell_type": "code",
   "execution_count": 14,
   "id": "c99171e5",
   "metadata": {},
   "outputs": [
    {
     "name": "stdout",
     "output_type": "stream",
     "text": [
      "Random Forest Accuracy: 0.780\n"
     ]
    }
   ],
   "source": [
    "model4 = RandomForestClassifier(random_state=SEED)\n",
    "model4.fit(X_train_scaled, y_train)\n",
    "\n",
    "y_pred4 = model4.predict(X_val_scaled)\n",
    "accuracy4 = accuracy_score(y_val, y_pred4)\n",
    "\n",
    "result('Random Forest', model4, accuracy4)\n",
    "print(f\"Random Forest Accuracy: {accuracy4:.3f}\")"
   ]
  },
  {
   "cell_type": "markdown",
   "id": "6a24268e",
   "metadata": {},
   "source": [
    "## Gradient Boosting"
   ]
  },
  {
   "cell_type": "code",
   "execution_count": 15,
   "id": "cf5fdabd",
   "metadata": {},
   "outputs": [
    {
     "name": "stdout",
     "output_type": "stream",
     "text": [
      "Gradient Boosting Accuracy: 0.830\n"
     ]
    }
   ],
   "source": [
    "model5 = GradientBoostingClassifier(random_state=SEED)\n",
    "model5.fit(X_train_scaled, y_train)\n",
    "\n",
    "y_pred5 = model5.predict(X_val_scaled)\n",
    "accuracy5 = accuracy_score(y_val, y_pred5)\n",
    "\n",
    "result('Gradient Boosting', model5, accuracy5)\n",
    "print(f\"Gradient Boosting Accuracy: {accuracy5:.3f}\")"
   ]
  },
  {
   "cell_type": "markdown",
   "id": "b335b722",
   "metadata": {},
   "source": [
    "### LightGBM"
   ]
  },
  {
   "cell_type": "code",
   "execution_count": 16,
   "id": "67a44081",
   "metadata": {},
   "outputs": [
    {
     "name": "stdout",
     "output_type": "stream",
     "text": [
      "LightGBM Accuracy: 0.816\n"
     ]
    }
   ],
   "source": [
    "# Convert categorical features to 'category' dtype for LightGBM\n",
    "lgb_x_train = X_train_scaled.copy().join(train_df['Title']).drop(columns=['Title_Miss', 'Title_Mr', 'Title_Mrs', 'Title_Rare'])\n",
    "lgb_x_train[categorical_features] = lgb_x_train[categorical_features].astype('category')\n",
    "\n",
    "lgb_x_val = X_val_scaled.copy().join(train_df['Title']).drop(columns=['Title_Miss', 'Title_Mr', 'Title_Mrs', 'Title_Rare'])\n",
    "lgb_x_val[categorical_features] = lgb_x_val[categorical_features].astype('category')\n",
    "\n",
    "\n",
    "# Train LightGBM model\n",
    "model6 = lgb.LGBMClassifier(random_state=SEED, verbose=-1)\n",
    "model6.fit(lgb_x_train, y_train)\n",
    "\n",
    "y_pred6 = model6.predict(lgb_x_val)\n",
    "accuracy6 = accuracy_score(y_val, y_pred6)\n",
    "\n",
    "result('LightGBM', model6, accuracy6)\n",
    "print(f\"LightGBM Accuracy: {accuracy6:.3f}\")"
   ]
  },
  {
   "cell_type": "markdown",
   "id": "782f2962",
   "metadata": {},
   "source": [
    "### XGBoost"
   ]
  },
  {
   "cell_type": "code",
   "execution_count": 17,
   "id": "3ffeca92",
   "metadata": {},
   "outputs": [
    {
     "name": "stdout",
     "output_type": "stream",
     "text": [
      "XGBoost Accuracy: 0.834\n"
     ]
    }
   ],
   "source": [
    "# One-hot encode categorical features for XGBoost\n",
    "xgboost_x_train = X_train_scaled.copy().join(train_df['Title'].astype('category')).drop(columns=['Title_Miss', 'Title_Mr', 'Title_Mrs', 'Title_Rare'])\n",
    "xgboost_x_val = X_val_scaled.copy().join(train_df['Title'].astype('category')).drop(columns=['Title_Miss', 'Title_Mr', 'Title_Mrs', 'Title_Rare'])\n",
    "\n",
    "model7 = xgb.XGBClassifier(random_state=SEED, enable_categorical=True)\n",
    "model7.fit(xgboost_x_train, y_train)\n",
    "\n",
    "y_pred7 = model7.predict(xgboost_x_val)\n",
    "accuracy7 = accuracy_score(y_val, y_pred7)\n",
    "\n",
    "result('XGBoost', model7, accuracy7)\n",
    "print(f\"XGBoost Accuracy: {accuracy7:.3f}\")"
   ]
  },
  {
   "cell_type": "markdown",
   "id": "fa021e43",
   "metadata": {},
   "source": [
    "### CatBoost"
   ]
  },
  {
   "cell_type": "code",
   "execution_count": 18,
   "id": "1af8ad6e",
   "metadata": {},
   "outputs": [
    {
     "name": "stdout",
     "output_type": "stream",
     "text": [
      "CatBoost Accuracy: 0.812\n"
     ]
    }
   ],
   "source": [
    "from catboost import CatBoostClassifier, Pool\n",
    "\n",
    "temp_x_train = xgboost_x_train.copy()\n",
    "temp_x_val = xgboost_x_val.copy()\n",
    "\n",
    "# create Pool objects for CatBoost\n",
    "train_pool = Pool(data=temp_x_train, label=y_train, cat_features=categorical_features)\n",
    "val_pool = Pool(data=temp_x_val, label=y_val, cat_features=categorical_features)\n",
    "\n",
    "model8 = CatBoostClassifier(random_state=SEED, verbose=0, iterations=100)\n",
    "model8.fit(train_pool)\n",
    "\n",
    "y_pred8 = model8.predict(val_pool)\n",
    "accuracy8 = accuracy_score(y_val, y_pred8)\n",
    "\n",
    "result('CatBoost', model8, accuracy8)\n",
    "print(f\"CatBoost Accuracy: {accuracy8:.3f}\")"
   ]
  },
  {
   "cell_type": "markdown",
   "id": "85dd58c6",
   "metadata": {},
   "source": [
    "# Model Selection"
   ]
  },
  {
   "cell_type": "code",
   "execution_count": 19,
   "id": "b8833b85",
   "metadata": {},
   "outputs": [
    {
     "data": {
      "text/plain": [
       "(0.7, 1.0)"
      ]
     },
     "execution_count": 19,
     "metadata": {},
     "output_type": "execute_result"
    },
    {
     "data": {
      "image/png": "[encoded data removed]",
      "text/plain": [
       "<Figure size 1000x500 with 1 Axes>"
      ]
     },
     "metadata": {},
     "output_type": "display_data"
    }
   ],
   "source": [
    "pd.DataFrame(Models).plot (y='Accuracy', x='Model', kind='barh', figsize=(10, 5), legend=False, rot=0)\n",
    "#show values on bars\n",
    "for index, value in enumerate(pd.DataFrame(Models)['Accuracy']):\n",
    "    plt.text(value, index, f'{value:.3f}', va='center')\n",
    "plt.title('Model Accuracy Comparison')\n",
    "plt.xlabel('Accuracy')\n",
    "plt.ylabel('Model')\n",
    "plt.tight_layout()\n",
    "plt.xlim(0.7, 1)"
   ]
  },
  {
   "cell_type": "markdown",
   "id": "97f64672",
   "metadata": {},
   "source": [
    "# Cross-validation"
   ]
  },
  {
   "cell_type": "code",
   "execution_count": 22,
   "id": "de8117b3",
   "metadata": {},
   "outputs": [
    {
     "name": "stdout",
     "output_type": "stream",
     "text": [
      "Cv scores: [0.76691729 0.79850746 0.80597015 0.81203008 0.82089552]\n",
      "Model 7 Cross-Validation Accuracy: 0.801 ± 0.018\n"
     ]
    }
   ],
   "source": [
    "# Cross-validation for XGBoost model\n",
    "\n",
    "cv_scores = cross_val_score(model7, xgboost_x_train, y_train, cv=5, scoring='accuracy')\n",
    "print(f\"Cv scores: {np.sort(cv_scores)}\")\n",
    "print(f\"Model 7 Cross-Validation Accuracy: {cv_scores.mean():.3f} ± {cv_scores.std():.3f}\")\n"
   ]
  },
  {
   "cell_type": "code",
   "execution_count": 21,
   "id": "73b6bfca",
   "metadata": {},
   "outputs": [
    {
     "name": "stdout",
     "output_type": "stream",
     "text": [
      "Cv scores: [0.79699248 0.79699248 0.81343284 0.82089552 0.86567164]\n",
      "Model 5 Cross-Validation Accuracy: 0.819 ± 0.025\n"
     ]
    }
   ],
   "source": [
    "# Cross-validation for Gradient Boosting model\n",
    "\n",
    "cv_scores = cross_val_score(model5, X_train_scaled, y_train, cv=5, scoring='accuracy')\n",
    "print(f\"Cv scores: {np.sort(cv_scores)}\")\n",
    "print(f\"Model 5 Cross-Validation Accuracy: {cv_scores.mean():.3f} ± {cv_scores.std():.3f}\")"
   ]
  },
  {
   "cell_type": "markdown",
   "id": "d00eda69",
   "metadata": {},
   "source": [
    "# Hyperparameter tuning"
   ]
  },
  {
   "cell_type": "markdown",
   "id": "75da1660",
   "metadata": {},
   "source": [
    "## XGBoost\n"
   ]
  },
  {
   "cell_type": "code",
   "execution_count": 23,
   "id": "86a3a7af",
   "metadata": {},
   "outputs": [
    {
     "name": "stdout",
     "output_type": "stream",
     "text": [
      "Fitting 5 folds for each of 72 candidates, totalling 360 fits\n",
      "Best parameters: {'gamma': 5, 'learning_rate': 0.01, 'max_depth': 3, 'n_estimators': 200}\n",
      "Best score: 0.828\n",
      "Best Cross-Validation Accuracy: 0.828 ± 0.036\n"
     ]
    }
   ],
   "source": [
    "# Final model = model7, XGBoost\n",
    "\n",
    "# Define the parameter grid for GridSearchCV\n",
    "param_grid = {\n",
    "    'n_estimators': [100, 200],\n",
    "    'learning_rate': [0.0001, 0.01, 0.1, 1],\n",
    "    'max_depth': [3, 5, 7],\n",
    "    'gamma': [0, 1, 5]                   \n",
    "}\n",
    "\n",
    "gsxgboost = GridSearchCV(\n",
    "    estimator=model7,\n",
    "    param_grid=param_grid,\n",
    "    scoring='accuracy',\n",
    "    cv=5,\n",
    "    verbose=1\n",
    ")\n",
    "\n",
    "gsxgboost.fit(xgboost_x_train, y_train)\n",
    "print(f\"Best parameters: {gsxgboost.best_params_}\")\n",
    "print(f\"Best score: {gsxgboost.best_score_:.3f}\")\n",
    "print(f\"Best Cross-Validation Accuracy: {gsxgboost.best_score_:.3f} ± {gsxgboost.cv_results_['std_test_score'][gsxgboost.best_index_]:.3f}\")"
   ]
  },
  {
   "cell_type": "markdown",
   "id": "41eae486",
   "metadata": {},
   "source": [
    "## Gradient Boosting"
   ]
  },
  {
   "cell_type": "code",
   "execution_count": 24,
   "id": "dd7830ca",
   "metadata": {},
   "outputs": [
    {
     "name": "stdout",
     "output_type": "stream",
     "text": [
      "Fitting 5 folds for each of 72 candidates, totalling 360 fits\n",
      "Best parameters: {'learning_rate': 0.1, 'max_depth': 3, 'max_features': 'sqrt', 'n_estimators': 200, 'subsample': 1.0}\n",
      "Best score: 0.826\n",
      "Best Cross-Validation Accuracy: 0.826 ± 0.023\n"
     ]
    }
   ],
   "source": [
    "# Final model = model5, GradientBoostingClassifier\n",
    "\n",
    "# Define the parameter grid for GridSearchCV\n",
    "param_grid = {\n",
    "    'n_estimators': [100, 200],\n",
    "    'learning_rate': [0.01, 0.1],\n",
    "    'max_depth': [3, 4, 5],\n",
    "    'subsample': [0.8, 1.0],\n",
    "    'max_features': [None , 'sqrt', 'log2']\n",
    "}\n",
    "\n",
    "gsgradientboosting = GridSearchCV(\n",
    "    estimator=model5,\n",
    "    param_grid=param_grid,\n",
    "    scoring='accuracy',\n",
    "    cv=5,\n",
    "    verbose=1\n",
    ")\n",
    "\n",
    "gsgradientboosting.fit(X_train_scaled, y_train)\n",
    "print(f\"Best parameters: {gsgradientboosting.best_params_}\")\n",
    "print(f\"Best score: {gsgradientboosting.best_score_:.3f}\")\n",
    "print(f\"Best Cross-Validation Accuracy: {gsgradientboosting.best_score_:.3f} ± {gsgradientboosting.cv_results_['std_test_score'][gsgradientboosting.best_index_]:.3f}\")"
   ]
  },
  {
   "cell_type": "markdown",
   "id": "1e3d3e8a",
   "metadata": {},
   "source": [
    "# Final Evaluation"
   ]
  },
  {
   "cell_type": "markdown",
   "id": "1cc25ad5",
   "metadata": {},
   "source": [
    "📌 Interpretation:\n",
    "- XGBoost gives the highest accuracy (0.828), but with more variance, meaning it might be less stable on unseen data.\n",
    "- GradientBoostingClassifier has very close accuracy (0.826) but with lower standard deviation, which indicates more consistent performance.\n",
    "- Manual cross-validation also shows higher average performance for GradientBoosting (0.819 vs. 0.801)."
   ]
  },
  {
   "cell_type": "code",
   "execution_count": 26,
   "id": "8e9d8ab3",
   "metadata": {},
   "outputs": [
    {
     "data": {
      "text/plain": [
       "{'gamma': 5, 'learning_rate': 0.01, 'max_depth': 3, 'n_estimators': 200}"
      ]
     },
     "execution_count": 26,
     "metadata": {},
     "output_type": "execute_result"
    }
   ],
   "source": [
    "gsxgboost.best_params_"
   ]
  },
  {
   "cell_type": "code",
   "execution_count": 29,
   "id": "429290a4",
   "metadata": {},
   "outputs": [
    {
     "name": "stdout",
     "output_type": "stream",
     "text": [
      "Final XGBoost Model Accuracy: 0.812\n",
      "precision: 0.785\n",
      "recall: 0.713\n",
      "f1-score: 0.747\n",
      "------------------------------\n",
      "Confusion Matrix:\n",
      "[[119  17]\n",
      " [ 25  62]]\n",
      "------------------------------\n",
      "Classification Report:\n",
      "              precision    recall  f1-score   support\n",
      "\n",
      "           0       0.83      0.88      0.85       136\n",
      "           1       0.78      0.71      0.75        87\n",
      "\n",
      "    accuracy                           0.81       223\n",
      "   macro avg       0.81      0.79      0.80       223\n",
      "weighted avg       0.81      0.81      0.81       223\n",
      "\n"
     ]
    }
   ],
   "source": [
    "xgb_model = xgb.XGBClassifier(\n",
    "    n_estimators=gsxgboost.best_params_['n_estimators'],\n",
    "    learning_rate=gsxgboost.best_params_['learning_rate'],\n",
    "    max_depth=gsxgboost.best_params_['max_depth'],\n",
    "    gamma=gsxgboost.best_params_['gamma'],\n",
    "    random_state=SEED,\n",
    "    enable_categorical=True)\n",
    "\n",
    "xgb_model.fit(xgboost_x_train, y_train)\n",
    "y_pred_xgb = xgb_model.predict(xgboost_x_val)\n",
    "\n",
    "accuracy_xgb = accuracy_score(y_val, y_pred_xgb)\n",
    "print(f\"Final XGBoost Model Accuracy: {accuracy_xgb:.3f}\")\n",
    "print(f\"precision: {precision_score(y_val, y_pred_xgb):.3f}\")\n",
    "print(f\"recall: {recall_score(y_val, y_pred_xgb):.3f}\")\n",
    "print(f\"f1-score: {f1_score(y_val, y_pred_xgb):.3f}\")\n",
    "print(\"------------------------------\")\n",
    "print(f\"Confusion Matrix:\\n{confusion_matrix(y_val, y_pred_xgb)}\")\n",
    "print(\"------------------------------\")\n",
    "print(f\"Classification Report:\\n{classification_report(y_val, y_pred_xgb)}\")"
   ]
  },
  {
   "cell_type": "code",
   "execution_count": 30,
   "id": "e88128f3",
   "metadata": {},
   "outputs": [
    {
     "data": {
      "text/plain": [
       "{'learning_rate': 0.1,\n",
       " 'max_depth': 3,\n",
       " 'max_features': 'sqrt',\n",
       " 'n_estimators': 200,\n",
       " 'subsample': 1.0}"
      ]
     },
     "execution_count": 30,
     "metadata": {},
     "output_type": "execute_result"
    }
   ],
   "source": [
    "gsgradientboosting.best_params_"
   ]
  },
  {
   "cell_type": "code",
   "execution_count": 31,
   "id": "8153b311",
   "metadata": {},
   "outputs": [
    {
     "name": "stdout",
     "output_type": "stream",
     "text": [
      "Final Gradient Boosting Model Accuracy: 0.830\n",
      "precision: 0.802\n",
      "recall: 0.747\n",
      "f1-score: 0.774\n",
      "------------------------------\n",
      "Confusion Matrix:\n",
      "[[120  16]\n",
      " [ 22  65]]\n",
      "------------------------------\n",
      "Classification Report:\n",
      "              precision    recall  f1-score   support\n",
      "\n",
      "           0       0.85      0.88      0.86       136\n",
      "           1       0.80      0.75      0.77        87\n",
      "\n",
      "    accuracy                           0.83       223\n",
      "   macro avg       0.82      0.81      0.82       223\n",
      "weighted avg       0.83      0.83      0.83       223\n",
      "\n"
     ]
    }
   ],
   "source": [
    "gbs_model = GradientBoostingClassifier(\n",
    "    n_estimators=gsgradientboosting.best_params_['n_estimators'],\n",
    "    learning_rate=gsgradientboosting.best_params_['learning_rate'],\n",
    "    max_depth=gsgradientboosting.best_params_['max_depth'],\n",
    "    subsample=gsgradientboosting.best_params_['subsample'],\n",
    "    max_features=gsgradientboosting.best_params_['max_features'],\n",
    "    random_state=SEED)\n",
    "\n",
    "gbs_model.fit(X_train_scaled, y_train)\n",
    "y_pred_gbs = gbs_model.predict(X_val_scaled)\n",
    "\n",
    "accuracy_gbs = accuracy_score(y_val, y_pred_gbs)\n",
    "print(f\"Final Gradient Boosting Model Accuracy: {accuracy_gbs:.3f}\")\n",
    "print(f\"precision: {precision_score(y_val, y_pred_gbs):.3f}\")\n",
    "print(f\"recall: {recall_score(y_val, y_pred_gbs):.3f}\")\n",
    "print(f\"f1-score: {f1_score(y_val, y_pred_gbs):.3f}\")\n",
    "print(\"------------------------------\")\n",
    "print(f\"Confusion Matrix:\\n{confusion_matrix(y_val, y_pred_gbs)}\")\n",
    "print(\"------------------------------\")\n",
    "print(f\"Classification Report:\\n{classification_report(y_val, y_pred_gbs)}\")"
   ]
  },
  {
   "cell_type": "markdown",
   "id": "f3a18736",
   "metadata": {},
   "source": [
    "### 🧠 **Model Performance Summary: Gradient Boosting vs. XGBoost**\n",
    "\n",
    "The models show similar overall performance but differ in their handling of the positive class (class 1 - likely survivors):\n",
    "\n",
    "---\n",
    "\n",
    "#### 🔹 **XGBoost**\n",
    "\n",
    "* **Accuracy:** 0.812  \n",
    "* **Precision (class 1):** 0.78  \n",
    "* **Recall (class 1):** 0.71  \n",
    "* **F1-score (class 1):** 0.75  \n",
    "* Shows **higher precision** than recall for class 1, indicating fewer false positives but more false negatives.  \n",
    "* **Slightly less recall** than Gradient Boosting for class 1.\n",
    "\n",
    "---\n",
    "\n",
    "#### 🔹 **Gradient Boosting**\n",
    "\n",
    "* **Accuracy:** 0.830  \n",
    "* **Precision (class 1):** 0.80  \n",
    "* **Recall (class 1):** 0.75  \n",
    "* **F1-score (class 1):** 0.77  \n",
    "* Overall **more balanced and slightly better** on class 1 metrics.  \n",
    "* **Higher F1-score and recall** than XGBoost on class 1.\n",
    "\n",
    "---\n",
    "\n",
    "#### ✅ **Conclusion**\n",
    "\n",
    "* As if the goal is to **identify as many survivors as possible** (i.e., prioritize **recall** for class 1), **Gradient Boosting performs slightly better**.\n",
    "* While both models are close, **Gradient Boosting** achieves higher **recall and F1-score** for the positive class.\n",
    "\n",
    "> **Gradient Boosting offers more value due to its stronger performance on survivor detection (class 1).**\n"
   ]
  },
  {
   "cell_type": "code",
   "execution_count": 36,
   "id": "f470d0e8",
   "metadata": {},
   "outputs": [
    {
     "data": {
      "text/plain": [
       "['../output/scaler.pkl']"
      ]
     },
     "execution_count": 36,
     "metadata": {},
     "output_type": "execute_result"
    }
   ],
   "source": [
    "import joblib \n",
    "\n",
    "joblib.dump(gbs_model, '../output/gradient_boosting_model.pkl')\n",
    "joblib.dump(scaler, '../output/scaler.pkl')"
   ]
  }
 ],
 "metadata": {
  "kernelspec": {
   "display_name": "ds_proj",
   "language": "python",
   "name": "python3"
  },
  "language_info": {
   "codemirror_mode": {
    "name": "ipython",
    "version": 3
   },
   "file_extension": ".py",
   "mimetype": "text/x-python",
   "name": "python",
   "nbconvert_exporter": "python",
   "pygments_lexer": "ipython3",
   "version": "3.12.11"
  }
 },
 "nbformat": 4,
 "nbformat_minor": 5
}
