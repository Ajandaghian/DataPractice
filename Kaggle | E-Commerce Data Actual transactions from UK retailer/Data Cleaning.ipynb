{
 "cells": [
  {
   "cell_type": "markdown",
   "metadata": {},
   "source": [
    "# E-Commerce Data | Actual transactions from UK retailer"
   ]
  },
  {
   "cell_type": "markdown",
   "metadata": {},
   "source": [
    "Refrence: \n",
    "\n",
    "Data right deserved for The UCI Machine Learning Repository has made this dataset containing actual transactions from 2010 and 2011. The dataset is maintained on their site, where it can be found by the title \"Online Retail\".\n",
    "\n",
    "[Link1](https://archive.ics.uci.edu/dataset/352/online+retail)             [Link2](https://archive.ics.uci.edu/dataset/502/online+retail+ii)\n",
    "\n",
    "\"This is a transnational data set which contains all the transactions occurring between 01/12/2010 and 09/12/2011 for a UK-based and registered non-store online retail.The company mainly sells unique all-occasion gifts. Many customers of the company are wholesalers.\""
   ]
  },
  {
   "cell_type": "code",
   "execution_count": 1,
   "metadata": {},
   "outputs": [],
   "source": [
    "#importing libraries\n",
    "import pandas as pd\n",
    "import numpy as np\n",
    "import matplotlib.pyplot as plt\n",
    "pd.options.display.float_format = \"{:.3f}\".format"
   ]
  },
  {
   "cell_type": "markdown",
   "metadata": {},
   "source": [
    "## Importing Data"
   ]
  },
  {
   "cell_type": "code",
   "execution_count": 2,
   "metadata": {},
   "outputs": [],
   "source": [
    "d1 = pd.read_excel('./Data/Online Retail.xlsx')\n",
    "d2 = pd.read_excel('./Data/online_retail_II.xlsx')\n",
    "\n",
    "d2.columns = d1.columns"
   ]
  },
  {
   "cell_type": "code",
   "execution_count": 3,
   "metadata": {},
   "outputs": [
    {
     "name": "stdout",
     "output_type": "stream",
     "text": [
      "(1067370, 8)\n"
     ]
    },
    {
     "data": {
      "text/html": [
       "<div>\n",
       "<style scoped>\n",
       "    .dataframe tbody tr th:only-of-type {\n",
       "        vertical-align: middle;\n",
       "    }\n",
       "\n",
       "    .dataframe tbody tr th {\n",
       "        vertical-align: top;\n",
       "    }\n",
       "\n",
       "    .dataframe thead th {\n",
       "        text-align: right;\n",
       "    }\n",
       "</style>\n",
       "<table border=\"1\" class=\"dataframe\">\n",
       "  <thead>\n",
       "    <tr style=\"text-align: right;\">\n",
       "      <th></th>\n",
       "      <th>InvoiceNo</th>\n",
       "      <th>StockCode</th>\n",
       "      <th>Description</th>\n",
       "      <th>Quantity</th>\n",
       "      <th>InvoiceDate</th>\n",
       "      <th>UnitPrice</th>\n",
       "      <th>CustomerID</th>\n",
       "      <th>Country</th>\n",
       "    </tr>\n",
       "  </thead>\n",
       "  <tbody>\n",
       "    <tr>\n",
       "      <th>0</th>\n",
       "      <td>536365</td>\n",
       "      <td>85123A</td>\n",
       "      <td>WHITE HANGING HEART T-LIGHT HOLDER</td>\n",
       "      <td>6</td>\n",
       "      <td>2010-12-01 08:26:00</td>\n",
       "      <td>2.550</td>\n",
       "      <td>17850.000</td>\n",
       "      <td>United Kingdom</td>\n",
       "    </tr>\n",
       "    <tr>\n",
       "      <th>1</th>\n",
       "      <td>536365</td>\n",
       "      <td>71053</td>\n",
       "      <td>WHITE METAL LANTERN</td>\n",
       "      <td>6</td>\n",
       "      <td>2010-12-01 08:26:00</td>\n",
       "      <td>3.390</td>\n",
       "      <td>17850.000</td>\n",
       "      <td>United Kingdom</td>\n",
       "    </tr>\n",
       "    <tr>\n",
       "      <th>2</th>\n",
       "      <td>536365</td>\n",
       "      <td>84406B</td>\n",
       "      <td>CREAM CUPID HEARTS COAT HANGER</td>\n",
       "      <td>8</td>\n",
       "      <td>2010-12-01 08:26:00</td>\n",
       "      <td>2.750</td>\n",
       "      <td>17850.000</td>\n",
       "      <td>United Kingdom</td>\n",
       "    </tr>\n",
       "    <tr>\n",
       "      <th>3</th>\n",
       "      <td>536365</td>\n",
       "      <td>84029G</td>\n",
       "      <td>KNITTED UNION FLAG HOT WATER BOTTLE</td>\n",
       "      <td>6</td>\n",
       "      <td>2010-12-01 08:26:00</td>\n",
       "      <td>3.390</td>\n",
       "      <td>17850.000</td>\n",
       "      <td>United Kingdom</td>\n",
       "    </tr>\n",
       "    <tr>\n",
       "      <th>4</th>\n",
       "      <td>536365</td>\n",
       "      <td>84029E</td>\n",
       "      <td>RED WOOLLY HOTTIE WHITE HEART.</td>\n",
       "      <td>6</td>\n",
       "      <td>2010-12-01 08:26:00</td>\n",
       "      <td>3.390</td>\n",
       "      <td>17850.000</td>\n",
       "      <td>United Kingdom</td>\n",
       "    </tr>\n",
       "  </tbody>\n",
       "</table>\n",
       "</div>"
      ],
      "text/plain": [
       "  InvoiceNo StockCode                          Description  Quantity  \\\n",
       "0    536365    85123A   WHITE HANGING HEART T-LIGHT HOLDER         6   \n",
       "1    536365     71053                  WHITE METAL LANTERN         6   \n",
       "2    536365    84406B       CREAM CUPID HEARTS COAT HANGER         8   \n",
       "3    536365    84029G  KNITTED UNION FLAG HOT WATER BOTTLE         6   \n",
       "4    536365    84029E       RED WOOLLY HOTTIE WHITE HEART.         6   \n",
       "\n",
       "          InvoiceDate  UnitPrice  CustomerID         Country  \n",
       "0 2010-12-01 08:26:00      2.550   17850.000  United Kingdom  \n",
       "1 2010-12-01 08:26:00      3.390   17850.000  United Kingdom  \n",
       "2 2010-12-01 08:26:00      2.750   17850.000  United Kingdom  \n",
       "3 2010-12-01 08:26:00      3.390   17850.000  United Kingdom  \n",
       "4 2010-12-01 08:26:00      3.390   17850.000  United Kingdom  "
      ]
     },
     "execution_count": 3,
     "metadata": {},
     "output_type": "execute_result"
    }
   ],
   "source": [
    "data = pd.concat([d1, d2], ignore_index=True)\n",
    "df = data.copy()\n",
    "\n",
    "print(df.shape)\n",
    "df.head()"
   ]
  },
  {
   "cell_type": "markdown",
   "metadata": {},
   "source": [
    "## Deep Dive to Data\n",
    "Doing an analysis on each column"
   ]
  },
  {
   "cell_type": "markdown",
   "metadata": {},
   "source": [
    "\n",
    "| Variable Name | Role      | Type         | Description                                                                                      \n",
    "|---------------|-----------|--------------|--------------------------------------------------------------------------------------------------\n",
    "| InvoiceNo     | ID        | Categorical  | a 6-digit integral number uniquely assigned to each transaction. If this code starts with letter 'c', it indicates a cancellation | no        |\n",
    "| StockCode     | ID        | Categorical  | a 5-digit integral number uniquely assigned to each distinct product                             \n",
    "| Description   | Feature   | Categorical  | product name                                                                                    \n",
    "| Quantity      | Feature   | Integer      | the quantities of each product (item) per transaction                                           \n",
    "| InvoiceDate   | Feature   | Date         | the day and time when each transaction was generated                                            \n",
    "| UnitPrice     | Feature   | Continuous   | product price per unit                                                                          \n",
    "| CustomerID    | Feature   | Categorical  | a 5-digit integral number uniquely assigned to each customer                                     \n",
    "| Country       | Feature   | Categorical  | the name of the country where each customer resides   \n",
    "\n"
   ]
  },
  {
   "cell_type": "code",
   "execution_count": 4,
   "metadata": {},
   "outputs": [
    {
     "name": "stdout",
     "output_type": "stream",
     "text": [
      "<class 'pandas.core.frame.DataFrame'>\n",
      "RangeIndex: 1067370 entries, 0 to 1067369\n",
      "Data columns (total 8 columns):\n",
      " #   Column       Non-Null Count    Dtype         \n",
      "---  ------       --------------    -----         \n",
      " 0   InvoiceNo    1067370 non-null  object        \n",
      " 1   StockCode    1067370 non-null  object        \n",
      " 2   Description  1062988 non-null  object        \n",
      " 3   Quantity     1067370 non-null  int64         \n",
      " 4   InvoiceDate  1067370 non-null  datetime64[ns]\n",
      " 5   UnitPrice    1067370 non-null  float64       \n",
      " 6   CustomerID   824363 non-null   float64       \n",
      " 7   Country      1067370 non-null  object        \n",
      "dtypes: datetime64[ns](1), float64(2), int64(1), object(4)\n",
      "memory usage: 65.1+ MB\n"
     ]
    }
   ],
   "source": [
    "df.info()"
   ]
  },
  {
   "cell_type": "markdown",
   "metadata": {},
   "source": [
    "- we have null values in `Description` and `CustomerID` which is cool!"
   ]
  },
  {
   "cell_type": "code",
   "execution_count": 5,
   "metadata": {},
   "outputs": [
    {
     "data": {
      "text/html": [
       "<div>\n",
       "<style scoped>\n",
       "    .dataframe tbody tr th:only-of-type {\n",
       "        vertical-align: middle;\n",
       "    }\n",
       "\n",
       "    .dataframe tbody tr th {\n",
       "        vertical-align: top;\n",
       "    }\n",
       "\n",
       "    .dataframe thead th {\n",
       "        text-align: right;\n",
       "    }\n",
       "</style>\n",
       "<table border=\"1\" class=\"dataframe\">\n",
       "  <thead>\n",
       "    <tr style=\"text-align: right;\">\n",
       "      <th></th>\n",
       "      <th>InvoiceNo</th>\n",
       "      <th>StockCode</th>\n",
       "      <th>Description</th>\n",
       "      <th>Quantity</th>\n",
       "      <th>InvoiceDate</th>\n",
       "      <th>UnitPrice</th>\n",
       "      <th>CustomerID</th>\n",
       "      <th>Country</th>\n",
       "    </tr>\n",
       "  </thead>\n",
       "  <tbody>\n",
       "    <tr>\n",
       "      <th>count</th>\n",
       "      <td>1067370.000</td>\n",
       "      <td>1067370</td>\n",
       "      <td>1062988</td>\n",
       "      <td>1067370.000</td>\n",
       "      <td>1067370</td>\n",
       "      <td>1067370.000</td>\n",
       "      <td>824363.000</td>\n",
       "      <td>1067370</td>\n",
       "    </tr>\n",
       "    <tr>\n",
       "      <th>unique</th>\n",
       "      <td>53628.000</td>\n",
       "      <td>5305</td>\n",
       "      <td>5698</td>\n",
       "      <td>NaN</td>\n",
       "      <td>NaN</td>\n",
       "      <td>NaN</td>\n",
       "      <td>NaN</td>\n",
       "      <td>43</td>\n",
       "    </tr>\n",
       "    <tr>\n",
       "      <th>top</th>\n",
       "      <td>537434.000</td>\n",
       "      <td>85123A</td>\n",
       "      <td>WHITE HANGING HEART T-LIGHT HOLDER</td>\n",
       "      <td>NaN</td>\n",
       "      <td>NaN</td>\n",
       "      <td>NaN</td>\n",
       "      <td>NaN</td>\n",
       "      <td>United Kingdom</td>\n",
       "    </tr>\n",
       "    <tr>\n",
       "      <th>freq</th>\n",
       "      <td>1350.000</td>\n",
       "      <td>5829</td>\n",
       "      <td>5918</td>\n",
       "      <td>NaN</td>\n",
       "      <td>NaN</td>\n",
       "      <td>NaN</td>\n",
       "      <td>NaN</td>\n",
       "      <td>981330</td>\n",
       "    </tr>\n",
       "    <tr>\n",
       "      <th>mean</th>\n",
       "      <td>NaN</td>\n",
       "      <td>NaN</td>\n",
       "      <td>NaN</td>\n",
       "      <td>9.939</td>\n",
       "      <td>2011-01-02 21:13:27.819556096</td>\n",
       "      <td>4.649</td>\n",
       "      <td>15324.642</td>\n",
       "      <td>NaN</td>\n",
       "    </tr>\n",
       "    <tr>\n",
       "      <th>min</th>\n",
       "      <td>NaN</td>\n",
       "      <td>NaN</td>\n",
       "      <td>NaN</td>\n",
       "      <td>-80995.000</td>\n",
       "      <td>2009-12-01 07:45:00</td>\n",
       "      <td>-53594.360</td>\n",
       "      <td>12346.000</td>\n",
       "      <td>NaN</td>\n",
       "    </tr>\n",
       "    <tr>\n",
       "      <th>25%</th>\n",
       "      <td>NaN</td>\n",
       "      <td>NaN</td>\n",
       "      <td>NaN</td>\n",
       "      <td>1.000</td>\n",
       "      <td>2010-07-09 09:46:00</td>\n",
       "      <td>1.250</td>\n",
       "      <td>13975.000</td>\n",
       "      <td>NaN</td>\n",
       "    </tr>\n",
       "    <tr>\n",
       "      <th>50%</th>\n",
       "      <td>NaN</td>\n",
       "      <td>NaN</td>\n",
       "      <td>NaN</td>\n",
       "      <td>3.000</td>\n",
       "      <td>2010-12-07 15:28:00</td>\n",
       "      <td>2.100</td>\n",
       "      <td>15255.000</td>\n",
       "      <td>NaN</td>\n",
       "    </tr>\n",
       "    <tr>\n",
       "      <th>75%</th>\n",
       "      <td>NaN</td>\n",
       "      <td>NaN</td>\n",
       "      <td>NaN</td>\n",
       "      <td>10.000</td>\n",
       "      <td>2011-07-22 10:23:00</td>\n",
       "      <td>4.150</td>\n",
       "      <td>16797.000</td>\n",
       "      <td>NaN</td>\n",
       "    </tr>\n",
       "    <tr>\n",
       "      <th>max</th>\n",
       "      <td>NaN</td>\n",
       "      <td>NaN</td>\n",
       "      <td>NaN</td>\n",
       "      <td>80995.000</td>\n",
       "      <td>2011-12-09 12:50:00</td>\n",
       "      <td>38970.000</td>\n",
       "      <td>18287.000</td>\n",
       "      <td>NaN</td>\n",
       "    </tr>\n",
       "    <tr>\n",
       "      <th>std</th>\n",
       "      <td>NaN</td>\n",
       "      <td>NaN</td>\n",
       "      <td>NaN</td>\n",
       "      <td>172.706</td>\n",
       "      <td>NaN</td>\n",
       "      <td>123.553</td>\n",
       "      <td>1697.463</td>\n",
       "      <td>NaN</td>\n",
       "    </tr>\n",
       "  </tbody>\n",
       "</table>\n",
       "</div>"
      ],
      "text/plain": [
       "         InvoiceNo StockCode                         Description    Quantity  \\\n",
       "count  1067370.000   1067370                             1062988 1067370.000   \n",
       "unique   53628.000      5305                                5698         NaN   \n",
       "top     537434.000    85123A  WHITE HANGING HEART T-LIGHT HOLDER         NaN   \n",
       "freq      1350.000      5829                                5918         NaN   \n",
       "mean           NaN       NaN                                 NaN       9.939   \n",
       "min            NaN       NaN                                 NaN  -80995.000   \n",
       "25%            NaN       NaN                                 NaN       1.000   \n",
       "50%            NaN       NaN                                 NaN       3.000   \n",
       "75%            NaN       NaN                                 NaN      10.000   \n",
       "max            NaN       NaN                                 NaN   80995.000   \n",
       "std            NaN       NaN                                 NaN     172.706   \n",
       "\n",
       "                          InvoiceDate   UnitPrice  CustomerID         Country  \n",
       "count                         1067370 1067370.000  824363.000         1067370  \n",
       "unique                            NaN         NaN         NaN              43  \n",
       "top                               NaN         NaN         NaN  United Kingdom  \n",
       "freq                              NaN         NaN         NaN          981330  \n",
       "mean    2011-01-02 21:13:27.819556096       4.649   15324.642             NaN  \n",
       "min               2009-12-01 07:45:00  -53594.360   12346.000             NaN  \n",
       "25%               2010-07-09 09:46:00       1.250   13975.000             NaN  \n",
       "50%               2010-12-07 15:28:00       2.100   15255.000             NaN  \n",
       "75%               2011-07-22 10:23:00       4.150   16797.000             NaN  \n",
       "max               2011-12-09 12:50:00   38970.000   18287.000             NaN  \n",
       "std                               NaN     123.553    1697.463             NaN  "
      ]
     },
     "execution_count": 5,
     "metadata": {},
     "output_type": "execute_result"
    }
   ],
   "source": [
    "df.describe(include='all')"
   ]
  },
  {
   "cell_type": "code",
   "execution_count": 6,
   "metadata": {},
   "outputs": [
    {
     "data": {
      "text/plain": [
       "InvoiceNo      0.000\n",
       "StockCode      0.000\n",
       "Description    0.411\n",
       "Quantity       0.000\n",
       "InvoiceDate    0.000\n",
       "UnitPrice      0.000\n",
       "CustomerID    22.767\n",
       "Country        0.000\n",
       "dtype: float64"
      ]
     },
     "execution_count": 6,
     "metadata": {},
     "output_type": "execute_result"
    }
   ],
   "source": [
    "(df.isnull().sum()/df.shape[0]*100)"
   ]
  },
  {
   "cell_type": "code",
   "execution_count": 7,
   "metadata": {},
   "outputs": [
    {
     "name": "stdout",
     "output_type": "stream",
     "text": [
      "duplicates % : 3.22\n"
     ]
    }
   ],
   "source": [
    "print('duplicates %% : %.2f' % (df.duplicated().sum() / df.shape[0] * 100))\n",
    "df.drop_duplicates(inplace=True)"
   ]
  },
  {
   "cell_type": "markdown",
   "metadata": {},
   "source": [
    "### Invoice No "
   ]
  },
  {
   "cell_type": "markdown",
   "metadata": {},
   "source": [
    "- First we split the 'C' represeting the canceled orders and Invoice No and make it clean. \n",
    "- Second, it seems there is a mistake in data for 6 rows which starts with 'A'. I replaced them with 'C' and I assumed it's an data entry error. "
   ]
  },
  {
   "cell_type": "code",
   "execution_count": 8,
   "metadata": {},
   "outputs": [],
   "source": [
    "IsCanceled = []\n",
    "CleanInvoice = []\n",
    "\n",
    "for index, row in df.iterrows(): \n",
    "   IsCanceled.append(str(row['InvoiceNo'])[0].isalpha())\n",
    "   CleanInvoice.append(int(str(row['InvoiceNo']).replace('C', '').replace('A', '')))\n",
    "\n",
    "df['IsCanceled'] = IsCanceled\n",
    "df['InvoiceNo'] = CleanInvoice"
   ]
  },
  {
   "cell_type": "code",
   "execution_count": 9,
   "metadata": {},
   "outputs": [],
   "source": [
    "#final check\n",
    "for index, row in df.iterrows(): \n",
    "    value = row['InvoiceNo']\n",
    "\n",
    "    if len(str(value)) != 6: \n",
    "        print('Mistake')\n",
    "    if str(value).isnumeric: \n",
    "        pass\n",
    "    else:\n",
    "        print(index)"
   ]
  },
  {
   "cell_type": "markdown",
   "metadata": {},
   "source": [
    "we have all of them in 6 digits! "
   ]
  },
  {
   "cell_type": "code",
   "execution_count": 10,
   "metadata": {},
   "outputs": [
    {
     "data": {
      "text/html": [
       "<div>\n",
       "<style scoped>\n",
       "    .dataframe tbody tr th:only-of-type {\n",
       "        vertical-align: middle;\n",
       "    }\n",
       "\n",
       "    .dataframe tbody tr th {\n",
       "        vertical-align: top;\n",
       "    }\n",
       "\n",
       "    .dataframe thead th {\n",
       "        text-align: right;\n",
       "    }\n",
       "</style>\n",
       "<table border=\"1\" class=\"dataframe\">\n",
       "  <thead>\n",
       "    <tr style=\"text-align: right;\">\n",
       "      <th></th>\n",
       "      <th>InvoiceNo</th>\n",
       "      <th>IsCanceled</th>\n",
       "    </tr>\n",
       "  </thead>\n",
       "  <tbody>\n",
       "    <tr>\n",
       "      <th>count</th>\n",
       "      <td>1033035.000</td>\n",
       "      <td>1033035</td>\n",
       "    </tr>\n",
       "    <tr>\n",
       "      <th>unique</th>\n",
       "      <td>NaN</td>\n",
       "      <td>2</td>\n",
       "    </tr>\n",
       "    <tr>\n",
       "      <th>top</th>\n",
       "      <td>NaN</td>\n",
       "      <td>False</td>\n",
       "    </tr>\n",
       "    <tr>\n",
       "      <th>freq</th>\n",
       "      <td>NaN</td>\n",
       "      <td>1013925</td>\n",
       "    </tr>\n",
       "    <tr>\n",
       "      <th>mean</th>\n",
       "      <td>537574.872</td>\n",
       "      <td>NaN</td>\n",
       "    </tr>\n",
       "    <tr>\n",
       "      <th>std</th>\n",
       "      <td>26945.950</td>\n",
       "      <td>NaN</td>\n",
       "    </tr>\n",
       "    <tr>\n",
       "      <th>min</th>\n",
       "      <td>489434.000</td>\n",
       "      <td>NaN</td>\n",
       "    </tr>\n",
       "    <tr>\n",
       "      <th>25%</th>\n",
       "      <td>514558.000</td>\n",
       "      <td>NaN</td>\n",
       "    </tr>\n",
       "    <tr>\n",
       "      <th>50%</th>\n",
       "      <td>538053.000</td>\n",
       "      <td>NaN</td>\n",
       "    </tr>\n",
       "    <tr>\n",
       "      <th>75%</th>\n",
       "      <td>561473.000</td>\n",
       "      <td>NaN</td>\n",
       "    </tr>\n",
       "    <tr>\n",
       "      <th>max</th>\n",
       "      <td>581587.000</td>\n",
       "      <td>NaN</td>\n",
       "    </tr>\n",
       "  </tbody>\n",
       "</table>\n",
       "</div>"
      ],
      "text/plain": [
       "         InvoiceNo IsCanceled\n",
       "count  1033035.000    1033035\n",
       "unique         NaN          2\n",
       "top            NaN      False\n",
       "freq           NaN    1013925\n",
       "mean    537574.872        NaN\n",
       "std      26945.950        NaN\n",
       "min     489434.000        NaN\n",
       "25%     514558.000        NaN\n",
       "50%     538053.000        NaN\n",
       "75%     561473.000        NaN\n",
       "max     581587.000        NaN"
      ]
     },
     "execution_count": 10,
     "metadata": {},
     "output_type": "execute_result"
    }
   ],
   "source": [
    "df[['InvoiceNo', 'IsCanceled']].describe(include='all')"
   ]
  },
  {
   "cell_type": "code",
   "execution_count": 11,
   "metadata": {},
   "outputs": [
    {
     "data": {
      "text/plain": [
       "(1033035, 9)"
      ]
     },
     "execution_count": 11,
     "metadata": {},
     "output_type": "execute_result"
    }
   ],
   "source": [
    "DFCK1 = df.copy()\n",
    "DFCK1.shape\n",
    "#checkpoint 1"
   ]
  },
  {
   "cell_type": "markdown",
   "metadata": {},
   "source": [
    "### Price\n"
   ]
  },
  {
   "cell_type": "code",
   "execution_count": 12,
   "metadata": {},
   "outputs": [
    {
     "data": {
      "text/html": [
       "<div>\n",
       "<style scoped>\n",
       "    .dataframe tbody tr th:only-of-type {\n",
       "        vertical-align: middle;\n",
       "    }\n",
       "\n",
       "    .dataframe tbody tr th {\n",
       "        vertical-align: top;\n",
       "    }\n",
       "\n",
       "    .dataframe thead th {\n",
       "        text-align: right;\n",
       "    }\n",
       "</style>\n",
       "<table border=\"1\" class=\"dataframe\">\n",
       "  <thead>\n",
       "    <tr style=\"text-align: right;\">\n",
       "      <th></th>\n",
       "      <th>InvoiceNo</th>\n",
       "      <th>StockCode</th>\n",
       "      <th>Description</th>\n",
       "      <th>Quantity</th>\n",
       "      <th>InvoiceDate</th>\n",
       "      <th>UnitPrice</th>\n",
       "      <th>CustomerID</th>\n",
       "      <th>Country</th>\n",
       "      <th>IsCanceled</th>\n",
       "      <th>TotalPrice</th>\n",
       "    </tr>\n",
       "  </thead>\n",
       "  <tbody>\n",
       "    <tr>\n",
       "      <th>0</th>\n",
       "      <td>536365</td>\n",
       "      <td>85123A</td>\n",
       "      <td>WHITE HANGING HEART T-LIGHT HOLDER</td>\n",
       "      <td>6</td>\n",
       "      <td>2010-12-01 08:26:00</td>\n",
       "      <td>2.550</td>\n",
       "      <td>17850.000</td>\n",
       "      <td>United Kingdom</td>\n",
       "      <td>False</td>\n",
       "      <td>15.300</td>\n",
       "    </tr>\n",
       "    <tr>\n",
       "      <th>1</th>\n",
       "      <td>536365</td>\n",
       "      <td>71053</td>\n",
       "      <td>WHITE METAL LANTERN</td>\n",
       "      <td>6</td>\n",
       "      <td>2010-12-01 08:26:00</td>\n",
       "      <td>3.390</td>\n",
       "      <td>17850.000</td>\n",
       "      <td>United Kingdom</td>\n",
       "      <td>False</td>\n",
       "      <td>20.340</td>\n",
       "    </tr>\n",
       "    <tr>\n",
       "      <th>2</th>\n",
       "      <td>536365</td>\n",
       "      <td>84406B</td>\n",
       "      <td>CREAM CUPID HEARTS COAT HANGER</td>\n",
       "      <td>8</td>\n",
       "      <td>2010-12-01 08:26:00</td>\n",
       "      <td>2.750</td>\n",
       "      <td>17850.000</td>\n",
       "      <td>United Kingdom</td>\n",
       "      <td>False</td>\n",
       "      <td>22.000</td>\n",
       "    </tr>\n",
       "    <tr>\n",
       "      <th>3</th>\n",
       "      <td>536365</td>\n",
       "      <td>84029G</td>\n",
       "      <td>KNITTED UNION FLAG HOT WATER BOTTLE</td>\n",
       "      <td>6</td>\n",
       "      <td>2010-12-01 08:26:00</td>\n",
       "      <td>3.390</td>\n",
       "      <td>17850.000</td>\n",
       "      <td>United Kingdom</td>\n",
       "      <td>False</td>\n",
       "      <td>20.340</td>\n",
       "    </tr>\n",
       "    <tr>\n",
       "      <th>4</th>\n",
       "      <td>536365</td>\n",
       "      <td>84029E</td>\n",
       "      <td>RED WOOLLY HOTTIE WHITE HEART.</td>\n",
       "      <td>6</td>\n",
       "      <td>2010-12-01 08:26:00</td>\n",
       "      <td>3.390</td>\n",
       "      <td>17850.000</td>\n",
       "      <td>United Kingdom</td>\n",
       "      <td>False</td>\n",
       "      <td>20.340</td>\n",
       "    </tr>\n",
       "  </tbody>\n",
       "</table>\n",
       "</div>"
      ],
      "text/plain": [
       "   InvoiceNo StockCode                          Description  Quantity  \\\n",
       "0     536365    85123A   WHITE HANGING HEART T-LIGHT HOLDER         6   \n",
       "1     536365     71053                  WHITE METAL LANTERN         6   \n",
       "2     536365    84406B       CREAM CUPID HEARTS COAT HANGER         8   \n",
       "3     536365    84029G  KNITTED UNION FLAG HOT WATER BOTTLE         6   \n",
       "4     536365    84029E       RED WOOLLY HOTTIE WHITE HEART.         6   \n",
       "\n",
       "          InvoiceDate  UnitPrice  CustomerID         Country  IsCanceled  \\\n",
       "0 2010-12-01 08:26:00      2.550   17850.000  United Kingdom       False   \n",
       "1 2010-12-01 08:26:00      3.390   17850.000  United Kingdom       False   \n",
       "2 2010-12-01 08:26:00      2.750   17850.000  United Kingdom       False   \n",
       "3 2010-12-01 08:26:00      3.390   17850.000  United Kingdom       False   \n",
       "4 2010-12-01 08:26:00      3.390   17850.000  United Kingdom       False   \n",
       "\n",
       "   TotalPrice  \n",
       "0      15.300  \n",
       "1      20.340  \n",
       "2      22.000  \n",
       "3      20.340  \n",
       "4      20.340  "
      ]
     },
     "execution_count": 12,
     "metadata": {},
     "output_type": "execute_result"
    }
   ],
   "source": [
    "#adding total price \n",
    "df['TotalPrice'] = df['Quantity'] * df['UnitPrice']\n",
    "df.head()"
   ]
  },
  {
   "cell_type": "code",
   "execution_count": 13,
   "metadata": {},
   "outputs": [
    {
     "name": "stdout",
     "output_type": "stream",
     "text": [
      "number of price = 0 is :  6014\n",
      "0.5817808689928221\n"
     ]
    }
   ],
   "source": [
    "print('number of price = 0 is : ' , df[df['TotalPrice'] == 0 ].shape[0])\n",
    "print(6010/df.shape[0]*100)"
   ]
  },
  {
   "cell_type": "markdown",
   "metadata": {},
   "source": [
    "there are 6k row with 0 price, they are probably because of glitches in system which had lead to those adjustments and manuals (Just an hyphothesis)\n",
    "\n",
    "less than 1 % of datas ==> I'll drop them."
   ]
  },
  {
   "cell_type": "code",
   "execution_count": 14,
   "metadata": {},
   "outputs": [],
   "source": [
    "df.drop(df[df['TotalPrice'] == 0 ].index, inplace=True)"
   ]
  },
  {
   "cell_type": "code",
   "execution_count": 15,
   "metadata": {},
   "outputs": [
    {
     "data": {
      "text/plain": [
       "(5, 10)"
      ]
     },
     "execution_count": 15,
     "metadata": {},
     "output_type": "execute_result"
    }
   ],
   "source": [
    "df[df['UnitPrice'] <=  0].shape"
   ]
  },
  {
   "cell_type": "code",
   "execution_count": 16,
   "metadata": {},
   "outputs": [
    {
     "data": {
      "text/plain": [
       "(1027021, 10)"
      ]
     },
     "execution_count": 16,
     "metadata": {},
     "output_type": "execute_result"
    }
   ],
   "source": [
    "DFCK2 = df.copy()\n",
    "DFCK2.shape\n",
    "#checkpoint 1"
   ]
  },
  {
   "cell_type": "markdown",
   "metadata": {},
   "source": [
    "### Stock Code & Description\n"
   ]
  },
  {
   "cell_type": "markdown",
   "metadata": {},
   "source": [
    "First let's see if the codes are legit to 5 digit number? "
   ]
  },
  {
   "cell_type": "code",
   "execution_count": 17,
   "metadata": {},
   "outputs": [],
   "source": [
    "temp = pd.DataFrame()\n",
    "temp['code'] = df['StockCode']\n",
    "temp['desc'] = df['Description']\n",
    "temp['len'] = None"
   ]
  },
  {
   "cell_type": "code",
   "execution_count": 18,
   "metadata": {},
   "outputs": [
    {
     "data": {
      "text/html": [
       "<div>\n",
       "<style scoped>\n",
       "    .dataframe tbody tr th:only-of-type {\n",
       "        vertical-align: middle;\n",
       "    }\n",
       "\n",
       "    .dataframe tbody tr th {\n",
       "        vertical-align: top;\n",
       "    }\n",
       "\n",
       "    .dataframe thead tr th {\n",
       "        text-align: left;\n",
       "    }\n",
       "\n",
       "    .dataframe thead tr:last-of-type th {\n",
       "        text-align: right;\n",
       "    }\n",
       "</style>\n",
       "<table border=\"1\" class=\"dataframe\">\n",
       "  <thead>\n",
       "    <tr>\n",
       "      <th></th>\n",
       "      <th colspan=\"2\" halign=\"left\">code</th>\n",
       "      <th colspan=\"2\" halign=\"left\">desc</th>\n",
       "    </tr>\n",
       "    <tr>\n",
       "      <th></th>\n",
       "      <th>count</th>\n",
       "      <th>nunique</th>\n",
       "      <th>count</th>\n",
       "      <th>nunique</th>\n",
       "    </tr>\n",
       "    <tr>\n",
       "      <th>len</th>\n",
       "      <th></th>\n",
       "      <th></th>\n",
       "      <th></th>\n",
       "      <th></th>\n",
       "    </tr>\n",
       "  </thead>\n",
       "  <tbody>\n",
       "    <tr>\n",
       "      <th>1</th>\n",
       "      <td>1665</td>\n",
       "      <td>5</td>\n",
       "      <td>1665</td>\n",
       "      <td>4</td>\n",
       "    </tr>\n",
       "    <tr>\n",
       "      <th>2</th>\n",
       "      <td>274</td>\n",
       "      <td>1</td>\n",
       "      <td>274</td>\n",
       "      <td>1</td>\n",
       "    </tr>\n",
       "    <tr>\n",
       "      <th>3</th>\n",
       "      <td>1418</td>\n",
       "      <td>1</td>\n",
       "      <td>1418</td>\n",
       "      <td>1</td>\n",
       "    </tr>\n",
       "    <tr>\n",
       "      <th>4</th>\n",
       "      <td>2112</td>\n",
       "      <td>3</td>\n",
       "      <td>2112</td>\n",
       "      <td>3</td>\n",
       "    </tr>\n",
       "    <tr>\n",
       "      <th>5</th>\n",
       "      <td>897765</td>\n",
       "      <td>3401</td>\n",
       "      <td>897765</td>\n",
       "      <td>3975</td>\n",
       "    </tr>\n",
       "    <tr>\n",
       "      <th>6</th>\n",
       "      <td>122113</td>\n",
       "      <td>1488</td>\n",
       "      <td>122113</td>\n",
       "      <td>1400</td>\n",
       "    </tr>\n",
       "    <tr>\n",
       "      <th>7</th>\n",
       "      <td>1336</td>\n",
       "      <td>8</td>\n",
       "      <td>1336</td>\n",
       "      <td>6</td>\n",
       "    </tr>\n",
       "    <tr>\n",
       "      <th>8</th>\n",
       "      <td>99</td>\n",
       "      <td>14</td>\n",
       "      <td>99</td>\n",
       "      <td>14</td>\n",
       "    </tr>\n",
       "    <tr>\n",
       "      <th>9</th>\n",
       "      <td>61</td>\n",
       "      <td>3</td>\n",
       "      <td>61</td>\n",
       "      <td>3</td>\n",
       "    </tr>\n",
       "    <tr>\n",
       "      <th>12</th>\n",
       "      <td>178</td>\n",
       "      <td>8</td>\n",
       "      <td>178</td>\n",
       "      <td>9</td>\n",
       "    </tr>\n",
       "  </tbody>\n",
       "</table>\n",
       "</div>"
      ],
      "text/plain": [
       "       code            desc        \n",
       "      count nunique   count nunique\n",
       "len                                \n",
       "1      1665       5    1665       4\n",
       "2       274       1     274       1\n",
       "3      1418       1    1418       1\n",
       "4      2112       3    2112       3\n",
       "5    897765    3401  897765    3975\n",
       "6    122113    1488  122113    1400\n",
       "7      1336       8    1336       6\n",
       "8        99      14      99      14\n",
       "9        61       3      61       3\n",
       "12      178       8     178       9"
      ]
     },
     "execution_count": 18,
     "metadata": {},
     "output_type": "execute_result"
    }
   ],
   "source": [
    "for index, row in temp.iterrows(): \n",
    "    temp['len'][index] = len(str(row['code']))\n",
    "temp.groupby('len').agg(['count', 'nunique'])"
   ]
  },
  {
   "cell_type": "code",
   "execution_count": 19,
   "metadata": {},
   "outputs": [
    {
     "data": {
      "text/plain": [
       "array(['POST', 'PADS', 'CRUK'], dtype=object)"
      ]
     },
     "execution_count": 19,
     "metadata": {},
     "output_type": "execute_result"
    }
   ],
   "source": [
    "# checking each of the each category: \n",
    "\n",
    "Length = 4  #enter the number here \n",
    "temp[temp['len'] == Length ].iloc[:,0:2].drop_duplicates()['code'].values"
   ]
  },
  {
   "cell_type": "markdown",
   "metadata": {},
   "source": [
    "based on the length of each code, I did the analysis and arrived to this following strategy to clean the data. \n",
    "\n",
    "from 1 to 4 length and more than 7, the observation are summarized in: \n",
    "\n",
    "- `D` : Discount  --> negative price for Canceled order and positive for approved order\n",
    "- `M` / `m` : Manual\t--> seems to be some manual adjustments \n",
    "- `S`\t: SAMPLES\t--> Droping them! No clue what are they\n",
    "- `B`\t: Adjust bad debt\t--> seems to be for accounting purposes, so we drop them \n",
    "- `C2` / `C3` : CARRIAGE   --> changed to Delivery cost, it's mostly 50 euros \n",
    "- `DOT` : 'DOTCOM POSTAGE' seems to indicate the amount spent by the customer on postage. --> changed to DeliveryCost\n",
    "- `POST` : POSTAGE --> changed to DeliveryCost\n",
    "- `GIFT` / gift_0001_20 : gifts, starting with gift_ ... \n",
    "- `CRUK` : CRUK Commission --> No info => drop it\n",
    "- `ADJUST` / `ADJUST2` : The description is : \"Adjustment by john on 26/01/2010 16\" they are all happend on the same day, so there might be a problem on that day. ==> droping them\n",
    "- `TEST002` / `TEST001`: starting with test, are tests --> drop them \n",
    "- `AMAZONFEE` : cost paied to amazoon apperantly  --> no idea about them so i'll drop them as well\n",
    "- `BANK CHARGES` : appearantly they are income if order is not canceled. \n",
    "\n",
    "\n",
    "for the rest which are 5, 6, and 7, the strategy is as folllows: \n",
    "\n",
    "the first 5 charachter of 6 and 7 will be stored as codes, and the rest are `attribute`s which corresponds to color, type, etc. \n",
    "and finally I'll examine all 5 char codes to make sure they follow the rules. \n",
    "\n"
   ]
  },
  {
   "cell_type": "code",
   "execution_count": 20,
   "metadata": {},
   "outputs": [],
   "source": [
    "# Replace 'D' in the 'StockCode' column with 'Discount_____'\n",
    "df.loc[df['StockCode'] == 'D', 'StockCode'] = 'Discount_____'\n",
    "\n",
    "# Replace 'M' or 'm' in the 'StockCode' column with 'Manual_______'\n",
    "df.loc[(df['StockCode'] == 'M') | (df['StockCode'] == 'm'), 'StockCode'] = 'Manual_______'\n",
    "\n",
    "# Drop rows where 'StockCode' is 'S'\n",
    "df.drop(df[df['StockCode'] == 'S'].index, inplace=True)\n",
    "\n",
    "# Drop rows where 'StockCode' is 'B'\n",
    "df.drop(df[df['StockCode'] == 'B'].index, inplace=True)\n",
    "\n",
    "# Replace 'C2' in the 'StockCode' column with 'DeliveryCost_'\n",
    "df.loc[df['StockCode'] == 'C2', 'StockCode'] = 'DeliveryCost_'\n",
    "\n",
    "# Drop rows where 'StockCode' is 'C3'\n",
    "df.drop(df[df['StockCode'] == 'C3'].index, inplace=True)\n",
    "\n",
    "# Replace 'DOT' in the 'StockCode' column with 'DeliveryCost_'\n",
    "df.loc[df['StockCode'] == 'DOT', 'StockCode'] = 'DeliveryCost_'\n",
    "\n",
    "# Replace 'POST' in the 'StockCode' column with 'DeliveryCost_'\n",
    "df.loc[df['StockCode'] == 'POST', 'StockCode'] = 'DeliveryCost_'\n",
    "\n",
    "# Replace specific 'StockCode' values related to gifts or bank charges with 'Gift_________'\n",
    "df.loc[df['StockCode'].isin(['GIFT', 'gift_0001_40', 'gift_0001_50', 'gift_0001_30',\n",
    "                             'gift_0001_20', 'gift_0001_10', 'gift_0001_20', 'gift_0001_30', \n",
    "                             'gift_0001_10', 'BANK CHARGES', 'gift_0001_80', 'gift_0001_80',\n",
    "                             'gift_0001_50', 'gift_0001_40', 'gift_0001_60', 'gift_0001_70',\n",
    "                             'gift_0001_90', 'gift_0001_70', 'gift_0001_20']), 'StockCode'] = 'Gift_________'\n",
    "\n",
    "# Drop rows where 'StockCode' is 'CRUK'\n",
    "df.drop(df[df['StockCode'] == 'CRUK'].index, inplace=True)\n",
    "\n",
    "# Drop rows where 'StockCode' is 'ADJUST' or 'ADJUST2'\n",
    "df.drop(df[df['StockCode'].isin(['ADJUST', 'ADJUST2'])].index, inplace=True)\n",
    "\n",
    "# Drop rows where 'StockCode' is 'TEST002' or 'TEST001'\n",
    "df.drop(df[df['StockCode'].isin(['TEST002', 'TEST001'])].index, inplace=True)\n",
    "\n",
    "# Drop rows where 'StockCode' is 'AMAZONFEE'\n",
    "df.drop(df[df['StockCode'] == 'AMAZONFEE'].index, inplace=True)"
   ]
  },
  {
   "cell_type": "code",
   "execution_count": 21,
   "metadata": {},
   "outputs": [],
   "source": [
    "# for 5, 6, and 7 char stockcodes\n",
    "df['ProductAttribute'] = None\n",
    "\n",
    "for i, row in df.iterrows(): \n",
    "    if len(str(row['StockCode'])) == 6 or len(str(row['StockCode'])) == 7 :\n",
    "        df.at[i, 'ProductAttribute'] = str(row['StockCode'])[5:]\n",
    "\n",
    "        if (str(row['StockCode'])[0:5]).isnumeric(): \n",
    "             df.at[i, 'StockCode'] = int(str(row['StockCode'])[0:5])\n",
    "        else:\n",
    "            row['StockCode'] = str(row['StockCode'] + 'XXXXXXXXXXXXXXXXX')"
   ]
  },
  {
   "cell_type": "code",
   "execution_count": 22,
   "metadata": {},
   "outputs": [],
   "source": [
    "for i, r in df.iterrows(): \n",
    "    if len(str(row['StockCode'])) == 5:\n",
    "        if str(row['StockCode']).isnumeric():\n",
    "            pass\n",
    "        else:\n",
    "            print(row['StockCode'])\n",
    "# seems fine"
   ]
  },
  {
   "cell_type": "code",
   "execution_count": 23,
   "metadata": {},
   "outputs": [
    {
     "data": {
      "text/html": [
       "<div>\n",
       "<style scoped>\n",
       "    .dataframe tbody tr th:only-of-type {\n",
       "        vertical-align: middle;\n",
       "    }\n",
       "\n",
       "    .dataframe tbody tr th {\n",
       "        vertical-align: top;\n",
       "    }\n",
       "\n",
       "    .dataframe thead tr th {\n",
       "        text-align: left;\n",
       "    }\n",
       "\n",
       "    .dataframe thead tr:last-of-type th {\n",
       "        text-align: right;\n",
       "    }\n",
       "</style>\n",
       "<table border=\"1\" class=\"dataframe\">\n",
       "  <thead>\n",
       "    <tr>\n",
       "      <th></th>\n",
       "      <th colspan=\"2\" halign=\"left\">code</th>\n",
       "      <th colspan=\"2\" halign=\"left\">desc</th>\n",
       "    </tr>\n",
       "    <tr>\n",
       "      <th></th>\n",
       "      <th>count</th>\n",
       "      <th>nunique</th>\n",
       "      <th>count</th>\n",
       "      <th>nunique</th>\n",
       "    </tr>\n",
       "    <tr>\n",
       "      <th>len</th>\n",
       "      <th></th>\n",
       "      <th></th>\n",
       "      <th></th>\n",
       "      <th></th>\n",
       "    </tr>\n",
       "  </thead>\n",
       "  <tbody>\n",
       "    <tr>\n",
       "      <th>4</th>\n",
       "      <td>18</td>\n",
       "      <td>1</td>\n",
       "      <td>18</td>\n",
       "      <td>1</td>\n",
       "    </tr>\n",
       "    <tr>\n",
       "      <th>5</th>\n",
       "      <td>1021128</td>\n",
       "      <td>3946</td>\n",
       "      <td>1021128</td>\n",
       "      <td>5374</td>\n",
       "    </tr>\n",
       "    <tr>\n",
       "      <th>6</th>\n",
       "      <td>2</td>\n",
       "      <td>1</td>\n",
       "      <td>2</td>\n",
       "      <td>1</td>\n",
       "    </tr>\n",
       "    <tr>\n",
       "      <th>8</th>\n",
       "      <td>99</td>\n",
       "      <td>14</td>\n",
       "      <td>99</td>\n",
       "      <td>14</td>\n",
       "    </tr>\n",
       "    <tr>\n",
       "      <th>9</th>\n",
       "      <td>25</td>\n",
       "      <td>2</td>\n",
       "      <td>25</td>\n",
       "      <td>2</td>\n",
       "    </tr>\n",
       "    <tr>\n",
       "      <th>13</th>\n",
       "      <td>5506</td>\n",
       "      <td>4</td>\n",
       "      <td>5506</td>\n",
       "      <td>14</td>\n",
       "    </tr>\n",
       "  </tbody>\n",
       "</table>\n",
       "</div>"
      ],
      "text/plain": [
       "        code             desc        \n",
       "       count nunique    count nunique\n",
       "len                                  \n",
       "4         18       1       18       1\n",
       "5    1021128    3946  1021128    5374\n",
       "6          2       1        2       1\n",
       "8         99      14       99      14\n",
       "9         25       2       25       2\n",
       "13      5506       4     5506      14"
      ]
     },
     "execution_count": 23,
     "metadata": {},
     "output_type": "execute_result"
    }
   ],
   "source": [
    "temp = pd.DataFrame()\n",
    "temp['code'] = df['StockCode']\n",
    "temp['desc'] = df['Description']\n",
    "temp['len'] = None\n",
    "for index, row in temp.iterrows(): \n",
    "    temp['len'][index] = len(str(row['code']))\n",
    "temp.groupby('len').agg(['count', 'nunique'])"
   ]
  },
  {
   "cell_type": "markdown",
   "metadata": {},
   "source": [
    "the rest are fine and it seems normal.\n",
    "\n",
    "5 char is for products and 13 char are other related record to the purchase."
   ]
  },
  {
   "cell_type": "code",
   "execution_count": 24,
   "metadata": {},
   "outputs": [
    {
     "data": {
      "text/plain": [
       "(1026778, 11)"
      ]
     },
     "execution_count": 24,
     "metadata": {},
     "output_type": "execute_result"
    }
   ],
   "source": [
    "DFCK3 = df.copy()\n",
    "DFCK3.shape\n",
    "#checkpoint 1"
   ]
  },
  {
   "cell_type": "markdown",
   "metadata": {},
   "source": [
    "### Quantity"
   ]
  },
  {
   "cell_type": "markdown",
   "metadata": {},
   "source": [
    "- We have negative quantity which is basically impossible for 22,950"
   ]
  },
  {
   "cell_type": "code",
   "execution_count": 25,
   "metadata": {},
   "outputs": [
    {
     "data": {
      "text/plain": [
       "count   1026778.000\n",
       "mean         10.449\n",
       "std         168.654\n",
       "min      -80995.000\n",
       "25%           1.000\n",
       "50%           3.000\n",
       "75%          10.000\n",
       "max       80995.000\n",
       "Name: Quantity, dtype: float64"
      ]
     },
     "execution_count": 25,
     "metadata": {},
     "output_type": "execute_result"
    }
   ],
   "source": [
    "df['Quantity'].describe()"
   ]
  },
  {
   "cell_type": "code",
   "execution_count": 26,
   "metadata": {},
   "outputs": [
    {
     "data": {
      "text/plain": [
       "Index(['InvoiceNo', 'StockCode', 'Description', 'Quantity', 'InvoiceDate',\n",
       "       'UnitPrice', 'CustomerID', 'Country', 'IsCanceled', 'TotalPrice',\n",
       "       'ProductAttribute'],\n",
       "      dtype='object')"
      ]
     },
     "execution_count": 26,
     "metadata": {},
     "output_type": "execute_result"
    }
   ],
   "source": [
    "df.columns"
   ]
  },
  {
   "cell_type": "code",
   "execution_count": 27,
   "metadata": {},
   "outputs": [
    {
     "data": {
      "text/html": [
       "<div>\n",
       "<style scoped>\n",
       "    .dataframe tbody tr th:only-of-type {\n",
       "        vertical-align: middle;\n",
       "    }\n",
       "\n",
       "    .dataframe tbody tr th {\n",
       "        vertical-align: top;\n",
       "    }\n",
       "\n",
       "    .dataframe thead th {\n",
       "        text-align: right;\n",
       "    }\n",
       "</style>\n",
       "<table border=\"1\" class=\"dataframe\">\n",
       "  <thead>\n",
       "    <tr style=\"text-align: right;\">\n",
       "      <th></th>\n",
       "      <th>IsCanceled</th>\n",
       "      <th>False</th>\n",
       "      <th>True</th>\n",
       "    </tr>\n",
       "  </thead>\n",
       "  <tbody>\n",
       "    <tr>\n",
       "      <th rowspan=\"2\" valign=\"top\">Quantity</th>\n",
       "      <th>min</th>\n",
       "      <td>1.000</td>\n",
       "      <td>-80995.000</td>\n",
       "    </tr>\n",
       "    <tr>\n",
       "      <th>max</th>\n",
       "      <td>80995.000</td>\n",
       "      <td>1.000</td>\n",
       "    </tr>\n",
       "    <tr>\n",
       "      <th rowspan=\"2\" valign=\"top\">UnitPrice</th>\n",
       "      <th>min</th>\n",
       "      <td>0.001</td>\n",
       "      <td>0.010</td>\n",
       "    </tr>\n",
       "    <tr>\n",
       "      <th>max</th>\n",
       "      <td>25111.090</td>\n",
       "      <td>38970.000</td>\n",
       "    </tr>\n",
       "    <tr>\n",
       "      <th rowspan=\"2\" valign=\"top\">TotalPrice</th>\n",
       "      <th>min</th>\n",
       "      <td>0.001</td>\n",
       "      <td>-168469.600</td>\n",
       "    </tr>\n",
       "    <tr>\n",
       "      <th>max</th>\n",
       "      <td>168469.600</td>\n",
       "      <td>373.570</td>\n",
       "    </tr>\n",
       "  </tbody>\n",
       "</table>\n",
       "</div>"
      ],
      "text/plain": [
       "IsCanceled          False       True \n",
       "Quantity   min      1.000  -80995.000\n",
       "           max  80995.000       1.000\n",
       "UnitPrice  min      0.001       0.010\n",
       "           max  25111.090   38970.000\n",
       "TotalPrice min      0.001 -168469.600\n",
       "           max 168469.600     373.570"
      ]
     },
     "execution_count": 27,
     "metadata": {},
     "output_type": "execute_result"
    }
   ],
   "source": [
    "df[['Quantity', 'UnitPrice','TotalPrice', 'IsCanceled']].groupby('IsCanceled').agg(['min', 'max']).T"
   ]
  },
  {
   "cell_type": "markdown",
   "metadata": {},
   "source": [
    "- positive quantity in canceled order! \n",
    "- positive price in canceled order! \n",
    "gotta fix them: "
   ]
  },
  {
   "cell_type": "code",
   "execution_count": 28,
   "metadata": {},
   "outputs": [
    {
     "data": {
      "text/html": [
       "<div>\n",
       "<style scoped>\n",
       "    .dataframe tbody tr th:only-of-type {\n",
       "        vertical-align: middle;\n",
       "    }\n",
       "\n",
       "    .dataframe tbody tr th {\n",
       "        vertical-align: top;\n",
       "    }\n",
       "\n",
       "    .dataframe thead th {\n",
       "        text-align: right;\n",
       "    }\n",
       "</style>\n",
       "<table border=\"1\" class=\"dataframe\">\n",
       "  <thead>\n",
       "    <tr style=\"text-align: right;\">\n",
       "      <th></th>\n",
       "      <th>InvoiceNo</th>\n",
       "      <th>StockCode</th>\n",
       "      <th>Description</th>\n",
       "      <th>Quantity</th>\n",
       "      <th>InvoiceDate</th>\n",
       "      <th>UnitPrice</th>\n",
       "      <th>CustomerID</th>\n",
       "      <th>Country</th>\n",
       "      <th>IsCanceled</th>\n",
       "      <th>TotalPrice</th>\n",
       "      <th>ProductAttribute</th>\n",
       "    </tr>\n",
       "  </thead>\n",
       "  <tbody>\n",
       "    <tr>\n",
       "      <th>618708</th>\n",
       "      <td>496350</td>\n",
       "      <td>Manual_______</td>\n",
       "      <td>Manual</td>\n",
       "      <td>1</td>\n",
       "      <td>2010-02-01 08:24:00</td>\n",
       "      <td>373.570</td>\n",
       "      <td>NaN</td>\n",
       "      <td>United Kingdom</td>\n",
       "      <td>True</td>\n",
       "      <td>373.570</td>\n",
       "      <td>None</td>\n",
       "    </tr>\n",
       "  </tbody>\n",
       "</table>\n",
       "</div>"
      ],
      "text/plain": [
       "        InvoiceNo      StockCode Description  Quantity         InvoiceDate  \\\n",
       "618708     496350  Manual_______      Manual         1 2010-02-01 08:24:00   \n",
       "\n",
       "        UnitPrice  CustomerID         Country  IsCanceled  TotalPrice  \\\n",
       "618708    373.570         NaN  United Kingdom        True     373.570   \n",
       "\n",
       "       ProductAttribute  \n",
       "618708             None  "
      ]
     },
     "execution_count": 28,
     "metadata": {},
     "output_type": "execute_result"
    }
   ],
   "source": [
    "df.loc[ (df['IsCanceled'] == True)  & (df['Quantity'] > 0), : ]"
   ]
  },
  {
   "cell_type": "code",
   "execution_count": 29,
   "metadata": {},
   "outputs": [],
   "source": [
    "#Just one row, fix it by hand :) \n",
    "df.loc[ (df['IsCanceled'] == True)  & (df['Quantity'] > 0), 'Quantity' ] = -1\n",
    "df.loc[ (df['IsCanceled'] == True)  & (df['TotalPrice'] > 0), 'TotalPrice' ] = -373.570"
   ]
  },
  {
   "cell_type": "markdown",
   "metadata": {},
   "source": [
    "### Invoice Date"
   ]
  },
  {
   "cell_type": "code",
   "execution_count": 30,
   "metadata": {},
   "outputs": [
    {
     "name": "stdout",
     "output_type": "stream",
     "text": [
      "<class 'pandas.core.series.Series'>\n",
      "Index: 1026778 entries, 0 to 1044846\n",
      "Series name: InvoiceDate\n",
      "Non-Null Count    Dtype         \n",
      "--------------    -----         \n",
      "1026778 non-null  datetime64[ns]\n",
      "dtypes: datetime64[ns](1)\n",
      "memory usage: 47.9 MB\n"
     ]
    }
   ],
   "source": [
    "df['InvoiceDate'].info()"
   ]
  },
  {
   "cell_type": "code",
   "execution_count": 31,
   "metadata": {},
   "outputs": [
    {
     "data": {
      "text/plain": [
       "(datetime.date(2009, 12, 1), datetime.date(2011, 12, 9))"
      ]
     },
     "execution_count": 31,
     "metadata": {},
     "output_type": "execute_result"
    }
   ],
   "source": [
    "(df['InvoiceDate'].min()).date() , (df['InvoiceDate'].max()).date()"
   ]
  },
  {
   "cell_type": "markdown",
   "metadata": {},
   "source": [
    "it's pretty fine! we'll needed more column and info which I'll add after data cleaning phase. "
   ]
  },
  {
   "cell_type": "markdown",
   "metadata": {},
   "source": [
    "### Country"
   ]
  },
  {
   "cell_type": "code",
   "execution_count": 32,
   "metadata": {},
   "outputs": [
    {
     "data": {
      "text/plain": [
       "0"
      ]
     },
     "execution_count": 32,
     "metadata": {},
     "output_type": "execute_result"
    }
   ],
   "source": [
    "df['Country'].isnull().sum()"
   ]
  },
  {
   "cell_type": "code",
   "execution_count": 33,
   "metadata": {},
   "outputs": [
    {
     "data": {
      "text/html": [
       "<div>\n",
       "<style scoped>\n",
       "    .dataframe tbody tr th:only-of-type {\n",
       "        vertical-align: middle;\n",
       "    }\n",
       "\n",
       "    .dataframe tbody tr th {\n",
       "        vertical-align: top;\n",
       "    }\n",
       "\n",
       "    .dataframe thead th {\n",
       "        text-align: right;\n",
       "    }\n",
       "</style>\n",
       "<table border=\"1\" class=\"dataframe\">\n",
       "  <thead>\n",
       "    <tr style=\"text-align: right;\">\n",
       "      <th></th>\n",
       "      <th>InvoiceNo</th>\n",
       "    </tr>\n",
       "    <tr>\n",
       "      <th>Country</th>\n",
       "      <th></th>\n",
       "    </tr>\n",
       "  </thead>\n",
       "  <tbody>\n",
       "    <tr>\n",
       "      <th>Australia</th>\n",
       "      <td>1887</td>\n",
       "    </tr>\n",
       "    <tr>\n",
       "      <th>Austria</th>\n",
       "      <td>938</td>\n",
       "    </tr>\n",
       "    <tr>\n",
       "      <th>Bahrain</th>\n",
       "      <td>126</td>\n",
       "    </tr>\n",
       "    <tr>\n",
       "      <th>Belgium</th>\n",
       "      <td>3109</td>\n",
       "    </tr>\n",
       "    <tr>\n",
       "      <th>Bermuda</th>\n",
       "      <td>34</td>\n",
       "    </tr>\n",
       "    <tr>\n",
       "      <th>Brazil</th>\n",
       "      <td>94</td>\n",
       "    </tr>\n",
       "    <tr>\n",
       "      <th>Canada</th>\n",
       "      <td>228</td>\n",
       "    </tr>\n",
       "    <tr>\n",
       "      <th>Channel Islands</th>\n",
       "      <td>1646</td>\n",
       "    </tr>\n",
       "    <tr>\n",
       "      <th>Cyprus</th>\n",
       "      <td>1157</td>\n",
       "    </tr>\n",
       "    <tr>\n",
       "      <th>Czech Republic</th>\n",
       "      <td>30</td>\n",
       "    </tr>\n",
       "    <tr>\n",
       "      <th>Denmark</th>\n",
       "      <td>797</td>\n",
       "    </tr>\n",
       "    <tr>\n",
       "      <th>EIRE</th>\n",
       "      <td>17648</td>\n",
       "    </tr>\n",
       "    <tr>\n",
       "      <th>European Community</th>\n",
       "      <td>61</td>\n",
       "    </tr>\n",
       "    <tr>\n",
       "      <th>Finland</th>\n",
       "      <td>1046</td>\n",
       "    </tr>\n",
       "    <tr>\n",
       "      <th>France</th>\n",
       "      <td>14022</td>\n",
       "    </tr>\n",
       "    <tr>\n",
       "      <th>Germany</th>\n",
       "      <td>17325</td>\n",
       "    </tr>\n",
       "    <tr>\n",
       "      <th>Greece</th>\n",
       "      <td>663</td>\n",
       "    </tr>\n",
       "    <tr>\n",
       "      <th>Hong Kong</th>\n",
       "      <td>360</td>\n",
       "    </tr>\n",
       "    <tr>\n",
       "      <th>Iceland</th>\n",
       "      <td>222</td>\n",
       "    </tr>\n",
       "    <tr>\n",
       "      <th>Israel</th>\n",
       "      <td>368</td>\n",
       "    </tr>\n",
       "    <tr>\n",
       "      <th>Italy</th>\n",
       "      <td>1506</td>\n",
       "    </tr>\n",
       "    <tr>\n",
       "      <th>Japan</th>\n",
       "      <td>565</td>\n",
       "    </tr>\n",
       "    <tr>\n",
       "      <th>Korea</th>\n",
       "      <td>63</td>\n",
       "    </tr>\n",
       "    <tr>\n",
       "      <th>Lebanon</th>\n",
       "      <td>58</td>\n",
       "    </tr>\n",
       "    <tr>\n",
       "      <th>Lithuania</th>\n",
       "      <td>154</td>\n",
       "    </tr>\n",
       "    <tr>\n",
       "      <th>Malta</th>\n",
       "      <td>299</td>\n",
       "    </tr>\n",
       "    <tr>\n",
       "      <th>Netherlands</th>\n",
       "      <td>5131</td>\n",
       "    </tr>\n",
       "    <tr>\n",
       "      <th>Nigeria</th>\n",
       "      <td>31</td>\n",
       "    </tr>\n",
       "    <tr>\n",
       "      <th>Norway</th>\n",
       "      <td>1307</td>\n",
       "    </tr>\n",
       "    <tr>\n",
       "      <th>Poland</th>\n",
       "      <td>527</td>\n",
       "    </tr>\n",
       "    <tr>\n",
       "      <th>Portugal</th>\n",
       "      <td>2526</td>\n",
       "    </tr>\n",
       "    <tr>\n",
       "      <th>RSA</th>\n",
       "      <td>168</td>\n",
       "    </tr>\n",
       "    <tr>\n",
       "      <th>Saudi Arabia</th>\n",
       "      <td>10</td>\n",
       "    </tr>\n",
       "    <tr>\n",
       "      <th>Singapore</th>\n",
       "      <td>346</td>\n",
       "    </tr>\n",
       "    <tr>\n",
       "      <th>Spain</th>\n",
       "      <td>3749</td>\n",
       "    </tr>\n",
       "    <tr>\n",
       "      <th>Sweden</th>\n",
       "      <td>1362</td>\n",
       "    </tr>\n",
       "    <tr>\n",
       "      <th>Switzerland</th>\n",
       "      <td>3174</td>\n",
       "    </tr>\n",
       "    <tr>\n",
       "      <th>Thailand</th>\n",
       "      <td>76</td>\n",
       "    </tr>\n",
       "    <tr>\n",
       "      <th>USA</th>\n",
       "      <td>535</td>\n",
       "    </tr>\n",
       "    <tr>\n",
       "      <th>United Arab Emirates</th>\n",
       "      <td>500</td>\n",
       "    </tr>\n",
       "    <tr>\n",
       "      <th>United Kingdom</th>\n",
       "      <td>942125</td>\n",
       "    </tr>\n",
       "    <tr>\n",
       "      <th>Unspecified</th>\n",
       "      <td>751</td>\n",
       "    </tr>\n",
       "    <tr>\n",
       "      <th>West Indies</th>\n",
       "      <td>54</td>\n",
       "    </tr>\n",
       "  </tbody>\n",
       "</table>\n",
       "</div>"
      ],
      "text/plain": [
       "                      InvoiceNo\n",
       "Country                        \n",
       "Australia                  1887\n",
       "Austria                     938\n",
       "Bahrain                     126\n",
       "Belgium                    3109\n",
       "Bermuda                      34\n",
       "Brazil                       94\n",
       "Canada                      228\n",
       "Channel Islands            1646\n",
       "Cyprus                     1157\n",
       "Czech Republic               30\n",
       "Denmark                     797\n",
       "EIRE                      17648\n",
       "European Community           61\n",
       "Finland                    1046\n",
       "France                    14022\n",
       "Germany                   17325\n",
       "Greece                      663\n",
       "Hong Kong                   360\n",
       "Iceland                     222\n",
       "Israel                      368\n",
       "Italy                      1506\n",
       "Japan                       565\n",
       "Korea                        63\n",
       "Lebanon                      58\n",
       "Lithuania                   154\n",
       "Malta                       299\n",
       "Netherlands                5131\n",
       "Nigeria                      31\n",
       "Norway                     1307\n",
       "Poland                      527\n",
       "Portugal                   2526\n",
       "RSA                         168\n",
       "Saudi Arabia                 10\n",
       "Singapore                   346\n",
       "Spain                      3749\n",
       "Sweden                     1362\n",
       "Switzerland                3174\n",
       "Thailand                     76\n",
       "USA                         535\n",
       "United Arab Emirates        500\n",
       "United Kingdom           942125\n",
       "Unspecified                 751\n",
       "West Indies                  54"
      ]
     },
     "execution_count": 33,
     "metadata": {},
     "output_type": "execute_result"
    }
   ],
   "source": [
    "df[['Country', 'InvoiceNo']].groupby('Country').count()"
   ]
  },
  {
   "cell_type": "markdown",
   "metadata": {},
   "source": [
    "we have 751 null values! \n",
    "also there is a redunduncies, as there are seperated eauropian country and also EU as a whole. Also data set is not balanced and most of data is on England, so I just ignore the problem in this area and I'll investigate more on aggregated dataframe coming next"
   ]
  },
  {
   "cell_type": "markdown",
   "metadata": {},
   "source": [
    "### Customer ID"
   ]
  },
  {
   "cell_type": "markdown",
   "metadata": {},
   "source": [
    "Almost 25% of this data is Null! "
   ]
  },
  {
   "cell_type": "code",
   "execution_count": 34,
   "metadata": {},
   "outputs": [
    {
     "data": {
      "text/plain": [
       "0.2230842499547127"
      ]
     },
     "execution_count": 34,
     "metadata": {},
     "output_type": "execute_result"
    }
   ],
   "source": [
    "df['CustomerID'].isnull().sum()/df.shape[0]"
   ]
  },
  {
   "cell_type": "code",
   "execution_count": 35,
   "metadata": {},
   "outputs": [
    {
     "data": {
      "text/html": [
       "<div>\n",
       "<style scoped>\n",
       "    .dataframe tbody tr th:only-of-type {\n",
       "        vertical-align: middle;\n",
       "    }\n",
       "\n",
       "    .dataframe tbody tr th {\n",
       "        vertical-align: top;\n",
       "    }\n",
       "\n",
       "    .dataframe thead th {\n",
       "        text-align: right;\n",
       "    }\n",
       "</style>\n",
       "<table border=\"1\" class=\"dataframe\">\n",
       "  <thead>\n",
       "    <tr style=\"text-align: right;\">\n",
       "      <th></th>\n",
       "      <th>Mean</th>\n",
       "      <th>Min</th>\n",
       "      <th>Max</th>\n",
       "    </tr>\n",
       "  </thead>\n",
       "  <tbody>\n",
       "    <tr>\n",
       "      <th>StockCode</th>\n",
       "      <td>20.475</td>\n",
       "      <td>1</td>\n",
       "      <td>1075</td>\n",
       "    </tr>\n",
       "    <tr>\n",
       "      <th>Description</th>\n",
       "      <td>21.056</td>\n",
       "      <td>1</td>\n",
       "      <td>1108</td>\n",
       "    </tr>\n",
       "    <tr>\n",
       "      <th>Quantity</th>\n",
       "      <td>5.206</td>\n",
       "      <td>1</td>\n",
       "      <td>90</td>\n",
       "    </tr>\n",
       "    <tr>\n",
       "      <th>InvoiceDate</th>\n",
       "      <td>1.002</td>\n",
       "      <td>1</td>\n",
       "      <td>2</td>\n",
       "    </tr>\n",
       "    <tr>\n",
       "      <th>UnitPrice</th>\n",
       "      <td>8.214</td>\n",
       "      <td>1</td>\n",
       "      <td>63</td>\n",
       "    </tr>\n",
       "    <tr>\n",
       "      <th>CustomerID</th>\n",
       "      <td>0.929</td>\n",
       "      <td>0</td>\n",
       "      <td>1</td>\n",
       "    </tr>\n",
       "    <tr>\n",
       "      <th>Country</th>\n",
       "      <td>1.000</td>\n",
       "      <td>1</td>\n",
       "      <td>1</td>\n",
       "    </tr>\n",
       "    <tr>\n",
       "      <th>IsCanceled</th>\n",
       "      <td>1.000</td>\n",
       "      <td>1</td>\n",
       "      <td>1</td>\n",
       "    </tr>\n",
       "    <tr>\n",
       "      <th>TotalPrice</th>\n",
       "      <td>11.928</td>\n",
       "      <td>1</td>\n",
       "      <td>239</td>\n",
       "    </tr>\n",
       "    <tr>\n",
       "      <th>ProductAttribute</th>\n",
       "      <td>1.523</td>\n",
       "      <td>0</td>\n",
       "      <td>24</td>\n",
       "    </tr>\n",
       "  </tbody>\n",
       "</table>\n",
       "</div>"
      ],
      "text/plain": [
       "                   Mean  Min   Max\n",
       "StockCode        20.475    1  1075\n",
       "Description      21.056    1  1108\n",
       "Quantity          5.206    1    90\n",
       "InvoiceDate       1.002    1     2\n",
       "UnitPrice         8.214    1    63\n",
       "CustomerID        0.929    0     1\n",
       "Country           1.000    1     1\n",
       "IsCanceled        1.000    1     1\n",
       "TotalPrice       11.928    1   239\n",
       "ProductAttribute  1.523    0    24"
      ]
     },
     "execution_count": 35,
     "metadata": {},
     "output_type": "execute_result"
    }
   ],
   "source": [
    "TempCheck = df.groupby('InvoiceNo').agg(lambda x: x.nunique())\n",
    "\n",
    "Check_stats = pd.DataFrame({'Mean': TempCheck.mean(), 'Min': TempCheck.min(), 'Max': TempCheck.max()})\n",
    "Check_stats"
   ]
  },
  {
   "cell_type": "markdown",
   "metadata": {},
   "source": [
    "So the result is showing that: \n",
    "\n",
    "for InoviceDate we have a problem with several rows as the max of unique dates are two. I'll take the most repeated one as aggregated value. \n",
    "\n",
    "for customer ID we have either null of one. so I'll get the one. \n",
    "\n",
    "for country and IsCanceled we have no problem."
   ]
  },
  {
   "cell_type": "markdown",
   "metadata": {},
   "source": [
    "==> building the aggregated orders dataset in order to impute some mmissing Customer IDs\n"
   ]
  },
  {
   "cell_type": "markdown",
   "metadata": {},
   "source": [
    "## Aggregate data to create Order"
   ]
  },
  {
   "cell_type": "code",
   "execution_count": 36,
   "metadata": {},
   "outputs": [
    {
     "data": {
      "text/html": [
       "<div>\n",
       "<style scoped>\n",
       "    .dataframe tbody tr th:only-of-type {\n",
       "        vertical-align: middle;\n",
       "    }\n",
       "\n",
       "    .dataframe tbody tr th {\n",
       "        vertical-align: top;\n",
       "    }\n",
       "\n",
       "    .dataframe thead th {\n",
       "        text-align: right;\n",
       "    }\n",
       "</style>\n",
       "<table border=\"1\" class=\"dataframe\">\n",
       "  <thead>\n",
       "    <tr style=\"text-align: right;\">\n",
       "      <th></th>\n",
       "      <th>ItemsList</th>\n",
       "      <th>TotalNumberofItems</th>\n",
       "      <th>InvoiceDate</th>\n",
       "      <th>AverageItemPrice</th>\n",
       "      <th>CustomerID</th>\n",
       "      <th>Country</th>\n",
       "      <th>TotalOrderPrice</th>\n",
       "      <th>IsCanceled</th>\n",
       "    </tr>\n",
       "    <tr>\n",
       "      <th>InvoiceNo</th>\n",
       "      <th></th>\n",
       "      <th></th>\n",
       "      <th></th>\n",
       "      <th></th>\n",
       "      <th></th>\n",
       "      <th></th>\n",
       "      <th></th>\n",
       "      <th></th>\n",
       "    </tr>\n",
       "  </thead>\n",
       "  <tbody>\n",
       "    <tr>\n",
       "      <th>489434</th>\n",
       "      <td>[85048, 79323, 79323, 22041, 21232, 22064, 218...</td>\n",
       "      <td>166</td>\n",
       "      <td>2009-12-01 07:45:00</td>\n",
       "      <td>4.081</td>\n",
       "      <td>13085.000</td>\n",
       "      <td>United Kingdom</td>\n",
       "      <td>505.300</td>\n",
       "      <td>False</td>\n",
       "    </tr>\n",
       "    <tr>\n",
       "      <th>489435</th>\n",
       "      <td>[22350, 22349, 22195, 22353]</td>\n",
       "      <td>60</td>\n",
       "      <td>2009-12-01 07:46:00</td>\n",
       "      <td>2.625</td>\n",
       "      <td>13085.000</td>\n",
       "      <td>United Kingdom</td>\n",
       "      <td>145.800</td>\n",
       "      <td>False</td>\n",
       "    </tr>\n",
       "    <tr>\n",
       "      <th>489436</th>\n",
       "      <td>[48173, 21755, 21754, 84879, 22119, 22142, 222...</td>\n",
       "      <td>193</td>\n",
       "      <td>2009-12-01 09:06:00</td>\n",
       "      <td>3.731</td>\n",
       "      <td>13078.000</td>\n",
       "      <td>United Kingdom</td>\n",
       "      <td>630.330</td>\n",
       "      <td>False</td>\n",
       "    </tr>\n",
       "    <tr>\n",
       "      <th>489437</th>\n",
       "      <td>[22143, 22145, 22130, 21364, 21360, 21351, 213...</td>\n",
       "      <td>145</td>\n",
       "      <td>2009-12-01 09:08:00</td>\n",
       "      <td>3.628</td>\n",
       "      <td>15362.000</td>\n",
       "      <td>United Kingdom</td>\n",
       "      <td>310.750</td>\n",
       "      <td>False</td>\n",
       "    </tr>\n",
       "    <tr>\n",
       "      <th>489438</th>\n",
       "      <td>[21329, 21252, 21100, 21033, 20711, 21410, 214...</td>\n",
       "      <td>826</td>\n",
       "      <td>2009-12-01 09:24:00</td>\n",
       "      <td>2.591</td>\n",
       "      <td>18102.000</td>\n",
       "      <td>United Kingdom</td>\n",
       "      <td>2286.240</td>\n",
       "      <td>False</td>\n",
       "    </tr>\n",
       "  </tbody>\n",
       "</table>\n",
       "</div>"
      ],
      "text/plain": [
       "                                                   ItemsList  \\\n",
       "InvoiceNo                                                      \n",
       "489434     [85048, 79323, 79323, 22041, 21232, 22064, 218...   \n",
       "489435                          [22350, 22349, 22195, 22353]   \n",
       "489436     [48173, 21755, 21754, 84879, 22119, 22142, 222...   \n",
       "489437     [22143, 22145, 22130, 21364, 21360, 21351, 213...   \n",
       "489438     [21329, 21252, 21100, 21033, 20711, 21410, 214...   \n",
       "\n",
       "           TotalNumberofItems         InvoiceDate  AverageItemPrice  \\\n",
       "InvoiceNo                                                             \n",
       "489434                    166 2009-12-01 07:45:00             4.081   \n",
       "489435                     60 2009-12-01 07:46:00             2.625   \n",
       "489436                    193 2009-12-01 09:06:00             3.731   \n",
       "489437                    145 2009-12-01 09:08:00             3.628   \n",
       "489438                    826 2009-12-01 09:24:00             2.591   \n",
       "\n",
       "           CustomerID         Country  TotalOrderPrice  IsCanceled  \n",
       "InvoiceNo                                                           \n",
       "489434      13085.000  United Kingdom          505.300       False  \n",
       "489435      13085.000  United Kingdom          145.800       False  \n",
       "489436      13078.000  United Kingdom          630.330       False  \n",
       "489437      15362.000  United Kingdom          310.750       False  \n",
       "489438      18102.000  United Kingdom         2286.240       False  "
      ]
     },
     "execution_count": 36,
     "metadata": {},
     "output_type": "execute_result"
    }
   ],
   "source": [
    "templist = ['InvoiceNo', 'StockCode', 'Quantity', 'InvoiceDate', 'UnitPrice', 'CustomerID', 'Country', 'TotalPrice', 'IsCanceled']\n",
    "\n",
    "Orders = df[templist].groupby('InvoiceNo').agg(  ItemsList = ('StockCode', lambda x : list(x)),\n",
    "                                        TotalNumberofItems = ('Quantity', 'sum'),\n",
    "                                        InvoiceDate = ('InvoiceDate', lambda x: x.mode()[0] if not x.mode().empty else None),\n",
    "                                        AverageItemPrice = ('UnitPrice', 'mean'),\n",
    "                                        CustomerID = ('CustomerID', lambda x: x.mode()[0] if not x.mode().empty else None), \n",
    "                                        Country = ('Country', 'first'), \n",
    "                                        TotalOrderPrice = ('TotalPrice', 'sum'),\n",
    "                                        IsCanceled = ('IsCanceled', 'first')\n",
    "                                    )\n",
    "Orders.head()"
   ]
  },
  {
   "cell_type": "code",
   "execution_count": 37,
   "metadata": {},
   "outputs": [
    {
     "name": "stdout",
     "output_type": "stream",
     "text": [
      "<class 'pandas.core.frame.DataFrame'>\n",
      "Index: 48195 entries, 489434 to 581587\n",
      "Data columns (total 8 columns):\n",
      " #   Column              Non-Null Count  Dtype         \n",
      "---  ------              --------------  -----         \n",
      " 0   ItemsList           48195 non-null  object        \n",
      " 1   TotalNumberofItems  48195 non-null  int64         \n",
      " 2   InvoiceDate         48195 non-null  datetime64[ns]\n",
      " 3   AverageItemPrice    48195 non-null  float64       \n",
      " 4   CustomerID          44776 non-null  float64       \n",
      " 5   Country             48195 non-null  object        \n",
      " 6   TotalOrderPrice     48195 non-null  float64       \n",
      " 7   IsCanceled          48195 non-null  bool          \n",
      "dtypes: bool(1), datetime64[ns](1), float64(3), int64(1), object(2)\n",
      "memory usage: 3.0+ MB\n"
     ]
    }
   ],
   "source": [
    "Orders.info()"
   ]
  },
  {
   "cell_type": "code",
   "execution_count": 38,
   "metadata": {},
   "outputs": [
    {
     "name": "stdout",
     "output_type": "stream",
     "text": [
      "orders table null percents:\n"
     ]
    },
    {
     "data": {
      "text/plain": [
       "ItemsList            0.000\n",
       "TotalNumberofItems   0.000\n",
       "InvoiceDate          0.000\n",
       "AverageItemPrice     0.000\n",
       "CustomerID           7.094\n",
       "Country              0.000\n",
       "TotalOrderPrice      0.000\n",
       "IsCanceled           0.000\n",
       "dtype: float64"
      ]
     },
     "execution_count": 38,
     "metadata": {},
     "output_type": "execute_result"
    }
   ],
   "source": [
    "print('orders table null percents:')\n",
    "Orders.isnull().sum()/Orders.shape[0]*100"
   ]
  },
  {
   "cell_type": "code",
   "execution_count": 39,
   "metadata": {},
   "outputs": [
    {
     "data": {
      "text/html": [
       "<div>\n",
       "<style scoped>\n",
       "    .dataframe tbody tr th:only-of-type {\n",
       "        vertical-align: middle;\n",
       "    }\n",
       "\n",
       "    .dataframe tbody tr th {\n",
       "        vertical-align: top;\n",
       "    }\n",
       "\n",
       "    .dataframe thead th {\n",
       "        text-align: right;\n",
       "    }\n",
       "</style>\n",
       "<table border=\"1\" class=\"dataframe\">\n",
       "  <thead>\n",
       "    <tr style=\"text-align: right;\">\n",
       "      <th></th>\n",
       "      <th>TotalNumberofItems</th>\n",
       "      <th>InvoiceDate</th>\n",
       "      <th>AverageItemPrice</th>\n",
       "      <th>CustomerID</th>\n",
       "      <th>TotalOrderPrice</th>\n",
       "    </tr>\n",
       "  </thead>\n",
       "  <tbody>\n",
       "    <tr>\n",
       "      <th>count</th>\n",
       "      <td>48195.000</td>\n",
       "      <td>48195</td>\n",
       "      <td>48195.000</td>\n",
       "      <td>44776.000</td>\n",
       "      <td>48195.000</td>\n",
       "    </tr>\n",
       "    <tr>\n",
       "      <th>mean</th>\n",
       "      <td>222.604</td>\n",
       "      <td>2010-12-20 16:10:49.417989376</td>\n",
       "      <td>20.667</td>\n",
       "      <td>15265.061</td>\n",
       "      <td>399.005</td>\n",
       "    </tr>\n",
       "    <tr>\n",
       "      <th>min</th>\n",
       "      <td>-87167.000</td>\n",
       "      <td>2009-12-01 07:45:00</td>\n",
       "      <td>0.010</td>\n",
       "      <td>12346.000</td>\n",
       "      <td>-168469.600</td>\n",
       "    </tr>\n",
       "    <tr>\n",
       "      <th>25%</th>\n",
       "      <td>18.000</td>\n",
       "      <td>2010-06-23 12:37:00</td>\n",
       "      <td>2.085</td>\n",
       "      <td>13777.000</td>\n",
       "      <td>58.200</td>\n",
       "    </tr>\n",
       "    <tr>\n",
       "      <th>50%</th>\n",
       "      <td>109.000</td>\n",
       "      <td>2010-11-28 11:04:00</td>\n",
       "      <td>3.003</td>\n",
       "      <td>15164.000</td>\n",
       "      <td>232.580</td>\n",
       "    </tr>\n",
       "    <tr>\n",
       "      <th>75%</th>\n",
       "      <td>248.000</td>\n",
       "      <td>2011-07-01 13:55:30</td>\n",
       "      <td>4.600</td>\n",
       "      <td>16754.000</td>\n",
       "      <td>427.800</td>\n",
       "    </tr>\n",
       "    <tr>\n",
       "      <th>max</th>\n",
       "      <td>87167.000</td>\n",
       "      <td>2011-12-09 12:50:00</td>\n",
       "      <td>38970.000</td>\n",
       "      <td>18287.000</td>\n",
       "      <td>168469.600</td>\n",
       "    </tr>\n",
       "    <tr>\n",
       "      <th>std</th>\n",
       "      <td>1273.390</td>\n",
       "      <td>NaN</td>\n",
       "      <td>349.147</td>\n",
       "      <td>1719.414</td>\n",
       "      <td>1643.100</td>\n",
       "    </tr>\n",
       "  </tbody>\n",
       "</table>\n",
       "</div>"
      ],
      "text/plain": [
       "       TotalNumberofItems                    InvoiceDate  AverageItemPrice  \\\n",
       "count           48195.000                          48195         48195.000   \n",
       "mean              222.604  2010-12-20 16:10:49.417989376            20.667   \n",
       "min            -87167.000            2009-12-01 07:45:00             0.010   \n",
       "25%                18.000            2010-06-23 12:37:00             2.085   \n",
       "50%               109.000            2010-11-28 11:04:00             3.003   \n",
       "75%               248.000            2011-07-01 13:55:30             4.600   \n",
       "max             87167.000            2011-12-09 12:50:00         38970.000   \n",
       "std              1273.390                            NaN           349.147   \n",
       "\n",
       "       CustomerID  TotalOrderPrice  \n",
       "count   44776.000        48195.000  \n",
       "mean    15265.061          399.005  \n",
       "min     12346.000      -168469.600  \n",
       "25%     13777.000           58.200  \n",
       "50%     15164.000          232.580  \n",
       "75%     16754.000          427.800  \n",
       "max     18287.000       168469.600  \n",
       "std      1719.414         1643.100  "
      ]
     },
     "execution_count": 39,
     "metadata": {},
     "output_type": "execute_result"
    }
   ],
   "source": [
    "Orders.describe()"
   ]
  },
  {
   "cell_type": "code",
   "execution_count": 40,
   "metadata": {},
   "outputs": [],
   "source": [
    "CleanedOrders = Orders.dropna()"
   ]
  },
  {
   "cell_type": "code",
   "execution_count": 41,
   "metadata": {},
   "outputs": [
    {
     "name": "stdout",
     "output_type": "stream",
     "text": [
      "<class 'pandas.core.frame.DataFrame'>\n",
      "Index: 44776 entries, 489434 to 581587\n",
      "Data columns (total 8 columns):\n",
      " #   Column              Non-Null Count  Dtype         \n",
      "---  ------              --------------  -----         \n",
      " 0   ItemsList           44776 non-null  object        \n",
      " 1   TotalNumberofItems  44776 non-null  int64         \n",
      " 2   InvoiceDate         44776 non-null  datetime64[ns]\n",
      " 3   AverageItemPrice    44776 non-null  float64       \n",
      " 4   CustomerID          44776 non-null  float64       \n",
      " 5   Country             44776 non-null  object        \n",
      " 6   TotalOrderPrice     44776 non-null  float64       \n",
      " 7   IsCanceled          44776 non-null  bool          \n",
      "dtypes: bool(1), datetime64[ns](1), float64(3), int64(1), object(2)\n",
      "memory usage: 2.8+ MB\n"
     ]
    }
   ],
   "source": [
    "CleanedOrders.info()"
   ]
  },
  {
   "cell_type": "markdown",
   "metadata": {},
   "source": [
    "I also checked if I can find any CustomerIDs after aggregation of orders, which wasn't succesful: "
   ]
  },
  {
   "cell_type": "code",
   "execution_count": 42,
   "metadata": {},
   "outputs": [
    {
     "data": {
      "text/plain": [
       "InvoiceNo                   0\n",
       "StockCode                   0\n",
       "Description                 0\n",
       "Quantity                    0\n",
       "InvoiceDate                 0\n",
       "UnitPrice                   0\n",
       "CustomerID             229058\n",
       "Country                     0\n",
       "IsCanceled                  0\n",
       "TotalPrice                  0\n",
       "ProductAttribute       903413\n",
       "ItemsList                   0\n",
       "TotalNumberofItems          0\n",
       "InvoiceDate__Orders         0\n",
       "AverageItemPrice            0\n",
       "CustomerID__Orders     229058\n",
       "Country__Orders             0\n",
       "TotalOrderPrice             0\n",
       "IsCanceled__Orders          0\n",
       "dtype: int64"
      ]
     },
     "execution_count": 42,
     "metadata": {},
     "output_type": "execute_result"
    }
   ],
   "source": [
    "#check if we can fill some Customer ID now: \n",
    "df.join(Orders, on ='InvoiceNo', how='left' , rsuffix='__Orders').isnull().sum()"
   ]
  },
  {
   "cell_type": "markdown",
   "metadata": {},
   "source": [
    "## Output Data"
   ]
  },
  {
   "cell_type": "code",
   "execution_count": 43,
   "metadata": {},
   "outputs": [],
   "source": [
    "#Save the Order\n",
    "Orders.to_csv('./Data/Orders.CSV')\n",
    "CleanedOrders.to_csv('./Data/CleanedOrders.CSV')"
   ]
  },
  {
   "cell_type": "code",
   "execution_count": 44,
   "metadata": {},
   "outputs": [],
   "source": [
    "#Saving all data\n",
    "df.to_csv('./Data/CleanedOrderItemRecords_.csv',  index=False, compression='gzip')\n",
    "NonNulldf = df.dropna(subset=['CustomerID'])\n",
    "NonNulldf.to_csv('./Data/NonNullOrderItemRecords_.csv',  index=False, compression='gzip')"
   ]
  }
 ],
 "metadata": {
  "kernelspec": {
   "display_name": "Python 3",
   "language": "python",
   "name": "python3"
  },
  "language_info": {
   "codemirror_mode": {
    "name": "ipython",
    "version": 3
   },
   "file_extension": ".py",
   "mimetype": "text/x-python",
   "name": "python",
   "nbconvert_exporter": "python",
   "pygments_lexer": "ipython3",
   "version": "3.11.7"
  }
 },
 "nbformat": 4,
 "nbformat_minor": 2
}
