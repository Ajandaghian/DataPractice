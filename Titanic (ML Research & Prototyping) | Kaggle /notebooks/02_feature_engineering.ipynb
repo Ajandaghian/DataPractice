{
 "cells": [
  {
   "cell_type": "markdown",
   "id": "4cbf66e6",
   "metadata": {},
   "source": [
    "<div style=\"text-align:center; font-size: 48px;\">Titanic Competition Kaggle</div>\n",
    "<div style=\"text-align:center; font-size: 36px;\">Feature Engineering</div>"
   ]
  },
  {
   "cell_type": "code",
   "execution_count": 1,
   "id": "26cfba0b",
   "metadata": {},
   "outputs": [],
   "source": [
    "import pandas as pd"
   ]
  },
  {
   "cell_type": "markdown",
   "id": "64ec0ef9",
   "metadata": {},
   "source": [
    "# 1. Reload raw data"
   ]
  },
  {
   "cell_type": "code",
   "execution_count": 2,
   "id": "0edac2e4",
   "metadata": {},
   "outputs": [],
   "source": [
    "train_df = pd.read_csv('../data/raw/train.csv')\n",
    "test_df = pd.read_csv('../data/raw/test.csv')"
   ]
  },
  {
   "cell_type": "code",
   "execution_count": 3,
   "id": "caa3f451",
   "metadata": {},
   "outputs": [
    {
     "name": "stdout",
     "output_type": "stream",
     "text": [
      "PassengerId      int64\n",
      "Survived         int64\n",
      "Pclass           int64\n",
      "Name            object\n",
      "Sex             object\n",
      "Age            float64\n",
      "SibSp            int64\n",
      "Parch            int64\n",
      "Ticket          object\n",
      "Fare           float64\n",
      "Cabin           object\n",
      "Embarked        object\n",
      "dtype: object\n"
     ]
    }
   ],
   "source": [
    "print(train_df.dtypes)"
   ]
  },
  {
   "cell_type": "code",
   "execution_count": 4,
   "id": "96fd43c2",
   "metadata": {},
   "outputs": [
    {
     "data": {
      "text/plain": [
       "['PassengerId',\n",
       " 'Pclass',\n",
       " 'Name',\n",
       " 'Sex',\n",
       " 'Age',\n",
       " 'SibSp',\n",
       " 'Parch',\n",
       " 'Ticket',\n",
       " 'Fare',\n",
       " 'Cabin',\n",
       " 'Embarked']"
      ]
     },
     "execution_count": 4,
     "metadata": {},
     "output_type": "execute_result"
    }
   ],
   "source": [
    "test_df.columns.tolist()"
   ]
  },
  {
   "cell_type": "markdown",
   "id": "d3c596cd",
   "metadata": {},
   "source": [
    "# 2. Handle missing values"
   ]
  },
  {
   "cell_type": "code",
   "execution_count": 5,
   "id": "356f01f5",
   "metadata": {},
   "outputs": [],
   "source": [
    "MEDIAN_AGE = train_df['Age'].median()  # Default median age for filling missing values in the 'Age' column\n",
    "EMBARKED_MODE = train_df['Embarked'].mode()[0]  # Default mode for filling missing values in the 'Embarked' column"
   ]
  },
  {
   "cell_type": "code",
   "execution_count": 6,
   "id": "705a4141",
   "metadata": {},
   "outputs": [
    {
     "data": {
      "text/plain": [
       "(28.0, 'S')"
      ]
     },
     "execution_count": 6,
     "metadata": {},
     "output_type": "execute_result"
    }
   ],
   "source": [
    "MEDIAN_AGE, EMBARKED_MODE"
   ]
  },
  {
   "cell_type": "code",
   "execution_count": 7,
   "id": "f33c5614",
   "metadata": {},
   "outputs": [],
   "source": [
    "def fill_missing_values(df: pd.DataFrame, median_age=MEDIAN_AGE, embarked_mode=EMBARKED_MODE) -> pd.DataFrame:\n",
    "\n",
    "    #Age\n",
    "    df['Age'].fillna(median_age, inplace=True)\n",
    "\n",
    "    #Cabin - drop column\n",
    "    df.drop(columns=['Cabin'], inplace=True)\n",
    "    \n",
    "    #Fare\n",
    "    df['Fare'] = df['Fare'].fillna(\n",
    "        df.groupby('Pclass')['Fare'].transform('median')\n",
    "    )\n",
    "\n",
    "    #Embarked\n",
    "    df['Embarked'].fillna(embarked_mode, inplace=True)\n",
    "    \n",
    "    return df"
   ]
  },
  {
   "cell_type": "markdown",
   "id": "6052db1c",
   "metadata": {},
   "source": [
    "# 3. Preprocessing"
   ]
  },
  {
   "cell_type": "code",
   "execution_count": 8,
   "id": "84ab41ce",
   "metadata": {},
   "outputs": [
    {
     "data": {
      "application/vnd.microsoft.datawrangler.viewer.v0+json": {
       "columns": [
        {
         "name": "Pclass",
         "rawType": "int64",
         "type": "integer"
        },
        {
         "name": "Upper_Bound",
         "rawType": "float64",
         "type": "float"
        },
        {
         "name": "Lower_Bound",
         "rawType": "float64",
         "type": "float"
        }
       ],
       "ref": "b01a2149-6eef-43de-94e2-9666940a1dff",
       "rows": [
        [
         "1",
         "187.37",
         "0.0"
        ],
        [
         "2",
         "45.5",
         "0.0"
        ],
        [
         "3",
         "27.125",
         "0.0"
        ]
       ],
       "shape": {
        "columns": 2,
        "rows": 3
       }
      },
      "text/html": [
       "<div>\n",
       "<style scoped>\n",
       "    .dataframe tbody tr th:only-of-type {\n",
       "        vertical-align: middle;\n",
       "    }\n",
       "\n",
       "    .dataframe tbody tr th {\n",
       "        vertical-align: top;\n",
       "    }\n",
       "\n",
       "    .dataframe thead th {\n",
       "        text-align: right;\n",
       "    }\n",
       "</style>\n",
       "<table border=\"1\" class=\"dataframe\">\n",
       "  <thead>\n",
       "    <tr style=\"text-align: right;\">\n",
       "      <th></th>\n",
       "      <th>Upper_Bound</th>\n",
       "      <th>Lower_Bound</th>\n",
       "    </tr>\n",
       "    <tr>\n",
       "      <th>Pclass</th>\n",
       "      <th></th>\n",
       "      <th></th>\n",
       "    </tr>\n",
       "  </thead>\n",
       "  <tbody>\n",
       "    <tr>\n",
       "      <th>1</th>\n",
       "      <td>187.370</td>\n",
       "      <td>0.0</td>\n",
       "    </tr>\n",
       "    <tr>\n",
       "      <th>2</th>\n",
       "      <td>45.500</td>\n",
       "      <td>0.0</td>\n",
       "    </tr>\n",
       "    <tr>\n",
       "      <th>3</th>\n",
       "      <td>27.125</td>\n",
       "      <td>0.0</td>\n",
       "    </tr>\n",
       "  </tbody>\n",
       "</table>\n",
       "</div>"
      ],
      "text/plain": [
       "        Upper_Bound  Lower_Bound\n",
       "Pclass                          \n",
       "1           187.370          0.0\n",
       "2            45.500          0.0\n",
       "3            27.125          0.0"
      ]
     },
     "execution_count": 8,
     "metadata": {},
     "output_type": "execute_result"
    }
   ],
   "source": [
    "#Caps outliers based on Pclass\n",
    "fare_bounds = train_df.groupby('Pclass')['Fare'].agg(\n",
    "    Q1=lambda x: x.quantile(0.25),\n",
    "    Q3=lambda x: x.quantile(0.75)\n",
    ").round(2)\n",
    "\n",
    "fare_bounds['IQR'] = fare_bounds['Q3'] - fare_bounds['Q1']\n",
    "fare_bounds['Upper_Bound'] = fare_bounds['Q3'] + 1.5 * fare_bounds['IQR']\n",
    "fare_bounds['Lower_Bound'] = (fare_bounds['Q1'] - 1.5 * fare_bounds['IQR']).clip(lower=0)\n",
    "\n",
    "fare_bounds.drop(columns=['Q1', 'Q3', 'IQR'], inplace=True)\n",
    "fare_bounds"
   ]
  },
  {
   "cell_type": "code",
   "execution_count": 9,
   "id": "706ff6f3",
   "metadata": {},
   "outputs": [],
   "source": [
    "# mapping titles to categories\n",
    "title_mapping = {\n",
    "    'Mr': 'Mr',\n",
    "    'Mrs': 'Mrs',\n",
    "    'Miss': 'Miss',\n",
    "    'Ms': 'Miss',         # converting 'Ms' to 'Miss' for consistency\n",
    "    'Mlle': 'Miss',       # old French title for Miss\n",
    "    'Master': 'Master',\n",
    "    'Dr': 'Rare',\n",
    "    'Rev': 'Rare',\n",
    "    'Col': 'Rare',\n",
    "    'Major': 'Rare',\n",
    "    'Capt': 'Rare',\n",
    "    'Sir': 'Mr',\n",
    "    'Lady': 'Miss',\n",
    "    'Don': 'Rare',\n",
    "    'the Countess': 'Rare',\n",
    "    'Jonkheer': 'Rare', \n",
    "    'Mme': 'Mrs',         # French title for Mrs\n",
    "    'Dona': 'Mrs'         # Portuguese title for Mrs\n",
    "}"
   ]
  },
  {
   "cell_type": "code",
   "execution_count": 10,
   "id": "ab7218c0",
   "metadata": {},
   "outputs": [],
   "source": [
    "def preprocess_data(df: pd.DataFrame) -> pd.DataFrame:\n",
    "    \n",
    "    #Sex\n",
    "    df['Sex'] = df['Sex'].map({'male': 0, 'female': 1})\n",
    "    \n",
    "    \n",
    "    #Fare Capping    \n",
    "    for i in range(1, 4):\n",
    "        df.loc[\n",
    "            (df['Pclass'] == i) & (df['Fare'] > fare_bounds.loc[i, 'Upper_Bound']),\n",
    "            'Fare'\n",
    "        ] = fare_bounds.loc[i, 'Upper_Bound']\n",
    "    \n",
    "    \n",
    "    #Embarked \n",
    "    df['Embarked'] = df['Embarked'].map({'C': 0, 'Q': 1, 'S': 2})\n",
    "    \n",
    "    #Name\n",
    "    df['Title'] = df['Name'].str.split(',').str[1].str.split('.').str[0].str.strip()\n",
    "    df['Title'] = df['Title'].map(title_mapping)\n",
    "        \n",
    "    return df"
   ]
  },
  {
   "cell_type": "markdown",
   "id": "778e37f6",
   "metadata": {},
   "source": [
    "# 4. Feature engineering"
   ]
  },
  {
   "cell_type": "code",
   "execution_count": 11,
   "id": "5eaad587",
   "metadata": {},
   "outputs": [],
   "source": [
    "def feature_engineering(df: pd.DataFrame) -> pd.DataFrame:\n",
    "    \n",
    "    #age\n",
    "    df['AgeGroup'] = pd.cut(df['Age'], bins=[0, 12, 18, 35, 60, 100], labels= [0, 1, 2, 3, 4]) #['Child', 'Teen', 'Young', 'Adult', 'Senior']\n",
    "    \n",
    "    #sibsp & parch\n",
    "    df['isfamilyonboard'] = (df['SibSp'] > 0) | (df['Parch'] > 0)\n",
    "    df['isfamilyonboard'] = df['isfamilyonboard'].map({True: 1, False: 0})\n",
    "\n",
    "    #ticket\n",
    "    df['TicketGroupSize'] = df.groupby('Ticket')['Ticket'].transform('count')\n",
    "    \n",
    "    #title\n",
    "    dummies = pd.get_dummies(df['Title'], prefix='Title', drop_first=True).astype(int)\n",
    "    df = df.join(dummies)\n",
    "\n",
    "    #drop columns\n",
    "    df.drop(columns=['Name', 'SibSp', 'Parch', 'Ticket'], inplace=True)\n",
    "\n",
    "    return df"
   ]
  },
  {
   "cell_type": "code",
   "execution_count": 12,
   "id": "2701ce8a",
   "metadata": {},
   "outputs": [
    {
     "name": "stdout",
     "output_type": "stream",
     "text": [
      "<class 'pandas.core.frame.DataFrame'>\n",
      "RangeIndex: 891 entries, 0 to 890\n",
      "Data columns (total 15 columns):\n",
      " #   Column           Non-Null Count  Dtype   \n",
      "---  ------           --------------  -----   \n",
      " 0   PassengerId      891 non-null    int64   \n",
      " 1   Survived         891 non-null    int64   \n",
      " 2   Pclass           891 non-null    int64   \n",
      " 3   Sex              891 non-null    int64   \n",
      " 4   Age              891 non-null    float64 \n",
      " 5   Fare             891 non-null    float64 \n",
      " 6   Embarked         891 non-null    int64   \n",
      " 7   Title            891 non-null    object  \n",
      " 8   AgeGroup         891 non-null    category\n",
      " 9   isfamilyonboard  891 non-null    int64   \n",
      " 10  TicketGroupSize  891 non-null    int64   \n",
      " 11  Title_Miss       891 non-null    int64   \n",
      " 12  Title_Mr         891 non-null    int64   \n",
      " 13  Title_Mrs        891 non-null    int64   \n",
      " 14  Title_Rare       891 non-null    int64   \n",
      "dtypes: category(1), float64(2), int64(11), object(1)\n",
      "memory usage: 98.7+ KB\n"
     ]
    },
    {
     "name": "stderr",
     "output_type": "stream",
     "text": [
      "/var/folders/2n/xc_5x6ys00q7kj5lcfn2s10r0000gn/T/ipykernel_20270/1292523778.py:4: FutureWarning: A value is trying to be set on a copy of a DataFrame or Series through chained assignment using an inplace method.\n",
      "The behavior will change in pandas 3.0. This inplace method will never work because the intermediate object on which we are setting values always behaves as a copy.\n",
      "\n",
      "For example, when doing 'df[col].method(value, inplace=True)', try using 'df.method({col: value}, inplace=True)' or df[col] = df[col].method(value) instead, to perform the operation inplace on the original object.\n",
      "\n",
      "\n",
      "  df['Age'].fillna(median_age, inplace=True)\n",
      "/var/folders/2n/xc_5x6ys00q7kj5lcfn2s10r0000gn/T/ipykernel_20270/1292523778.py:15: FutureWarning: A value is trying to be set on a copy of a DataFrame or Series through chained assignment using an inplace method.\n",
      "The behavior will change in pandas 3.0. This inplace method will never work because the intermediate object on which we are setting values always behaves as a copy.\n",
      "\n",
      "For example, when doing 'df[col].method(value, inplace=True)', try using 'df.method({col: value}, inplace=True)' or df[col] = df[col].method(value) instead, to perform the operation inplace on the original object.\n",
      "\n",
      "\n",
      "  df['Embarked'].fillna(embarked_mode, inplace=True)\n"
     ]
    }
   ],
   "source": [
    "train_df = fill_missing_values(train_df)\n",
    "train_df = preprocess_data(train_df)\n",
    "train_df = feature_engineering(train_df)\n",
    "train_df.info()"
   ]
  },
  {
   "cell_type": "code",
   "execution_count": 13,
   "id": "5796f946",
   "metadata": {},
   "outputs": [
    {
     "name": "stdout",
     "output_type": "stream",
     "text": [
      "<class 'pandas.core.frame.DataFrame'>\n",
      "RangeIndex: 418 entries, 0 to 417\n",
      "Data columns (total 14 columns):\n",
      " #   Column           Non-Null Count  Dtype   \n",
      "---  ------           --------------  -----   \n",
      " 0   PassengerId      418 non-null    int64   \n",
      " 1   Pclass           418 non-null    int64   \n",
      " 2   Sex              418 non-null    int64   \n",
      " 3   Age              418 non-null    float64 \n",
      " 4   Fare             418 non-null    float64 \n",
      " 5   Embarked         418 non-null    int64   \n",
      " 6   Title            418 non-null    object  \n",
      " 7   AgeGroup         418 non-null    category\n",
      " 8   isfamilyonboard  418 non-null    int64   \n",
      " 9   TicketGroupSize  418 non-null    int64   \n",
      " 10  Title_Miss       418 non-null    int64   \n",
      " 11  Title_Mr         418 non-null    int64   \n",
      " 12  Title_Mrs        418 non-null    int64   \n",
      " 13  Title_Rare       418 non-null    int64   \n",
      "dtypes: category(1), float64(2), int64(10), object(1)\n",
      "memory usage: 43.2+ KB\n"
     ]
    },
    {
     "name": "stderr",
     "output_type": "stream",
     "text": [
      "/var/folders/2n/xc_5x6ys00q7kj5lcfn2s10r0000gn/T/ipykernel_20270/1292523778.py:4: FutureWarning: A value is trying to be set on a copy of a DataFrame or Series through chained assignment using an inplace method.\n",
      "The behavior will change in pandas 3.0. This inplace method will never work because the intermediate object on which we are setting values always behaves as a copy.\n",
      "\n",
      "For example, when doing 'df[col].method(value, inplace=True)', try using 'df.method({col: value}, inplace=True)' or df[col] = df[col].method(value) instead, to perform the operation inplace on the original object.\n",
      "\n",
      "\n",
      "  df['Age'].fillna(median_age, inplace=True)\n",
      "/var/folders/2n/xc_5x6ys00q7kj5lcfn2s10r0000gn/T/ipykernel_20270/1292523778.py:15: FutureWarning: A value is trying to be set on a copy of a DataFrame or Series through chained assignment using an inplace method.\n",
      "The behavior will change in pandas 3.0. This inplace method will never work because the intermediate object on which we are setting values always behaves as a copy.\n",
      "\n",
      "For example, when doing 'df[col].method(value, inplace=True)', try using 'df.method({col: value}, inplace=True)' or df[col] = df[col].method(value) instead, to perform the operation inplace on the original object.\n",
      "\n",
      "\n",
      "  df['Embarked'].fillna(embarked_mode, inplace=True)\n"
     ]
    }
   ],
   "source": [
    "test_df = fill_missing_values(test_df)\n",
    "test_df = preprocess_data(test_df)\n",
    "test_df = feature_engineering(test_df)\n",
    "test_df.info()"
   ]
  },
  {
   "cell_type": "markdown",
   "id": "91e85482",
   "metadata": {},
   "source": [
    "# 5. Save processed data to `/data/processed/`"
   ]
  },
  {
   "cell_type": "code",
   "execution_count": 14,
   "id": "a2eec442",
   "metadata": {},
   "outputs": [],
   "source": [
    "train_df.to_csv('../data/processed/train_processed.csv', index=False)\n",
    "test_df.to_csv('../data/processed/test_processed.csv', index=False)"
   ]
  }
 ],
 "metadata": {
  "kernelspec": {
   "display_name": "ds_proj",
   "language": "python",
   "name": "python3"
  },
  "language_info": {
   "codemirror_mode": {
    "name": "ipython",
    "version": 3
   },
   "file_extension": ".py",
   "mimetype": "text/x-python",
   "name": "python",
   "nbconvert_exporter": "python",
   "pygments_lexer": "ipython3",
   "version": "3.12.11"
  }
 },
 "nbformat": 4,
 "nbformat_minor": 5
}
